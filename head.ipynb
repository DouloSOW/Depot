{
 "cells": [
  {
   "cell_type": "code",
   "execution_count": 17,
   "id": "17ff13de",
   "metadata": {},
   "outputs": [
    {
     "name": "stdout",
     "output_type": "stream",
     "text": [
      "Head : Tout est ok ! \n"
     ]
    }
   ],
   "source": [
    "#IgnoRer les warning\n",
    "import warnings\n",
    "warnings.filterwarnings(\"ignore\")\n",
    "#Pour la table des matières\n",
    "from jyquickhelper import add_notebook_menu\n",
    "#Pour les api et données requetables\n",
    "import requests\n",
    "####################################################Les packages nécessaires###################################################\n",
    "import pandas as pd\n",
    "import numpy as np\n",
    "# Import seaborn\n",
    "import seaborn as sns\n",
    "#default theme\n",
    "sns.set_theme()\n",
    "import matplotlib.pyplot as plt\n",
    "%matplotlib inline\n",
    "#import sklearn\n",
    "import sklearn as sk\n",
    "################################################################################################################################\n",
    "#Pour afficher toutes les colonnes des bases de données \n",
    "pd.set_option('display.max_columns', None)\n",
    "pd.set_option('display.max_rows', 10)\n",
    "\n",
    "\n",
    "print('Head : Tout est ok ! ') "
   ]
  }
 ],
 "metadata": {
  "kernelspec": {
   "display_name": "Python 3 (ipykernel)",
   "language": "python",
   "name": "python3"
  },
  "language_info": {
   "codemirror_mode": {
    "name": "ipython",
    "version": 3
   },
   "file_extension": ".py",
   "mimetype": "text/x-python",
   "name": "python",
   "nbconvert_exporter": "python",
   "pygments_lexer": "ipython3",
   "version": "3.9.7"
  }
 },
 "nbformat": 4,
 "nbformat_minor": 5
}
