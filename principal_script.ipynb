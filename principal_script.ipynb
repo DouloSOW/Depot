{
 "cells": [
  {
   "attachments": {},
   "cell_type": "markdown",
   "id": "f82a0fdb",
   "metadata": {},
   "source": [
    "<div style =\"border: blue solid 1px;\n",
    "             font-family: cambria;\n",
    "             box-shadow: 0px 0px 100px rgba(0, 0, 0, 0.5);\n",
    "             background-image: url(1.jpg);\n",
    "             height: 100%;\n",
    "             width: 100%;\">\n",
    "<center>\n",
    "<a href=\"#\" >\n",
    "    <h1> <font color=\"white\">PROJET DE PYTHON 2A - ENSAE IP Paris</font> </h1> \n",
    "    <h2> <font color=\"white\">Thème : Determinants des choix d'orientation des etudiants dans les etablissments d'enseignement superieur</font> </h2> \n",
    "<a href=\"#\" >\n",
    "    <img src=\"ensae_picture.PNG\" style=\"float:right; max-width: 190px; display: inline\" alt=\"ENSAE ; height: 100%;\" /></a>     \n",
    "</center>\n",
    "</div>"
   ]
  },
  {
   "cell_type": "code",
   "execution_count": 3,
   "id": "ec1ea7ad",
   "metadata": {},
   "outputs": [
    {
     "data": {
      "text/html": [
       "<div id=\"my_id_menu_nb\">run previous cell, wait for 2 seconds</div>\n",
       "<script>\n",
       "function repeat_indent_string(n){\n",
       "    var a = \"\" ;\n",
       "    for ( ; n > 0 ; --n)\n",
       "        a += \"    \";\n",
       "    return a;\n",
       "}\n",
       "// look up into all sections and builds an automated menu //\n",
       "var update_menu_string = function(begin, lfirst, llast, sformat, send, keep_item, begin_format, end_format) {\n",
       "    var anchors = document.getElementsByClassName(\"section\");\n",
       "    if (anchors.length == 0) {\n",
       "        anchors = document.getElementsByClassName(\"text_cell_render rendered_html\");\n",
       "    }\n",
       "    var i,t;\n",
       "    var text_menu = begin;\n",
       "    var text_memo = \"<pre>\\nlength:\" + anchors.length + \"\\n\";\n",
       "    var ind = \"\";\n",
       "    var memo_level = 1;\n",
       "    var href;\n",
       "    var tags = [];\n",
       "    var main_item = 0;\n",
       "    var format_open = 0;\n",
       "    for (i = 0; i <= llast; i++)\n",
       "        tags.push(\"h\" + i);\n",
       "\n",
       "    for (i = 0; i < anchors.length; i++) {\n",
       "        text_memo += \"**\" + anchors[i].id + \"--\\n\";\n",
       "\n",
       "        var child = null;\n",
       "        for(t = 0; t < tags.length; t++) {\n",
       "            var r = anchors[i].getElementsByTagName(tags[t]);\n",
       "            if (r.length > 0) {\n",
       "child = r[0];\n",
       "break;\n",
       "            }\n",
       "        }\n",
       "        if (child == null) {\n",
       "            text_memo += \"null\\n\";\n",
       "            continue;\n",
       "        }\n",
       "        if (anchors[i].hasAttribute(\"id\")) {\n",
       "            // when converted in RST\n",
       "            href = anchors[i].id;\n",
       "            text_memo += \"#1-\" + href;\n",
       "            // passer à child suivant (le chercher)\n",
       "        }\n",
       "        else if (child.hasAttribute(\"id\")) {\n",
       "            // in a notebook\n",
       "            href = child.id;\n",
       "            text_memo += \"#2-\" + href;\n",
       "        }\n",
       "        else {\n",
       "            text_memo += \"#3-\" + \"*\" + \"\\n\";\n",
       "            continue;\n",
       "        }\n",
       "        var title = child.textContent;\n",
       "        var level = parseInt(child.tagName.substring(1,2));\n",
       "\n",
       "        text_memo += \"--\" + level + \"?\" + lfirst + \"--\" + title + \"\\n\";\n",
       "\n",
       "        if ((level < lfirst) || (level > llast)) {\n",
       "            continue ;\n",
       "        }\n",
       "        if (title.endsWith('¶')) {\n",
       "            title = title.substring(0,title.length-1).replace(\"<\", \"&lt;\")\n",
       "         .replace(\">\", \"&gt;\").replace(\"&\", \"&amp;\");\n",
       "        }\n",
       "        if (title.length == 0) {\n",
       "            continue;\n",
       "        }\n",
       "\n",
       "        while (level < memo_level) {\n",
       "            text_menu += end_format + \"</ul>\\n\";\n",
       "            format_open -= 1;\n",
       "            memo_level -= 1;\n",
       "        }\n",
       "        if (level == lfirst) {\n",
       "            main_item += 1;\n",
       "        }\n",
       "        if (keep_item != -1 && main_item != keep_item + 1) {\n",
       "            // alert(main_item + \" - \" + level + \" - \" + keep_item);\n",
       "            continue;\n",
       "        }\n",
       "        while (level > memo_level) {\n",
       "            text_menu += \"<ul>\\n\";\n",
       "            memo_level += 1;\n",
       "        }\n",
       "        text_menu += repeat_indent_string(level-2);\n",
       "        text_menu += begin_format + sformat.replace(\"__HREF__\", href).replace(\"__TITLE__\", title);\n",
       "        format_open += 1;\n",
       "    }\n",
       "    while (1 < memo_level) {\n",
       "        text_menu += end_format + \"</ul>\\n\";\n",
       "        memo_level -= 1;\n",
       "        format_open -= 1;\n",
       "    }\n",
       "    text_menu += send;\n",
       "    //text_menu += \"\\n\" + text_memo;\n",
       "\n",
       "    while (format_open > 0) {\n",
       "        text_menu += end_format;\n",
       "        format_open -= 1;\n",
       "    }\n",
       "    return text_menu;\n",
       "};\n",
       "var update_menu = function() {\n",
       "    var sbegin = \"\";\n",
       "    var sformat = '<a href=\"#__HREF__\">__TITLE__</a>';\n",
       "    var send = \"\";\n",
       "    var begin_format = '<li>';\n",
       "    var end_format = '</li>';\n",
       "    var keep_item = -1;\n",
       "    var text_menu = update_menu_string(sbegin, 2, 4, sformat, send, keep_item,\n",
       "       begin_format, end_format);\n",
       "    var menu = document.getElementById(\"my_id_menu_nb\");\n",
       "    menu.innerHTML=text_menu;\n",
       "};\n",
       "window.setTimeout(update_menu,2000);\n",
       "            </script>"
      ],
      "text/plain": [
       "<IPython.core.display.HTML object>"
      ]
     },
     "execution_count": 3,
     "metadata": {},
     "output_type": "execute_result"
    }
   ],
   "source": [
    "#Appel du notebook contenant les packages\n",
    "%run ./head.ipynb\n",
    "add_notebook_menu()"
   ]
  },
  {
   "cell_type": "raw",
   "id": "49263400",
   "metadata": {
    "scrolled": true
   },
   "source": [
    "# PLAN\n",
    "\n",
    "Introduction et Présentation du projet\n",
    "\n",
    "Ce projet entre dans le cadre de l'évaluation du cours de Python suivi en deuxième année du cycle Ingénieur de l'ENSAE Paris IP-Paris. L'objectif principal\n",
    "\n",
    "\n",
    "Partie : \n",
    "    \n",
    "Objectif principal : Comprendre les facteurs explicatifs des choix d'orientation des étudiants\n",
    "\n",
    "Objectifs spécifiques :\n",
    "\n",
    "\t- Dresser les profils des etudiants;\n",
    "\t- caracteriser des etablissments demandés;\n",
    "\t- expliquer le choix d'orientation des etudiants.\n",
    "\n",
    "Plan d'étude : \n",
    "\t- Récupération et traitement des données\n",
    "\t- Analyse descriptive\n",
    "\t\t- uni\n",
    "\t\t- multi\n",
    "\t- Modélisation \n"
   ]
  },
  {
   "cell_type": "code",
   "execution_count": null,
   "id": "8a5980ae",
   "metadata": {},
   "outputs": [],
   "source": [
    "#Ajout de ligne"
   ]
  },
  {
   "cell_type": "markdown",
   "id": "064c7bb9",
   "metadata": {},
   "source": [
    "## <center>1. Importation des données</center>"
   ]
  },
  {
   "cell_type": "code",
   "execution_count": null,
   "id": "ae922fa0",
   "metadata": {},
   "outputs": [],
   "source": [
    "#Racine principale de récupération des données\n",
    "glob_path = \"https://data.enseignementsup-recherche.gouv.fr/api/records/1.0/search/?dataset=\""
   ]
  },
  {
   "cell_type": "markdown",
   "id": "52818fcc",
   "metadata": {},
   "source": [
    "### 1.2 Vœux de poursuite d'études et de réorientation dans l'enseignement supérieur et réponses des établissements\n",
    "\n",
    "\n",
    "\n",
    "https://data.enseignementsup-recherche.gouv.fr/explore/dataset/fr-esr-parcoursup/information/"
   ]
  },
  {
   "cell_type": "markdown",
   "id": "61c4d87b",
   "metadata": {},
   "source": [
    "###### On a 12760 lignes d'individus et l'Api ne permet pas de récupérer plus de 10 000 lignes et donc on a troué comme astuce de récupérer selon le type de l'établissement avant de merger les bases\n"
   ]
  },
  {
   "cell_type": "code",
   "execution_count": null,
   "id": "ad19da6a",
   "metadata": {},
   "outputs": [],
   "source": [
    "#Segmentation pour pouvoir tout récupérer car l'API n'autorise pas plus de 10 000 lignes \n",
    "type_etablissement = [\"2_Lyc%C3%A9es\", \"1_Universit%C3%A9s\", \"3_Autres+formations\"]\n"
   ]
  },
  {
   "cell_type": "code",
   "execution_count": null,
   "id": "d2b43d8a",
   "metadata": {},
   "outputs": [],
   "source": [
    "#Le lien de récupération\n",
    "voeux_poursuite = glob_path+\"fr-esr-parcoursup&rows=6020&sort=tri&facet=session&facet=contrat_etab&facet=cod_uai&facet=g_ea_lib_vx&facet=dep_lib&facet=region_etab_aff&facet=acad_mies&facet=select_form&facet=fili&facet=form_lib_voe_acc&facet=regr_forma&facet=fil_lib_voe_acc&facet=detail_forma&facet=tri&facet=cod_aff_form&q=\"\n"
   ]
  },
  {
   "cell_type": "code",
   "execution_count": null,
   "id": "acb19102",
   "metadata": {},
   "outputs": [],
   "source": [
    "#Récupération selon le type d'établissement\n",
    "data_etablissement = [requests.get(voeux_poursuite + type_etablissement[x]) for x in range(3)]"
   ]
  },
  {
   "cell_type": "code",
   "execution_count": null,
   "id": "8c07eee7",
   "metadata": {},
   "outputs": [],
   "source": [
    "#Vérification\n",
    "data_etablissement"
   ]
  },
  {
   "cell_type": "code",
   "execution_count": null,
   "id": "31a66975",
   "metadata": {},
   "outputs": [],
   "source": [
    "#Conversion de json à pd.Dataframe\n",
    "data_etablissement = [pd.json_normalize(x.json()['records'][:]) for x in data_etablissement ]"
   ]
  },
  {
   "cell_type": "code",
   "execution_count": null,
   "id": "4fc4be64",
   "metadata": {},
   "outputs": [],
   "source": [
    "glob_data = pd.concat(data_etablissement)\n",
    "glob_data.columns = [c.replace('fields.', '') for c in list(glob_data.columns) ]"
   ]
  },
  {
   "cell_type": "markdown",
   "id": "67419e95",
   "metadata": {},
   "source": [
    "# -------------------------------------------- DOULO---------------------------"
   ]
  },
  {
   "cell_type": "markdown",
   "id": "1dc01b43",
   "metadata": {},
   "source": [
    "### Fouille des données et Statistiques descriptives "
   ]
  },
  {
   "cell_type": "code",
   "execution_count": null,
   "id": "066e9ad8",
   "metadata": {},
   "outputs": [],
   "source": [
    "glob_data.shape[1]"
   ]
  },
  {
   "cell_type": "code",
   "execution_count": null,
   "id": "bcf975ba",
   "metadata": {},
   "outputs": [],
   "source": [
    "df = glob_data.copy()\n"
   ]
  },
  {
   "cell_type": "code",
   "execution_count": null,
   "id": "b4b99a17",
   "metadata": {},
   "outputs": [],
   "source": [
    "#A utiliser pour comprendre la signification des variables pas explicites : names['varname'] -->signification\n",
    "names = {'session' : 'session' ,\n",
    "        'cod_uai' : 'Identifiant_del_établissement' , \n",
    "        'g_ea_lib_vx' : 'Identifiant del_établissement' , \n",
    "        'dep' : 'code département al del_établisseme nt' , \n",
    "        'dep_lib' : 'département de l_établissement' , \n",
    "        'region_etab_aff' : 'Région de l_établissement' , \n",
    "        'acad_mies' : 'académie de l_établissement' , \n",
    "        'fili':'filière de formation très agrégée',\n",
    "        'contrat_etab':'statut de l_établisseme nt de la filière de formation(public, privé…)', \n",
    "        'lib_for_voe_ins':'filière deformation', \n",
    "        'select_form':'select_fromat : prend 1 si la formation est sélective, 0 sinon',\n",
    "        'lib_comp_voe_ins':'filière de formation détaillée', \n",
    "        'detail_forma':'filière de formationtrès détaillée', \n",
    "        'lien_form_psup':'lien de la formation sur la plateforme parcoursup', \n",
    "        'géolocalisation_ des_formations':'coordonnées gps de la formation', \n",
    "        'capa_fin':'capacité de l_établisseme nt parformation', \n",
    "        'voe_tot':'Effectif total des candidatspour une formation', \n",
    "        'voe_tot_f':'dont effectif des candidatespour une formation', \n",
    "\n",
    "  'nb_voe_pp' : 'Effectif total des candidats en phaseprincipale' ,  \n",
    "  'nb_voe_pp_internat' : 'Effectif total des candidats ayant postulé en internat' ,  \n",
    "  'nb_voe_pp_bg' : 'Effectif des candidats en terminale générale en phase principale' ,  \n",
    "  'nb_voe_pp_bg_brs' : 'dont effectif des candidats boursiers en terminale générale en phase principale' ,  \n",
    "  'nb_voe_pp_bt' : 'Effectif des candidats néo en terminale technologique en phase principale' ,  \n",
    "  'nb_voe_pp_bt_brs' : 'dont effectif des candidats boursiers en terminale technologiqu e en phaseprincipale' ,  \n",
    "  'nb_voe_pp_bp' : 'Effectif des candidats néo bacheliers en terminalepro en phase principale' ,  \n",
    "  'nb_voe_pp_bp_brs' : 'dont effectif des candidats boursiers néo bacheliers en terminale pro en phaseprincipale' ,  \n",
    "  'nb_voe_pp_at' : 'Effectif des autres candidats en phaseprincipale' ,  \n",
    "  'nb_voe_pc' : 'Effectif total des candidats en phasecomplément aire' ,  \n",
    "'nb_voe_pc_bg' : 'Effectif des candidats en terminale générale en' ,\n",
    "  '' : 'phase complémentaire' ,  \n",
    "  'nb_voe_pc_bt' : 'Effectif des candidats en terminale technologiqu e en phase complémentaire' ,  \n",
    "  'nb_voe_pc_bp' : 'Effectif des candidats en terminale pro en phase complémentaire' ,  \n",
    "  'nb_voe_pc_at' : 'Effectifs des autres candidats en phase complémentaire' ,  \n",
    "  'nb_cla_pp' : 'Effectif total des candidats classés par l_établisseme nt en phaseprincipale' ,  \n",
    "  'nb_cla_pc' : 'Effectif des candidats classés par l_établisseme nt en phase complémentaire' ,  \n",
    "  'nb_cla_pp_internat' : 'Effectif des candidats classés par l_établisseme nt en internatcpgE' ,  \n",
    "  'nb_cla_pp_pasinternat' : 'Effectif des candidats classés par l_établisseme nt hors internat(cpgE)' ,  \n",
    "  'nb_cla_pp_bg' : 'Effectif des candidats en terminale générale classés parl_établisseme nt' ,  \n",
    "  'nb_cla_pp_bg_brs' : 'dont effectif des candidats boursiers en terminale générale classés par l_établissement' ,  \n",
    "  'nb_cla_pp_bt' : 'Effectif des candidats en terminale technologiqu e classés par l_établissement' ,  \n",
    "  'nb_cla_pp_bt_brs' : 'dont effectif des candidats boursiers en terminale technologiqu e classés par l_établissement' ,  \n",
    "  'nb_cla_pp_bp' : 'Effectif des candidats en terminale pro classés par l_établissement' ,  \n",
    "  'nb_cla_pp_bp_brs' : 'dont effectif des candidats boursiers en terminale pro classés parl_établisseme nt' ,  \n",
    "  'nb_cla_pp_at' : 'Effectif des autres candidats classés parl_établisseme nt' ,  \n",
    "  'prop_tot' : 'Effectif total des candidats ayant reçu une proposition d_admission de la part del_établisseme nt' ,  \n",
    "  'prop_tot_bg' : 'Effectif des candidats en terminale générale ayant reçu une proposition d_admission de la part de l_établissement' ,  \n",
    "  'prop_tot_bg_brs' : 'dont effectif des candidats boursiers en terminale générale ayant reçu une proposition d_admission de la part de l_établissement' ,  \n",
    "  'prop_tot_bt' : 'Effectif des candidats en terminale technologiqu e ayant reçu une propositiond_admission' ,  \n",
    "  '' : 'de la part de l_établissement' ,  \n",
    "  'prop_tot_bt_brs' : 'dont effectif des candidats boursiers en terminale technologiqu e ayant reçu une proposition d_admission de la part del_établisseme nt' ,  \n",
    "  'prop_tot_bp' : 'Effectif des candidats en terminale professionne lle ayant reçu une proposition d_admission de la part del_établisseme nt' ,  \n",
    "  'prop_tot_bp_brs' : 'dont effectif des candidats boursiers en terminale générale professionnelle ayant reçu une proposition d_admission de la part de l_établissement' ,  \n",
    "  'prop_tot_at' : 'Effectif des autres candidats ayant reçu une proposition d_admission de la part de l_établissement' ,  \n",
    "  'acc_tot' : 'Effectif total des candidats ayant accepté la proposition del_établisseme nt (admis)' ,  \n",
    "  'acc_tot_f' : 'dont effectif des candidates admises' ,  \n",
    "  'acc_pp' : 'Effectif des admis en phase principale' ,  \n",
    "  'acc_pc' : 'Effectif des admis en phase complémentaire' ,  \n",
    "  'acc_internat' : 'dont effectif des admis en internat' ,  \n",
    "  'acc_brs' : 'dont effectif des admis boursiers néo bacheliers' ,  \n",
    "  'acc_debutpp' : 'dont effectif des admis ayant reçu leur proposition d_admission le 15 mai (ouverture pp)' ,  \n",
    "  'acc_datebac' : 'dont effectif des admis ayant reçu leur proposition d_admission avant le baccalauréat (18 juin)' ,  \n",
    "  'acc_finpp' : 'dont effectif des admis ayant reçu leur proposition d_admission avant la fin de la procédure principale (19 juillet)' ,  \n",
    "  'acc_neobac' : 'Effectif des admis néobacheliers' ,  \n",
    "  'acc_bg' : 'Effectif des admis néo bacheliers généraux' ,  \n",
    "  'acc_bt' : 'Effectif des admis néo bacheliers technologiques' ,  \n",
    "  'acc_bp' : 'Effectif des admis néo bacheliers professionnels' ,  \n",
    "  'acc_at' : 'Effectif des autres candidats admis' ,  \n",
    "  'acc_mention_non renseignee' : 'dont effectif des admis néo bacheliers sans information sur la mention au bac' ,  \n",
    "  'acc_sansmention' : 'dont effectif des admis néo bacheliers sans mention au bac' ,  \n",
    "  'acc_ab' : 'dont effectif des admis néo bacheliers avec mention assez Bien au bac' ,  \n",
    "  'acc_b' : 'dont effectif des admis néo bacheliers avec mention Bien au bac' ,  \n",
    "  'acc_tb' : 'dont effectif des admis néo bacheliers avec mention Très Bien au bac' ,  \n",
    "  'acc_bg_mention' : 'Effectif des admis néo bacheliers généraux ayant eu une mention au bac' ,  \n",
    "  'acc_bt_mention' : 'Effectif des admis néo bacheliers technologiqu es ayant eu une mention au bac' ,  \n",
    "  'acc_bp_mention' : 'Effectif des admis néo bacheliers professionne ls ayant eu une mention au bac' ,  \n",
    "  'acc_term' : 'dont effectif des admis néo bacheliers issus du même établissemen t (BTs/cpgE)' ,  \n",
    "  'acc_term_f' : 'dont effectif des admises néo bachelières issues du même établissemen t (BTs/cpgE)' ,  \n",
    "  'acc_aca_orig' : 'dont effectif des admis néo bacheliers issus de la même académie' ,  \n",
    "  'acc_aca_orig_idf' : 'dont effectif des admis néo bacheliers issus de la même académie (paris/crétei l/versailles réunies)' ,  \n",
    "  'pct_f' : '% ayant accepté selon le sexe.' ,\n",
    "  'pct_aca_orig' : '% d_admis néo bacheliers issus de la même académie' ,  \n",
    "  'pct_aca_orig_idf' : '% d_admis néo bacheliers issus de la même académie (paris/créteil/versailles réunies)' ,  \n",
    "  'pct_etab_orig' : '% d_admis néo bacheliers issus du même établissemen t (BTs/cpgE)' ,  \n",
    "  'pct_bours' : '% d_admis néo bacheliers boursiers' ,  \n",
    "  'pct_acc_debutpp' : '% d_admis ayant reçu leur proposition d_admission le 15 mai (ouverturepp)' ,  \n",
    "  'pct_acc_datebac' : '% d_admis ayant reçu leur proposition d_admission avant le baccalauréat (18 juin)' ,  \n",
    "  'pct_acc_finpp' : '% d_admis ayant reçu leur proposition d_admission avant la fin de la procédure principale (19 juillet)' ,  \n",
    "  'pct_neobac' : '% d_admis néobacheliers' ,  \n",
    "  'pct_mention_nonrenseignee' : '% d_admis néo bacheliers sans information sur la mention au bac' ,  \n",
    "  'pct_sansmention' : '% d_admis néo bacheliers sans mention au bac' ,  \n",
    "  'pct_ab' : '% d_admis néo bacheliers avec mention assez Bien au bac' ,  \n",
    "  'pct_b' : '% d_admis néo bacheliers avec mention Bien au bac' ,  \n",
    "  'pct_tb' : '% d_admis néo bacheliers avec mention Très Bien au bac' ,  \n",
    "  'pct_bg' : '% d_admis néo bacheliers généraux' ,  \n",
    "  'pct_bg_mention' : 'dont % d_admis avec mention' ,  \n",
    "  'pct_bt' : '% d_admis néo bacheliers technologiques' ,  \n",
    "  'pct_bt_mention' : 'dont % d_admis avec mention' ,\n",
    "  'pct_bp' : '% d_admis néo bacheliers professionnels' ,  \n",
    "  'pct_bp_mention' : 'dont % d_admis avec mention' ,  \n",
    "  'lib_grp1' : 'Regroupeme nt 1 effectué par les formations pour les classements' ,  \n",
    "  'ran_grp1' : 'Rang du dernier appelé du groupe 1' ,  \n",
    "\n",
    "  'lib_grp2' : 'Regroupement 2 effectué par les formations pour les classements' ,  \n",
    "  'ran_grp2' : 'Rang du dernier appelé du groupe 2' ,  \n",
    "  'lib_grp3' : 'Regroupement 3 effectué par les formations pour les classements' ,  \n",
    "  'ran_grp3' : 'Rang du dernier appelé du groupe 3' ,  \n",
    "  'lib_grp4' : 'Regroupement 4 effectué par les formations pour les classements' ,  \n",
    "  'ran_grp4' : 'Rang du dernier appelé du groupe 4' ,  \n",
    "  'lib_grp5' : 'Regroupement 5 effectué par les formations pour lesc classements' ,  \n",
    "  'ran_grp5' : 'Rang du dernier appelé du groupe 5' ,  \n",
    "'taux_adm_psup' : \"Taux d’accès des candidats ayant postulé à la formation (ratio entre le dernier appelé et le nombre vœux PP)\", \n",
    "'taux_adm_psup_pro' : \"Dont taux d’accès des candidats ayant un bac PRO ayant postulé à la formation\", \n",
    "'taux_adm_psup_gen' : \"Dont taux d’accès des candidats ayant un bac général ayant postulé à la formation\", \n",
    "'taux_adm_psup_techno' : \"Dont taux d’accès des candidats ayant un bac TECHNO ayant postulé à la formation\"\n",
    "         \n",
    "  \n",
    "}\n",
    "\n",
    "\n",
    "\n"
   ]
  },
  {
   "cell_type": "code",
   "execution_count": null,
   "id": "d0a12939",
   "metadata": {},
   "outputs": [],
   "source": [
    "#df = df.rename(columns = names)\n",
    "df"
   ]
  },
  {
   "cell_type": "code",
   "execution_count": null,
   "id": "b8d9bd39",
   "metadata": {},
   "outputs": [],
   "source": [
    "##Modifier les indexes\n",
    "df.set_index('cod_uai',inplace=True)\n"
   ]
  },
  {
   "cell_type": "code",
   "execution_count": null,
   "id": "ec8855da",
   "metadata": {},
   "outputs": [],
   "source": [
    "df.dtypes"
   ]
  },
  {
   "cell_type": "code",
   "execution_count": null,
   "id": "8bdcc6c4",
   "metadata": {},
   "outputs": [],
   "source": [
    "# Stockage des types numériques dans une liste\n",
    "numerics = ['int16', 'int32', 'int64', 'float16', 'float32', 'float64']"
   ]
  },
  {
   "cell_type": "code",
   "execution_count": null,
   "id": "9fc98ce6",
   "metadata": {},
   "outputs": [],
   "source": [
    "# Résumé des variables quentitatives\n",
    "df.select_dtypes(include=numerics).describe()"
   ]
  },
  {
   "cell_type": "code",
   "execution_count": null,
   "id": "b364df02",
   "metadata": {},
   "outputs": [],
   "source": [
    "#Les doublons : par précaution\n",
    "df_without_list = df.drop(['g_olocalisation_des_formations', 'geometry.coordinates'], axis = 1)"
   ]
  },
  {
   "cell_type": "code",
   "execution_count": null,
   "id": "63c19cb8",
   "metadata": {},
   "outputs": [],
   "source": [
    "df_without_list.duplicated().any()"
   ]
  },
  {
   "cell_type": "code",
   "execution_count": null,
   "id": "45ee1048",
   "metadata": {},
   "outputs": [],
   "source": [
    "#Valeurs manquantes ?\n",
    "def miss(df) :\n",
    "    df.isna().sum().sort_values(ascending=False)\n",
    "    missings = pd.DataFrame(df.isna().sum().sort_values(ascending=False))\n",
    "    missings.rename(columns = {0 : 'Effectif'}, inplace = True)\n",
    "    missings['Vars'] = missings.index\n",
    "    missings.reset_index(drop=True, inplace=True)\n",
    "    \n",
    "    missings['Effectif']=missings['Effectif']/glob_data.shape[0]*100\n",
    "    missings.rename(columns = {'Effectif' : 'Pourcentage de valeurs manquantes'}, inplace = True)\n",
    "    return missings"
   ]
  },
  {
   "cell_type": "code",
   "execution_count": null,
   "id": "1a7d7f9a",
   "metadata": {},
   "outputs": [],
   "source": [
    "missings = miss(df)"
   ]
  },
  {
   "cell_type": "code",
   "execution_count": null,
   "id": "e18048a9",
   "metadata": {},
   "outputs": [],
   "source": [
    "#Visualisation \n",
    "def viz_na(missings, seuil) :\n",
    "    plt.subplots(figsize=(10, 12))\n",
    "    sns.set_color_codes(\"pastel\")\n",
    "    sns.barplot(x=\"Pourcentage de valeurs manquantes\", y='Vars', data=missings[missings['Pourcentage de valeurs manquantes']>seuil])\n",
    "    plt.title('Pourcentage (%) des valeurs manquantes pour les variables de la base')\n"
   ]
  },
  {
   "cell_type": "code",
   "execution_count": null,
   "id": "2e70c5a9",
   "metadata": {},
   "outputs": [],
   "source": [
    "viz_na(missings, seuil = 30)"
   ]
  },
  {
   "cell_type": "code",
   "execution_count": null,
   "id": "22e2c9f1",
   "metadata": {},
   "outputs": [],
   "source": [
    "#Suppression des variables \"non pertinentes\"\n",
    "    #Critère 1 : sum(NA)>30%\n",
    "var_del1 = list(missings[missings['Pourcentage de valeurs manquantes']>30]['Vars'])\n",
    "    #Critère 2 : \"pas itules pour l'analyse actuellement\"\n",
    "var_del2 = ['geometry.coordinates', 'geometry.type', 'datasetid','recordid','record_timestamp',  'g_olocalisation_des_formations', 'lien_form_psup', 'detail_forma', 'session']\n",
    "var_del = list(np.unique(var_del1 + var_del2))"
   ]
  },
  {
   "cell_type": "code",
   "execution_count": null,
   "id": "f1aa6c70",
   "metadata": {},
   "outputs": [],
   "source": [
    "df = df.drop(var_del, axis = 1)"
   ]
  },
  {
   "cell_type": "code",
   "execution_count": null,
   "id": "71292c67",
   "metadata": {
    "scrolled": true
   },
   "outputs": [],
   "source": [
    "df.head()"
   ]
  },
  {
   "cell_type": "code",
   "execution_count": null,
   "id": "95633bde",
   "metadata": {},
   "outputs": [],
   "source": [
    "#Récapitulatif\n",
    "missings_new = miss(df)\n"
   ]
  },
  {
   "cell_type": "code",
   "execution_count": null,
   "id": "bacfe690",
   "metadata": {},
   "outputs": [],
   "source": [
    "#Variables avec au moins une valeurs manquantes :  max = 8,5..%\n",
    "viz_na(missings_new, seuil = 0)"
   ]
  },
  {
   "cell_type": "code",
   "execution_count": null,
   "id": "a422d39d",
   "metadata": {},
   "outputs": [],
   "source": [
    "#Capacité de l'établissement par formation\n",
    "df['capa_fin'].isna().sum()\n",
    "\n",
    "#Un établissement"
   ]
  },
  {
   "cell_type": "code",
   "execution_count": null,
   "id": "a271c7e8",
   "metadata": {},
   "outputs": [],
   "source": [
    "df[df['capa_fin'].isna()]"
   ]
  },
  {
   "cell_type": "code",
   "execution_count": null,
   "id": "a2db47d0",
   "metadata": {},
   "outputs": [],
   "source": [
    "df.drop('0120024L', inplace= True, axis = 'index')"
   ]
  },
  {
   "cell_type": "markdown",
   "id": "40002c5e",
   "metadata": {},
   "source": [
    "#### Imputation des valeurs manquantes"
   ]
  },
  {
   "cell_type": "code",
   "execution_count": null,
   "id": "9a7d44a6",
   "metadata": {},
   "outputs": [],
   "source": [
    "#Concentrons nous d'abord sur ces variables"
   ]
  },
  {
   "cell_type": "code",
   "execution_count": null,
   "id": "744bdaf4",
   "metadata": {},
   "outputs": [],
   "source": [
    "any_miss = list(missings_new[missings_new['Pourcentage de valeurs manquantes'] > 0]['Vars'])"
   ]
  },
  {
   "cell_type": "code",
   "execution_count": null,
   "id": "c0effb7d",
   "metadata": {
    "scrolled": true
   },
   "outputs": [],
   "source": [
    "for key in any_miss:\n",
    "    print(\"{}: {}\\n\".format(key,names[key]))"
   ]
  },
  {
   "cell_type": "code",
   "execution_count": null,
   "id": "4c879f29",
   "metadata": {},
   "outputs": [],
   "source": [
    "#Ces variables sont liées et peuvent être recalculées avec les données donc pas besoin d'imputation\n",
    "# taux_adm_psup = sum(rank) / nb_voe_pp\n",
    "taux = ['taux_adm_psup', 'taux_adm_psup_techno' , 'taux_adm_psup_pro', 'taux_adm_psup_gen']"
   ]
  },
  {
   "cell_type": "code",
   "execution_count": null,
   "id": "110cbf47",
   "metadata": {},
   "outputs": [],
   "source": [
    "df_any_miss = df[any_miss]"
   ]
  },
  {
   "cell_type": "code",
   "execution_count": null,
   "id": "910bef46",
   "metadata": {},
   "outputs": [],
   "source": [
    "#Relation entre les variables : \n",
    "\n",
    "#pct_neobac = pct_bg + pct_bt + pct_bp + Autre\n",
    "#acc_tot = acc_neobac + Autre\n",
    "#pct_neobac = pct_bours + Autre = pct_sansmention + pct_ab + pct_b + pct_tb + pact_mention_nonrenseigne"
   ]
  },
  {
   "cell_type": "code",
   "execution_count": null,
   "id": "26f6bfef",
   "metadata": {},
   "outputs": [],
   "source": [
    "#On a aucune informations sur les répartitions des admis\n",
    "cond = (df_any_miss['pct_neobac'].isna()) & ((df_any_miss['pct_bg'].isna()) & (df_any_miss['pct_bt'].isna()) & (df_any_miss['pct_bp'].isna()) )\n",
    "df[cond]\n",
    "#Existerait-il des établissements sans admis? \n",
    "#Des établissement qui n'ont pas reçu aucune réponse sur leurs propositions\n",
    "df[df['acc_tot'] ==0]\n",
    "#S'agit-il de ces établissements : effectivement!\n",
    "df[df['acc_tot'] ==0].compare(df[cond])\n",
    "#Il est intéressant de voir ces établissements : ceux qui les caractérisent"
   ]
  },
  {
   "cell_type": "code",
   "execution_count": null,
   "id": "6a55be23",
   "metadata": {},
   "outputs": [],
   "source": [
    "#En excluant ces établissements on peut corriger les valeurs manquantes sur les pct en utilisant les effectif\n",
    "for key in ['acc_tot','acc_brs', 'acc_neobac', 'acc_ab', 'acc_b', 'acc_tb', 'acc_bg','acc_bg_mention','acc_bt', 'acc_bt_mention', 'acc_bp', 'acc_bp_mention', 'acc_at'] : \n",
    "    print(\"{}: {}\\n\".format(key,names[key]))         \n",
    "            \n",
    "        "
   ]
  },
  {
   "cell_type": "code",
   "execution_count": null,
   "id": "bda7b070",
   "metadata": {},
   "outputs": [],
   "source": [
    "#Pour les établissements ayant au moins un admis, on a pas de valeurs manquantes sur les effectifs désagrégés (bg, bt, bp etc)\n",
    "#On peut donc corriger les pourcentages!!\n",
    "\n",
    "viz_na(miss(df[(df['acc_tot']!=0)]), 0)"
   ]
  },
  {
   "cell_type": "code",
   "execution_count": null,
   "id": "30f51c3b",
   "metadata": {},
   "outputs": [],
   "source": [
    "df_any_acc = df[df['acc_tot']!=0]\n",
    "df_any_acc.shape\n"
   ]
  },
  {
   "cell_type": "code",
   "execution_count": null,
   "id": "9d6b88bd",
   "metadata": {},
   "outputs": [],
   "source": [
    "#Correction pour les agrégation selon le type de formation\n",
    "dic = {'pct_bg' : 'acc_bg', 'pct_bt' : 'acc_bt', 'pct_bp' : 'acc_bp'}"
   ]
  },
  {
   "cell_type": "code",
   "execution_count": null,
   "id": "ee265593",
   "metadata": {},
   "outputs": [],
   "source": [
    "df_any_acc.reset_index(inplace=True)\n",
    "for pct, eff in dic.items() :\n",
    "    #Dans le cas où le dénominateur est null, on remplace par 0\n",
    "    df_any_acc0 = df_any_acc[(df_any_acc[pct].isna()) & (df_any_acc[eff] == 0)].fillna({pct : 0})\n",
    "    df_any_acc = df_any_acc0.append(df_any_acc[~((df_any_acc[pct].isna()) & (df_any_acc[eff] == 0))].fillna({pct : 0}))\n",
    "    #Dans le cas où le dénominateur n'est pas null, on applique la formule\n",
    "    #df_any_acc_not_null = df_any_acc[(df_any_acc[pct].isna()) & (df_any_acc[eff] != 0)].fillna({pct : 100*df_any_acc[eff]/df_any_acc['acc_tot']})\n",
    "    #Base finale\n",
    "    #df_any_acc = df_any_acc_null.append(df_any_acc_not_null, ignore_index=True)"
   ]
  },
  {
   "cell_type": "code",
   "execution_count": null,
   "id": "d8a62f3b",
   "metadata": {},
   "outputs": [],
   "source": [
    "df_any_acc.shape"
   ]
  },
  {
   "cell_type": "code",
   "execution_count": null,
   "id": "c720bbec",
   "metadata": {},
   "outputs": [],
   "source": [
    "#Correction pour les agrégation selon la mention\n",
    "dic = {'pct_bg_mention' : ['acc_bg_mention', 'acc_bg'], 'pct_bt_mention' : ['acc_bt_mention', 'acc_bt'], 'pct_bp_mention' : ['acc_bp_mention', 'acc_bp']}"
   ]
  },
  {
   "cell_type": "code",
   "execution_count": null,
   "id": "efdc42cc",
   "metadata": {},
   "outputs": [],
   "source": [
    "\n",
    "for pct, eff in dic.items() :\n",
    "    #df_any_acc[pct] = df_any_acc[eff]/df_any_acc['acc_tot']\n",
    "    \n",
    "    #df_any_acc[df_any_acc[eff[1]]!=0][pct].fillna(df_any_acc[df_any_acc[eff[1]!=0].isna()][eff[0]]/df_any_acc[~df_any_acc[eff[1]]!=0][eff[1]], inplace=True)\n",
    "    #df_any_acc[df_any_acc[eff[1]]==0][pct].fillna(0, inplace=True)\n",
    "    \n",
    "    #Dans le cas où le dénominateur est null, on remplace par 0\n",
    "    df_any_acc0 = df_any_acc[(df_any_acc[pct].isna()) & (df_any_acc[eff[1]] == 0)].fillna({pct : 0})\n",
    "    df_any_acc = df_any_acc0.append(df_any_acc[~((df_any_acc[pct].isna()) & (df_any_acc[eff[1]] == 0))].fillna({pct : 0}))\n",
    "    #Dans le cas où le dénominateur n'est pas null, on applique la formule\n",
    "    #df_any_acc = df_any_acc[(df_any_acc[pct].isna()) & (df_any_acc[eff[1]] != 0)].fillna({pct : 100*df_any_acc[eff[0]]/df_any_acc[eff[1]]})\n"
   ]
  },
  {
   "cell_type": "code",
   "execution_count": null,
   "id": "24ab00b4",
   "metadata": {
    "scrolled": true
   },
   "outputs": [],
   "source": [
    "df_any_acc.shape"
   ]
  },
  {
   "cell_type": "code",
   "execution_count": null,
   "id": "9b85e448",
   "metadata": {},
   "outputs": [],
   "source": [
    "#Il semble que les valeurs manquantes sont seulement pour les établiblissements où pct_neobac=0 (normal), vérifions !\n",
    "cond = (df_any_acc.pct_mention_nonrenseignee.isna()) & (df_any_acc.pct_bours.isna()) & (df_any_acc.pct_tb.isna()) & (df_any_acc.pct_b.isna()) & (df_any_acc.pct_ab.isna()) & (df_any_acc.pct_sansmention.isna())  & (df_any_acc.pct_b.isna()) & (df_any_acc.pct_aca_orig.isna()) & (df_any_acc.pct_aca_orig_idf.isna())"
   ]
  },
  {
   "cell_type": "code",
   "execution_count": null,
   "id": "1e9a1c37",
   "metadata": {},
   "outputs": [],
   "source": [
    "var = ['pct_tb', 'pct_b', 'pct_ab', 'pct_sansmention', 'pct_bours','pct_mention_nonrenseignee',  'pct_aca_orig', 'pct_aca_orig_idf']\n"
   ]
  },
  {
   "cell_type": "code",
   "execution_count": null,
   "id": "e2f1ec80",
   "metadata": {
    "scrolled": true
   },
   "outputs": [],
   "source": [
    "df_any_acc[var][cond]"
   ]
  },
  {
   "cell_type": "code",
   "execution_count": null,
   "id": "85e32b45",
   "metadata": {
    "scrolled": true
   },
   "outputs": [],
   "source": [
    "df_any_acc[var][df_any_acc['pct_neobac']==0]"
   ]
  },
  {
   "cell_type": "code",
   "execution_count": null,
   "id": "ee1f0085",
   "metadata": {},
   "outputs": [],
   "source": [
    "#Les bases sont identiques\n",
    "df_any_acc[['pct_neobac', 'pct_tb', 'pct_b', 'pct_ab', 'pct_sansmention', 'pct_bours', 'pct_mention_nonrenseignee',  'pct_aca_orig', 'pct_aca_orig_idf']][df_any_acc['pct_neobac']==0].compare(df_any_acc[['pct_neobac', 'pct_tb', 'pct_b', 'pct_ab', 'pct_sansmention', 'pct_bours', 'pct_mention_nonrenseignee',  'pct_aca_orig', 'pct_aca_orig_idf']][cond])\n",
    "#Donc on remplace seulement les NA par 0 "
   ]
  },
  {
   "cell_type": "code",
   "execution_count": null,
   "id": "d28b4b18",
   "metadata": {
    "scrolled": true
   },
   "outputs": [],
   "source": [
    "df_any_acc[var] = df_any_acc[var].apply(lambda x : x.fillna(0))"
   ]
  },
  {
   "cell_type": "code",
   "execution_count": null,
   "id": "907be658",
   "metadata": {},
   "outputs": [],
   "source": [
    "df_any_acc[var][df_any_acc['pct_neobac']==0]"
   ]
  },
  {
   "cell_type": "code",
   "execution_count": null,
   "id": "a09ac865",
   "metadata": {},
   "outputs": [],
   "source": [
    "viz_na(miss(df_any_acc), 0)"
   ]
  },
  {
   "cell_type": "code",
   "execution_count": null,
   "id": "8263c086",
   "metadata": {},
   "outputs": [],
   "source": [
    "#df_any_acc[(df_any_acc.taux_adm_psup_techno.isna()) & (df_any_acc.taux_adm_psup_gen.isna()) & (df_any_acc.taux_adm_psup_pro.isna()) & (df_any_acc.taux_adm_psup.isna())]\n",
    "df_any_acc[(df_any_acc.taux_adm_psup.isna())]"
   ]
  },
  {
   "cell_type": "code",
   "execution_count": null,
   "id": "d9ac0cf9",
   "metadata": {},
   "outputs": [],
   "source": [
    "df_any_acc.pct_bours.isna().sum()"
   ]
  },
  {
   "cell_type": "code",
   "execution_count": null,
   "id": "b29f471f",
   "metadata": {},
   "outputs": [],
   "source": [
    "#Etablissements où tous les admis sont issus de bac prof\n",
    "df_any_acc[(df_any_acc['pct_bg'].isna()) & (df_any_acc['pct_bt'].isna()) & (df_any_acc['acc_bp'] ==df_any_acc['acc_neobac'] ) ]"
   ]
  },
  {
   "cell_type": "code",
   "execution_count": null,
   "id": "a3d6f78d",
   "metadata": {},
   "outputs": [],
   "source": [
    "matrix = 1*df_any_miss.isna()"
   ]
  },
  {
   "cell_type": "code",
   "execution_count": null,
   "id": "d91cf1e6",
   "metadata": {},
   "outputs": [],
   "source": [
    "matrix[taux]"
   ]
  },
  {
   "cell_type": "code",
   "execution_count": null,
   "id": "fc859ae3",
   "metadata": {},
   "outputs": [],
   "source": [
    "#Les autres variables qui ne sont pas les taux\n",
    "matrix[df_any_miss.columns[~df_any_miss.columns.isin(taux)]]"
   ]
  },
  {
   "cell_type": "code",
   "execution_count": null,
   "id": "b631e66e",
   "metadata": {},
   "outputs": [],
   "source": [
    "#1. Méthodes graphiques : Box-plot, nuage de points, histogrammes..."
   ]
  },
  {
   "cell_type": "code",
   "execution_count": null,
   "id": "99005232",
   "metadata": {},
   "outputs": [],
   "source": [
    "#histogramme\n",
    "def graph(data):\n",
    "    for colonne in data.columns:\n",
    "        print('***************************************************************************')\n",
    "        print('             :------------',colonne,'------------:')\n",
    "        print('***************************************************************************')\n",
    "        df[colonne].hist()\n",
    "        plt.show()"
   ]
  },
  {
   "cell_type": "code",
   "execution_count": null,
   "id": "3e92c700",
   "metadata": {},
   "outputs": [],
   "source": [
    "graph(df_n)"
   ]
  },
  {
   "cell_type": "code",
   "execution_count": null,
   "id": "c7a5a500",
   "metadata": {
    "scrolled": true
   },
   "outputs": [],
   "source": [
    "###Corrélation_Matrice\n",
    "corrMatrix = df_n.corr()\n",
    "sns.heatmap(corrMatrix, annot=False)\n",
    "fig = plt.gcf()\n",
    "fig.set_size_inches(20, 20)\n",
    "plt.savefig('Matrice_Correlation.png')"
   ]
  },
  {
   "cell_type": "code",
   "execution_count": null,
   "id": "bf5dc156",
   "metadata": {},
   "outputs": [],
   "source": [
    "### STATISTIQUES"
   ]
  },
  {
   "cell_type": "code",
   "execution_count": null,
   "id": "0cff6299",
   "metadata": {},
   "outputs": [],
   "source": [
    "## Effectif total des candidats pour une formation : voe_tot"
   ]
  },
  {
   "cell_type": "code",
   "execution_count": null,
   "id": "c0fd0816",
   "metadata": {},
   "outputs": [],
   "source": [
    "#selon le sexe\n",
    "\n",
    "df['voe_tot_%_filles'] = 100*df['voe_tot_f']/df['voe_tot']"
   ]
  },
  {
   "cell_type": "code",
   "execution_count": null,
   "id": "1c5974dc",
   "metadata": {},
   "outputs": [],
   "source": [
    "df['voe_tot_%_filles'].describe()"
   ]
  },
  {
   "cell_type": "code",
   "execution_count": null,
   "id": "9fb05322",
   "metadata": {},
   "outputs": [],
   "source": [
    "df['g_ea_lib_vx'][df['voe_tot_%_filles'] == 0]"
   ]
  },
  {
   "cell_type": "code",
   "execution_count": null,
   "id": "05e6e4a2",
   "metadata": {
    "scrolled": true
   },
   "outputs": [],
   "source": [
    "sns.barplot(x=\"voe_tot\",  y=\"tri\", data=df, ci=None)\n"
   ]
  },
  {
   "cell_type": "code",
   "execution_count": null,
   "id": "3827f6a4",
   "metadata": {},
   "outputs": [],
   "source": [
    "sns.barplot(x=\"voe_tot_f\",  y=\"tri\", data=df, ci=None)"
   ]
  },
  {
   "cell_type": "code",
   "execution_count": null,
   "id": "1ce04cb1",
   "metadata": {},
   "outputs": [],
   "source": [
    "data = df[['g_ea_lib_vx','voe_tot',  'voe_tot_%_filles']].melt('g_ea_lib_vx', var_name='Type', value_name='effectif')"
   ]
  },
  {
   "cell_type": "code",
   "execution_count": null,
   "id": "431c3361",
   "metadata": {},
   "outputs": [],
   "source": [
    "li = list(df['voe_tot']) + list(df['voe_tot_f'])"
   ]
  },
  {
   "cell_type": "code",
   "execution_count": null,
   "id": "38725d5c",
   "metadata": {},
   "outputs": [],
   "source": []
  },
  {
   "cell_type": "code",
   "execution_count": null,
   "id": "eedb5587",
   "metadata": {},
   "outputs": [],
   "source": [
    "#create DataFrame\n",
    "df_p = pd.DataFrame({'Valeurs':list(df['voe_tot']) + list(df['voe_tot_f']),\n",
    "                     \n",
    "                   'Tri': list(df['tri'])+ list(df['tri'])\n",
    "                     ,\n",
    "                     \n",
    "                   'Iden':['Total']*len(df)+ ['Filles']*len(df)\n",
    "                               })"
   ]
  },
  {
   "cell_type": "code",
   "execution_count": null,
   "id": "22a7fa73",
   "metadata": {},
   "outputs": [],
   "source": [
    "df_p"
   ]
  },
  {
   "cell_type": "code",
   "execution_count": null,
   "id": "b5af1cb1",
   "metadata": {
    "scrolled": true
   },
   "outputs": [],
   "source": [
    "sns.barplot(x=\"Valeurs\",  y=\"Tri\", data=df_p, ci=None, hue = 'Iden')"
   ]
  },
  {
   "cell_type": "code",
   "execution_count": null,
   "id": "68bab219",
   "metadata": {},
   "outputs": [],
   "source": [
    "df[\"filles\"] = df['voe_tot_f']\n",
    "df[\"garcons\"] = df['voe_tot'] - df['voe_tot_f']\n",
    "hom = fem = df[['tri','garcons']].groupby('tri').sum()\n",
    "fem = df[['tri','filles']].groupby('tri').sum()"
   ]
  },
  {
   "cell_type": "code",
   "execution_count": null,
   "id": "d1f25b5a",
   "metadata": {},
   "outputs": [],
   "source": [
    "base = pd.concat([hom,fem],axis = 1)\n",
    "base.reset_index(inplace = True)"
   ]
  },
  {
   "cell_type": "code",
   "execution_count": null,
   "id": "46a5712a",
   "metadata": {},
   "outputs": [],
   "source": [
    "base['garcons'] = 100*base['garcons']/(base['garcons'] + base['filles'])"
   ]
  },
  {
   "cell_type": "code",
   "execution_count": null,
   "id": "f9669a17",
   "metadata": {},
   "outputs": [],
   "source": [
    "base['filles'] =100- base['garcons']"
   ]
  },
  {
   "cell_type": "code",
   "execution_count": null,
   "id": "3587072e",
   "metadata": {},
   "outputs": [],
   "source": [
    "base_ =base.melt('tri', var_name='Sexe', value_name= \"Valeurs\")\n",
    "base_"
   ]
  },
  {
   "cell_type": "code",
   "execution_count": null,
   "id": "e624996e",
   "metadata": {},
   "outputs": [],
   "source": [
    "plt.subplots(figsize=(12, 5))\n",
    "sx = sns.barplot(x=\"Valeurs\",  y=\"tri\", data=base_, ci=None, hue = 'Sexe')\n",
    "x_labels = base_['Valeurs']\n",
    "sx.set "
   ]
  },
  {
   "cell_type": "markdown",
   "id": "6de5d9c8",
   "metadata": {},
   "source": [
    "### 1.3 INSERTION PROFESSIONNEL\n",
    "\n",
    "\n",
    "\n",
    "https://data.enseignementsup-recherche.gouv.fr/api/records/1.0/search/?dataset=fr-esr-insertion_professionnelle-lp&q=&rows=1500&facet=annee&facet=diplome&facet=numero_de_l_etablissement&facet=etablissement&facet=academie&facet=domaine&facet=code_de_la_discipline&facet=discipline&facet=situation&facet=cle_etab&facet=cle_disc&facet=id_paysage&refine.annee=2018"
   ]
  },
  {
   "cell_type": "code",
   "execution_count": null,
   "id": "8f85a4a1",
   "metadata": {},
   "outputs": [],
   "source": [
    "insertion = glob_path + \"fr-esr-insertion_professionnelle-\"\n",
    "niveau = [\"lp\", \"master\"]\n",
    "complement = \"&q=&rows=1500&sort=-annee&facet=annee&facet=diplome&facet=numero_de_l_etablissement&facet=etablissement&facet=academie&facet=domaine&facet=code_de_la_discipline&facet=discipline&facet=situation&facet=cle_etab&facet=cle_disc&facet=id_paysage&refine.annee=2018\""
   ]
  },
  {
   "cell_type": "code",
   "execution_count": null,
   "id": "5f7642af",
   "metadata": {},
   "outputs": [],
   "source": [
    "#Récupération selon le niveau\n",
    "data_insertion = [requests.get(insertion + niveau[x] + complement) for x in range(2)]"
   ]
  },
  {
   "cell_type": "code",
   "execution_count": null,
   "id": "2bae24df",
   "metadata": {},
   "outputs": [],
   "source": [
    "#Conversion de json à pd.Dataframe\n",
    "data_insertion = [pd.json_normalize(x.json()['records'][:]) for x in data_insertion ]"
   ]
  },
  {
   "cell_type": "code",
   "execution_count": null,
   "id": "ac3070fb",
   "metadata": {},
   "outputs": [],
   "source": [
    "###Les données selon le niveau sont identifiées par la varibale datsetid"
   ]
  },
  {
   "cell_type": "code",
   "execution_count": null,
   "id": "680a1663",
   "metadata": {},
   "outputs": [],
   "source": [
    "data_insertion[0].shape"
   ]
  },
  {
   "cell_type": "code",
   "execution_count": null,
   "id": "dba1008e",
   "metadata": {},
   "outputs": [],
   "source": [
    "data_insertion[1].shape"
   ]
  },
  {
   "cell_type": "code",
   "execution_count": null,
   "id": "377ef78d",
   "metadata": {},
   "outputs": [],
   "source": [
    "glob_data_insertion = pd.concat(data_insertion)\n",
    "glob_data_insertion.columns = [c.replace('fields.', '') for c in list(glob_data_insertion.columns) ]"
   ]
  },
  {
   "cell_type": "code",
   "execution_count": null,
   "id": "a44ab8d9",
   "metadata": {},
   "outputs": [],
   "source": [
    "glob_data_insertion.head()"
   ]
  },
  {
   "cell_type": "markdown",
   "id": "aa92706f",
   "metadata": {},
   "source": [
    "# ---------------------------------------------KHARIRATOU---------------------------------------------"
   ]
  },
  {
   "cell_type": "code",
   "execution_count": null,
   "id": "dd336a5e",
   "metadata": {},
   "outputs": [],
   "source": [
    "df = glob_data_insertion.copy()"
   ]
  },
  {
   "cell_type": "code",
   "execution_count": null,
   "id": "7001e678",
   "metadata": {},
   "outputs": [],
   "source": [
    "import seaborn as sns"
   ]
  },
  {
   "cell_type": "code",
   "execution_count": null,
   "id": "c1cf3044",
   "metadata": {},
   "outputs": [],
   "source": [
    "import numpy as np"
   ]
  },
  {
   "cell_type": "code",
   "execution_count": null,
   "id": "e8db25a2",
   "metadata": {},
   "outputs": [],
   "source": [
    "df['na']=np.nan"
   ]
  },
  {
   "cell_type": "code",
   "execution_count": null,
   "id": "4ed9b874",
   "metadata": {
    "scrolled": false
   },
   "outputs": [],
   "source": [
    "df['na']"
   ]
  },
  {
   "cell_type": "code",
   "execution_count": null,
   "id": "328a707e",
   "metadata": {},
   "outputs": [],
   "source": [
    "df[df['taux_dinsertion']=='ns']"
   ]
  },
  {
   "cell_type": "code",
   "execution_count": null,
   "id": "2491c336",
   "metadata": {},
   "outputs": [],
   "source": [
    "df['taux_dinsertion'].replace({'ns': np.nan}, inplace = True)"
   ]
  },
  {
   "cell_type": "code",
   "execution_count": null,
   "id": "56619116",
   "metadata": {},
   "outputs": [],
   "source": [
    "df[df['taux_dinsertion'] == 'nd'] = np.nan"
   ]
  },
  {
   "cell_type": "code",
   "execution_count": null,
   "id": "d10f99cf",
   "metadata": {},
   "outputs": [],
   "source": [
    "df[df['taux_dinsertion'] == 'nd']"
   ]
  },
  {
   "cell_type": "code",
   "execution_count": null,
   "id": "887b0d3f",
   "metadata": {},
   "outputs": [],
   "source": [
    "#création variable nombre de personnes insérées\n",
    "df[\"taux_dinsertion\"] = df[\"taux_dinsertion\"].astype('float64')\n",
    "df[\"nombre_de_reponses\"] = df[\"nombre_de_reponses\"].astype('float64')\n",
    "    \n",
    "df['nb_insertion']= df[\"taux_dinsertion\"]*df[\"nombre_de_reponses\"]"
   ]
  },
  {
   "cell_type": "code",
   "execution_count": null,
   "id": "c0dbef98",
   "metadata": {},
   "outputs": [],
   "source": [
    "df_g.reset_index(inplace = True)"
   ]
  },
  {
   "cell_type": "code",
   "execution_count": null,
   "id": "69d5f415",
   "metadata": {},
   "outputs": [],
   "source": [
    "df_g"
   ]
  },
  {
   "cell_type": "markdown",
   "id": "b05956a9",
   "metadata": {},
   "source": [
    "# Répartition des insérés par discipline et par établissement"
   ]
  },
  {
   "cell_type": "code",
   "execution_count": null,
   "id": "569c50b5",
   "metadata": {},
   "outputs": [],
   "source": [
    "# Répartition du nombre d'insérés par discipline\n",
    "df_g =df.groupby(['discipline']).sum('nb_insertion')\n",
    "df_g.reset_index(inplace = True)\n",
    "sns.barplot(x=\"nb_insertion\", y=\"discipline\", data=df_g)"
   ]
  },
  {
   "cell_type": "code",
   "execution_count": null,
   "id": "5216bd73",
   "metadata": {},
   "outputs": [],
   "source": [
    "df_g =df.groupby(['domaine']).sum('nb_insertion')\n",
    "df_g.reset_index(inplace = True)\n",
    "sns.barplot(x=\"nb_insertion\", y=\"domaine\", data=df_g)"
   ]
  },
  {
   "cell_type": "code",
   "execution_count": null,
   "id": "1aec6560",
   "metadata": {},
   "outputs": [],
   "source": [
    "# Répartion du nombre des insérés par établissement\n",
    "df_g =df.groupby(['cle_etab']).sum('nb_insertion')\n",
    "df_g.reset_index(inplace = True)\n",
    "sns.barplot(x=\"nb_insertion\", y=\"cle_etab\", data=df_g)"
   ]
  },
  {
   "cell_type": "code",
   "execution_count": null,
   "id": "447a2e5c",
   "metadata": {},
   "outputs": [],
   "source": [
    "# Répartion du nombre des insérés par établissement\n",
    "df_g =df.groupby(['cle_etab']).sum('nb_insertion')\n",
    "df_g.reset_index(inplace = True)\n",
    "df_g"
   ]
  },
  {
   "cell_type": "code",
   "execution_count": null,
   "id": "f49e669d",
   "metadata": {},
   "outputs": [],
   "source": [
    "#import pandas as pd\n",
    "#pd.crosstab(df.cle_etab, df.nb_insertion).apply(lambda r: r/len(df), axis=1)\n",
    "\n",
    "#freq = df.groupby(['cle_etab']).sum('nb_insertion').sort_values\n",
    "#print(freq)"
   ]
  },
  {
   "cell_type": "markdown",
   "id": "06446dbf",
   "metadata": {},
   "source": [
    "# Caractéristiques des sortants et caractéristiques des sortants insérés"
   ]
  },
  {
   "cell_type": "markdown",
   "id": "5c9b679e",
   "metadata": {},
   "source": [
    "## Par sexe"
   ]
  },
  {
   "cell_type": "code",
   "execution_count": null,
   "id": "0a759c04",
   "metadata": {},
   "outputs": [],
   "source": [
    "#création variable nombre de femmes\n",
    "df[df['femmes'] == 'ns'] = np.nan\n",
    "df[df['femmes'] == 'nd'] = np.nan\n",
    "\n",
    "df[\"femmes\"] = df[\"femmes\"].astype('float64')\n",
    "df[\"nombre_de_reponses\"] = df[\"nombre_de_reponses\"].astype('float64')\n",
    "    \n",
    "df['nb_femmes']= df[\"femmes\"]*df[\"nombre_de_reponses\"]"
   ]
  },
  {
   "cell_type": "code",
   "execution_count": null,
   "id": "dfe2c6af",
   "metadata": {},
   "outputs": [],
   "source": [
    "# Répartition du nombre de femmes diplomées par discipline\n",
    "df_g =df.groupby(['discipline']).sum('nb_femmes')\n",
    "df_g.reset_index(inplace = True)\n",
    "sns.barplot(x=\"nb_femmes\", y=\"discipline\", data=df_g)"
   ]
  },
  {
   "cell_type": "code",
   "execution_count": null,
   "id": "73464f97",
   "metadata": {},
   "outputs": [],
   "source": [
    "df_g =df.groupby(['domaine']).sum('nb_femmes')\n",
    "df_g.reset_index(inplace = True)\n",
    "sns.barplot(x=\"nb_femmes\", y=\"domaine\", data=df_g)"
   ]
  },
  {
   "cell_type": "code",
   "execution_count": null,
   "id": "124a9d65",
   "metadata": {},
   "outputs": [],
   "source": [
    "# Représentation Proportion des femmes insérées selon l'établissement???\n",
    "df['nb_femmes_inserees']= df[\"nb_femmes\"]/df[\"nb_insertion\"]\n",
    "df_g1 =df.groupby(['cle_etab']).sum('nb_femmes_inserees')\n",
    "#df_g1.reset_index(inplace = True)\n",
    "df_g1"
   ]
  },
  {
   "cell_type": "code",
   "execution_count": null,
   "id": "aac2622f",
   "metadata": {},
   "outputs": [],
   "source": [
    "# Répartition proportion de femmes insérées par discipline\n",
    "df_g2 =df.groupby(['discipline']).sum('nb_femmes_inserees')\n",
    "df_g2.reset_index(inplace = True)\n",
    "sns.barplot(x=\"nb_femmes_inserees\", y=\"discipline\", data=df_g2)"
   ]
  },
  {
   "cell_type": "markdown",
   "id": "feff4abe",
   "metadata": {},
   "source": [
    "## Par nombre de boursiers"
   ]
  },
  {
   "cell_type": "code",
   "execution_count": null,
   "id": "3aa268c6",
   "metadata": {},
   "outputs": [],
   "source": [
    "#création variable nombre de diplomés boursiers\n",
    "df[df['de_diplomes_boursiers'] == 'ns'] = np.nan\n",
    "df[df['de_diplomes_boursiers'] == 'nd'] = np.nan\n",
    "\n",
    "df[\"de_diplomes_boursiers\"] = df[\"de_diplomes_boursiers\"].astype('float64')\n",
    "df[\"nombre_de_reponses\"] = df[\"nombre_de_reponses\"].astype('float64')\n",
    "    \n",
    "df['nb_de_diplomes_boursiers']= df[\"de_diplomes_boursiers\"]*df[\"nombre_de_reponses\"]"
   ]
  },
  {
   "cell_type": "code",
   "execution_count": null,
   "id": "f287e9b2",
   "metadata": {},
   "outputs": [],
   "source": [
    "# nb de diplomés boursiers /etab /discipline\n",
    "df_g =df.groupby(['discipline']).sum('nb_de_diplomes_boursiers')\n",
    "df_g.reset_index(inplace = True)\n",
    "sns.barplot(x=\"nb_de_diplomes_boursiers\", y=\"discipline\", data=df_g)"
   ]
  },
  {
   "cell_type": "code",
   "execution_count": null,
   "id": "13d565b1",
   "metadata": {},
   "outputs": [],
   "source": [
    "df_g =df.groupby(['domaine']).sum('nb_de_diplomes_boursiers')\n",
    "df_g.reset_index(inplace = True)\n",
    "sns.barplot(x=\"nb_de_diplomes_boursiers\", y=\"domaine\", data=df_g)"
   ]
  },
  {
   "cell_type": "code",
   "execution_count": null,
   "id": "a827677b",
   "metadata": {
    "scrolled": true
   },
   "outputs": [],
   "source": [
    "# Représentation Proportion de boursiers insérés selon l'établissement???\n",
    "df['nb_boursiers_inseres']= df[\"nb_de_diplomes_boursiers\"]/df[\"nb_insertion\"]\n",
    "df_g1 =df.groupby(['cle_etab']).sum('nb_boursiers_inseres')\n",
    "#df_g1.reset_index(inplace = True)\n",
    "df_g1"
   ]
  },
  {
   "cell_type": "code",
   "execution_count": null,
   "id": "fa8f0218",
   "metadata": {},
   "outputs": [],
   "source": [
    "# Répartition proportion de boursiers insérés par discipline\n",
    "df_g2 =df.groupby(['discipline']).sum('nb_boursiers_inseres')\n",
    "df_g2.reset_index(inplace = True)\n",
    "sns.barplot(x=\"nb_boursiers_inseres\", y=\"discipline\", data=df_g2)"
   ]
  },
  {
   "cell_type": "markdown",
   "id": "6497cc08",
   "metadata": {},
   "source": [
    "## Par nombre d'emplois stables"
   ]
  },
  {
   "cell_type": "code",
   "execution_count": null,
   "id": "d2739527",
   "metadata": {},
   "outputs": [],
   "source": [
    "#création variable nombre d'emplois stables\n",
    "df[df['emplois_stables'] == 'ns'] = np.nan\n",
    "df[df['emplois_stables'] == 'nd'] = np.nan\n",
    "\n",
    "df[\"emplois_stables\"] = df[\"emplois_stables\"].astype('float64')\n",
    "df[\"nombre_de_reponses\"] = df[\"nombre_de_reponses\"].astype('float64')\n",
    "    \n",
    "df['nb_emplois_stables']= df[\"emplois_stables\"]*df[\"nombre_de_reponses\"]"
   ]
  },
  {
   "cell_type": "code",
   "execution_count": null,
   "id": "92037882",
   "metadata": {},
   "outputs": [],
   "source": [
    "# nb de emplois stables /etab /discipline\n",
    "df_g =df.groupby(['discipline']).sum('nb_emplois_stables')\n",
    "df_g.reset_index(inplace = True)\n",
    "sns.barplot(x=\"nb_emplois_stables\", y=\"discipline\", data=df_g)"
   ]
  },
  {
   "cell_type": "code",
   "execution_count": null,
   "id": "f9f12cc2",
   "metadata": {},
   "outputs": [],
   "source": [
    "df_g =df.groupby(['domaine']).sum('nb_emplois_stables')\n",
    "df_g.reset_index(inplace = True)\n",
    "sns.barplot(x=\"nb_emplois_stables\", y=\"domaine\", data=df_g)"
   ]
  },
  {
   "cell_type": "code",
   "execution_count": null,
   "id": "601a4f64",
   "metadata": {},
   "outputs": [],
   "source": [
    "# Représentation Proportion de emplois stables des insérés selon l'établissement???\n",
    "df['nb_emplois_stables_inseres']= df[\"nb_emplois_stables\"]/df[\"nb_insertion\"]\n",
    "df_g1 =df.groupby(['cle_etab']).sum('nb_emplois_stables_inseres')\n",
    "#df_g1.reset_index(inplace = True)\n",
    "df_g1"
   ]
  },
  {
   "cell_type": "code",
   "execution_count": null,
   "id": "e7e766e5",
   "metadata": {},
   "outputs": [],
   "source": [
    "# Répartition proportion de emplois stables des insérés par discipline\n",
    "df_g2 =df.groupby(['discipline']).sum('nb_emplois_stables_inseres')\n",
    "df_g2.reset_index(inplace = True)\n",
    "sns.barplot(x=\"nb_emplois_stables_inseres\", y=\"discipline\", data=df_g2)"
   ]
  },
  {
   "cell_type": "markdown",
   "id": "8a9c03c7",
   "metadata": {},
   "source": [
    "## Selon le salaire"
   ]
  },
  {
   "cell_type": "code",
   "execution_count": null,
   "id": "562232bd",
   "metadata": {},
   "outputs": [],
   "source": [
    "#création variable salaires bruts annuels estimés\n",
    "df[df['salaire_brut_annuel_estime'] == 'ns'] = np.nan\n",
    "df[df['salaire_brut_annuel_estime'] == 'nd'] = np.nan\n",
    "\n",
    "df[\"salaire_brut_annuel_estime\"] = df[\"salaire_brut_annuel_estime\"].astype('float64')"
   ]
  },
  {
   "cell_type": "code",
   "execution_count": null,
   "id": "1223ed98",
   "metadata": {},
   "outputs": [],
   "source": [
    "# Répartition des salaires bruts annuels /discipline\n",
    "df_g =df.groupby(['discipline']).sum('salaire_brut_annuel_estime')\n",
    "df_g.reset_index(inplace = True)\n",
    "sns.barplot(x=\"salaire_brut_annuel_estime\", y=\"discipline\", data=df_g)"
   ]
  },
  {
   "cell_type": "code",
   "execution_count": null,
   "id": "ec9abd59",
   "metadata": {},
   "outputs": [],
   "source": [
    "df_g =df.groupby(['domaine']).sum('salaire_brut_annuel_estime')\n",
    "df_g.reset_index(inplace = True)\n",
    "sns.barplot(x=\"salaire_brut_annuel_estime\", y=\"domaine\", data=df_g)"
   ]
  },
  {
   "cell_type": "code",
   "execution_count": null,
   "id": "de3b1b4d",
   "metadata": {},
   "outputs": [],
   "source": [
    "# Représentation de salaires bruts annuels selon l'établissement???\n",
    "df_g1 =df.groupby(['cle_etab']).sum('salaire_brut_annuel_estime')\n",
    "#df_g1.reset_index(inplace = True)\n",
    "df_g1"
   ]
  },
  {
   "cell_type": "code",
   "execution_count": null,
   "id": "e8db641a",
   "metadata": {},
   "outputs": [],
   "source": []
  },
  {
   "cell_type": "code",
   "execution_count": null,
   "id": "da597616",
   "metadata": {},
   "outputs": [],
   "source": []
  },
  {
   "cell_type": "code",
   "execution_count": null,
   "id": "f35b53a3",
   "metadata": {},
   "outputs": [],
   "source": []
  },
  {
   "cell_type": "code",
   "execution_count": null,
   "id": "64430257",
   "metadata": {},
   "outputs": [],
   "source": []
  },
  {
   "cell_type": "code",
   "execution_count": null,
   "id": "3bf73d84",
   "metadata": {},
   "outputs": [],
   "source": []
  },
  {
   "cell_type": "markdown",
   "id": "37c0a8c8",
   "metadata": {},
   "source": [
    "# BROUILLON"
   ]
  },
  {
   "cell_type": "code",
   "execution_count": null,
   "id": "96450fd0",
   "metadata": {},
   "outputs": [],
   "source": [
    "columns_names = pd.json_normalize(req.json()['facet_groups'][:])"
   ]
  },
  {
   "cell_type": "code",
   "execution_count": null,
   "id": "36770367",
   "metadata": {},
   "outputs": [],
   "source": [
    "columns_names = list(ses_2020.columns)\n",
    "columns_names1 = [c.replace('fields.', '') for c in columns_names ]"
   ]
  },
  {
   "cell_type": "code",
   "execution_count": null,
   "id": "c6cf8706",
   "metadata": {
    "scrolled": true
   },
   "outputs": [],
   "source": [
    "dic=dict()\n",
    "for i in range(len(columns_names)) :\n",
    "    dic[columns_names[i]] = columns_names1[i]\n",
    "ses_2020.rename(dic)"
   ]
  }
 ],
 "metadata": {
  "kernelspec": {
   "display_name": "Python 3 (ipykernel)",
   "language": "python",
   "name": "python3"
  },
  "language_info": {
   "codemirror_mode": {
    "name": "ipython",
    "version": 3
   },
   "file_extension": ".py",
   "mimetype": "text/x-python",
   "name": "python",
   "nbconvert_exporter": "python",
   "pygments_lexer": "ipython3",
   "version": "3.9.7"
  }
 },
 "nbformat": 4,
 "nbformat_minor": 5
}
