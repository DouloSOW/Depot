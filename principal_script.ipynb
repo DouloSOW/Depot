{
 "cells": [
  {
   "cell_type": "markdown",
   "id": "1c7632fe",
   "metadata": {},
   "source": [
    "<div style =\"border: blue solid 1px;\n",
    "             font-family: cambria;\n",
    "             box-shadow: 0px 0px 100px rgba(0, 0, 0, 0.5);\n",
    "             background-image: url(1.jpg);\n",
    "             height: 100%;\n",
    "             width: 100%;\">\n",
    "<center>\n",
    "<a href=\"#\" >\n",
    "    <h1> <font color=\"white\">PROJET DE PYTHON 2A - ENSAE IP Paris</font> </h1> \n",
    "    <h2> <font color=\"white\">Thème : Determinants des choix d'orientation des etudiants dans les etablissments d'enseignement superieur</font> </h2> \n",
    "<a href=\"#\" >\n",
    "    <img src=\"ensae_picture.PNG\" style=\"float:right; max-width: 190px; display: inline\" alt=\"ENSAE\" ; height: 100%;\" /></a>     \n",
    "</center>\n",
    "</div>"
   ]
  },
  {
   "cell_type": "markdown",
   "id": "85e85d63",
   "metadata": {
    "slideshow": {
     "slide_type": "slide"
    }
   },
   "source": [
    "<div style =\"border: blue solid 5px; font-family: Agency FB;font-size:20px;\tbox-shadow: 0px 0px 10px rgba(0, 0, 0, 0.5);background-color: rgba(10, 10, 0, 0.5);\">\n",
    "<center>\n",
    "<font color=\"white\">------------------------------------------------------------------------------------------------------------------------------------------------------------------------------------------------------------------</font> \n",
    "<font color=\"white\"><br><h6>--------------------------SOUS LA SUPERVISION DE : ----------------------</h6> </font> \n",
    "<ul>\n",
    "<h6>Mme </h6>\n",
    "</ul>\n",
    "<font color=\"white\"><br><h6>--------------------------REALISE PAR : ----------------------</h6> </font> \n",
    "<ul>\n",
    "<h6>BAMOUNI Christophe</h6>\n",
    "<h6>DIALLO Khariratou</h6>    \n",
    "<h6>SOW Doulo</h6>\n",
    "\n",
    "</ul>\n",
    "<font color=\"white\">------------------------------------------------------------------------------------------------------------------------------------------------------------------------------------------------------------------</font> \n",
    "</center>\n",
    "    </div>"
   ]
  },
  {
   "cell_type": "markdown",
   "id": "53542f1c",
   "metadata": {},
   "source": [
    "<div style =\"border: red solid 2px; font-family: Agency FB;box-shadow: 0px 0px 10px rgba(0, 0, 0, 0.5);background-color: rgba(50, 50, 50, 0.5);\"><font color=\"black\"><center><h1>-- Précisions majeures  -- <br></h1> </center></font> </div>"
   ]
  },
  {
   "cell_type": "markdown",
   "id": "08cda4a0",
   "metadata": {},
   "source": [
    "La structure du projet, pour rendre ce notebook facilement lisible, est basé sur des appels à d'autres notebook crées. Spécifiquement, nous avons les autres notebooks nommés : <br> \n",
    "* **function.ipynb** : qui regroupe toutes les fonctions, ou plutôt la majeures parties, définies dans ce projet pour optimser les tâches ;  <br> \n",
    "* **head.ipynb** : qui regroupe tous les packages et leurs descriptions qu'on a utilisé pour mener à bien ce projet. <br>\n",
    "Ainsi, la cellulle qui suit gère le paramétrage (intaller ipynb) pour pouvoir appeler directement ces packages dans celui-ci."
   ]
  },
  {
   "cell_type": "code",
   "execution_count": null,
   "id": "c19da29c",
   "metadata": {},
   "outputs": [],
   "source": [
    "#Pour l'appel d'autre notebook\n",
    "#!pip install ipynb\n",
    "#Pour la présentation PowerPoint depuis NoteBook\n",
    "#!pip install RISE\n",
    "#Pour la table des matière intéractive (hyperlink)\n",
    "#!pip install ipynb\n",
    "#!pip install jyquickhelper"
   ]
  },
  {
   "cell_type": "markdown",
   "id": "a1e02b8f",
   "metadata": {
    "slideshow": {
     "slide_type": "slide"
    }
   },
   "source": [
    "<div style =\"border: blue solid 5px; font-family: Agency FB; \tbox-shadow: 0px 0px 10px rgba(0, 0, 0, 0.5);\tbackground-color: rgba(50, 50, 50, 0.5);\"><font color=\"black\"><center><h1>-- Chargement des packages essentiels --</h1> </center></font> </div>"
   ]
  },
  {
   "cell_type": "code",
   "execution_count": null,
   "id": "df0c2995",
   "metadata": {},
   "outputs": [],
   "source": [
    "#Appel du notebook contenant les packages\n",
    "%run ./head.ipynb\n",
    "#Appel du notebook contenant des fonctions définies\n",
    "%run ./function.ipynb\n"
   ]
  },
  {
   "cell_type": "markdown",
   "id": "17d50f9b",
   "metadata": {},
   "source": [
    "<div style =\"border: blue solid 5px; font-family: Agency FB; \tbox-shadow: 0px 0px 10px rgba(0, 0, 0, 0.5);\tbackground-color: rgba(50, 50, 50, 0.5);\"><font color=\"black\"><center><h1>-- TABLE DES MATIERES --</h1> </center></font> </div>"
   ]
  },
  {
   "cell_type": "code",
   "execution_count": null,
   "id": "d9784bbb",
   "metadata": {
    "scrolled": true
   },
   "outputs": [],
   "source": [
    "add_notebook_menu()"
   ]
  },
  {
   "cell_type": "markdown",
   "id": "6b481ea3",
   "metadata": {
    "slideshow": {
     "slide_type": "slide"
    }
   },
   "source": [
    "<div style =\"border: blue solid 5px; font-family: Agency FB; \tbox-shadow: 0px 0px 10px rgba(0, 0, 0, 0.5);\tbackground-color: rgba(50, 50, 50, 0.5);\"><font color=\"black\"><center><h1>-- Plan du travail --</h1> </center></font> </div>"
   ]
  },
  {
   "cell_type": "markdown",
   "id": "327aa7ac",
   "metadata": {
    "scrolled": true
   },
   "source": [
    "## Introduction et Présentation du projet\n",
    "\n",
    "<p  style = \"text-align: justify;  font-size : 16px;\"> Ce projet entre dans le cadre de l'évaluation du cours de Python suivi en deuxième année du cycle Ingénieur de l'ENSAE Paris IP-Paris. L'objectif principal est de mettre en oeuvre les acquis du cours en essayant de répondre à une problématique au choix.\n",
    "Ce présent notebook, en plus des autres auxquels il est lié est soumis avec le projet, retrace les différentes partie de notre travail qui porte sur : <br> <br>\n",
    "\n",
    " <div style =\"border: blue solid 0.5px;font-size : 10px ; font-family: cambria; box-shadow: 0px 0px 10px rgba(0, 0, 0, 0.5);\tbackground-color: rgba(5, 5, 5, 0.5);\"><font color=\"black\"><center><h1>Comprendre les choix d'orientation des nouveaux bacheliers : Analyse des déterminants de l'attractivité des établissements supérieurs <br></h1> </center></font> </div>\n",
    " \n",
    "\n",
    "<p  style = \"text-align: justify;  font-size : 16px;\">L'objectif principal de ce sujet est de saisir les caractéristiques qui déférencient les établissements et par ricochet déterminent les préférences que les étudiants ont face aux établissements. Il s'agira donc spécifiquement de voir d'abord les caractéristques globales qui se dégagent aux niveaux des étblissements, en ce qui concerne leurs types de filières proposées, les enseignements, la capacité d'accueil etc, et aussi en termes d'insertion dans le monde professionnel de leurs produits. Ces facteurs, sont en quelque sorte des signaux que les établissements envoient aux nouveaux bacheliers afin de pouvoir capter le maximum de candidats et ce les plus remarquables dans leur parcours. Ces dans cette ordre d'idées, que nous verrons les différentes caractéristiques des élèves qui se voient le plus proposés des admissions. Ainsi, ces caractéristiques qui porterons globalement sur les types de mentions obtenus au baccalauréat, la série suivie par l'élève, son statut boursier et entre autres, nous permettrons de voir quelques sont en quelque sorte les critères de sélectivité des établissements.\n",
    "<p>\n",
    "    \n",
    "\n",
    "   ## Récupération et traitement des données\n",
    "<p  style = \"text-align: justify;  font-size : 16px;\"> Les données utilisés dans le cadre de ce projet sont issues du \n",
    "<a href=\"https://data.enseignementsup-recherche.gouv.fr/pages/home/\">site du Ministère de l'Enseignement supérieur, de la Recherche et de l'Innovation du gouvernement français</a>. Pour assurer la reproductibilité de ce travail, les données sont directement récupérer à travers un scraping. Nous reviendrons en détails sur cette partie, dans les lignes qui suivent. Les données obtenues à partir de ce sraping ont étaient traitées afin d'assuer leur utilisabilité et la pertinence par rapport à l'objectif recherché.\n",
    "    \n",
    "   ### Analyse descriptive\n",
    "\n",
    "<p  style = \"text-align: justify;  font-size : 16px;\">Dans cette section, nous avons décrit les principales caractéristiques relatives aux établissements et en même temps avons passé en revue les caractéristiques des élèves qui sont souvent admis selon les filières et leur nature (sélectivité, discipline etc). Notons que dans l'analyse, il a était constaté qu'il existe des établissements qui n'ont reçu aucune demande émanant des candidats. Et donc, nous avons jugé nécessaire de faire une analyse particulière à ce groupe d'établissements afin de dégager leurs principales caractéristiques qui pourraient expliquer ce phénomène. Afin d'approfondir, cette analyse, un modèle Logit (avec comme variable dépendante : le fait que l'établissement reçoit ou non). \n",
    "<p>   \n",
    "    \n",
    "  ### Modélisation \n",
    "    \n",
    "\n",
    "    "
   ]
  },
  {
   "cell_type": "markdown",
   "id": "16d9a5ec",
   "metadata": {},
   "source": [
    "# PARTIE 1 <div style =\"border: blue solid 5px; font-family: Agency FB; \tbox-shadow: 0px 0px 10px rgba(0, 0, 0, 0.5);\tbackground-color: rgba(50, 50, 50, 0.5);\"><font color=\"black\"> : Récupération et traitement des données</font> </div>"
   ]
  },
  {
   "cell_type": "markdown",
   "id": "ee0e4b5b",
   "metadata": {},
   "source": [
    "Dans cette section, nous décrivons l'ensemble des étpes d'acquisition des données et décrivons le processus d'apurement de la base."
   ]
  },
  {
   "cell_type": "markdown",
   "id": "064c7bb9",
   "metadata": {},
   "source": [
    "## 1.1 Importation des données<div style =\"border: blue solid 1px;box-shadow: 0px 0px 10px rgba(0, 0, 0, 0.5);\tbackground-color: rgba(50, 50, 50, 0.5);\"><font color=\"black\"> </font> </div>"
   ]
  },
  {
   "cell_type": "markdown",
   "id": "31dbf5f3",
   "metadata": {},
   "source": [
    "  \n",
    "###  a. Présentation des données à récupérer "
   ]
  },
  {
   "cell_type": "markdown",
   "id": "72bdb841",
   "metadata": {},
   "source": [
    "Les données utilisées dans le projet sont formées par deux bases qui traitent de deux thématiques plus ou moins différentes mais qui concernent néanmoins les établissements. <br>\n",
    "\n",
    "* **Les données sur les voeux émis par les candidats :**\n",
    "Cette base de données (issues des données Parcoursup de la campagne 2020) nous permet d'avoir les informations relatives aux filières dispensés par l'établissement et selon chaque filière nous avons les informations sur la capacité d'accueil, les demandes faites par les candidats, les acceptations etc. En résumé, nous avons, pour chaque filière et selon l'établissement : <br>\n",
    "\n",
    "    * La capacité d’accueil<br>\n",
    "    * Le nombre de voeux reçus selon le sexe et la série du baccalauréat<br>\n",
    "    * Le nombre de voeux classés par l’établissement de la formation d’accueil selon la série du baccalauréat<br>\n",
    "    * Le nombre de propositions d’admission faites selon la série du baccalauréat <br>\n",
    "    * Le nombre d’admis selon le sexe, la série du baccalauréat et la mention obtenue<br>\n",
    "    * Le nombre de boursiers <br>\n",
    "    \n",
    "Des dérivés de ces données sont entre autres les pourcentages correspondants. En plus de cela, les informations qualitatives notamment le caractère sélectif de l'établissement, son statut (public, privé etc.) et son type (lycéee, université etc.) sont renseignées. Ce qui permettra de faire des analyses compratives selon les dimensions qualitatives.\n",
    "* **Les données sur les voeux émis par les candidats :** \n",
    "L'un des objectif de ce travail est de pouvoir trouver les variables pertinentes pour expliquer l'attractivité des établissements. C'est dans ce but, que nous avons décider d'inclure dans l'analyse les données reltives à l'insertion des diplômés des différents établissements et selon les filières. Les données obtenues renseignent globalement sur l'insertion des diplômés en 2018. Nous avons choisi ce décallage (de deux ans, comparé à la base sur les voeux qui est de 2020) pour essayer de capter la pertinence d'une éventuelle liaison. Car il est plus vraisemblable que les taux d'insertion observés en 2018 aient un impact sur l'attractivité en 2020, plutôt de prendre les taux observés à la même date. Les informations qui nous intéressent tournent principalement autour de :<br>\n",
    "\n",
    "    * Le taux d'insertion dans le marché du travail est diplômés<br>\n",
    "    * Les salaires de ces diplômés<br>\n",
    "    * Le domaine d'emploi<br>\n"
   ]
  },
  {
   "cell_type": "markdown",
   "id": "0282ecf6",
   "metadata": {},
   "source": [
    "  \n",
    "### b. Scraping des données "
   ]
  },
  {
   "cell_type": "code",
   "execution_count": null,
   "id": "ae922fa0",
   "metadata": {},
   "outputs": [],
   "source": [
    "#Racine principale de récupération des données\n",
    "glob_path = \"https://data.enseignementsup-recherche.gouv.fr/api/records/1.0/search/?dataset=\""
   ]
  },
  {
   "cell_type": "markdown",
   "id": "52818fcc",
   "metadata": {},
   "source": [
    "* **VŒUX DE POURSUITE D'ETUDES**"
   ]
  },
  {
   "cell_type": "markdown",
   "id": "61c4d87b",
   "metadata": {},
   "source": [
    "On a 12760 lignes d'individus et l'Api ne permet pas de récupérer plus de 10 000 lignes et donc on a troué comme astuce de récupérer selon le type de l'établissement avant de merger les bases."
   ]
  },
  {
   "cell_type": "code",
   "execution_count": null,
   "id": "ad19da6a",
   "metadata": {},
   "outputs": [],
   "source": [
    "#Segmentation pour pouvoir tout récupérer car l'API n'autorise pas plus de 10 000 lignes \n",
    "type_etablissement = [\"2_Lyc%C3%A9es\", \"1_Universit%C3%A9s\", \"3_Autres+formations\"]"
   ]
  },
  {
   "cell_type": "code",
   "execution_count": null,
   "id": "d2b43d8a",
   "metadata": {},
   "outputs": [],
   "source": [
    "#Le lien de récupération\n",
    "voeux_poursuite = glob_path+\"fr-esr-parcoursup&rows=6020&sort=tri&facet=session&facet=contrat_etab&facet=cod_uai&facet=g_ea_lib_vx&facet=dep_lib&facet=region_etab_aff&facet=acad_mies&facet=select_form&facet=fili&facet=form_lib_voe_acc&facet=regr_forma&facet=fil_lib_voe_acc&facet=detail_forma&facet=tri&facet=cod_aff_form&q=\""
   ]
  },
  {
   "cell_type": "code",
   "execution_count": null,
   "id": "acb19102",
   "metadata": {},
   "outputs": [],
   "source": [
    "#Récupération selon le type d'établissement\n",
    "data_etablissement = [requests.get(voeux_poursuite + type_etablissement[x]) for x in range(3)]"
   ]
  },
  {
   "cell_type": "code",
   "execution_count": null,
   "id": "8c07eee7",
   "metadata": {},
   "outputs": [],
   "source": [
    "#Vérification\n",
    "data_etablissement"
   ]
  },
  {
   "cell_type": "code",
   "execution_count": null,
   "id": "31a66975",
   "metadata": {},
   "outputs": [],
   "source": [
    "#Conversion de json à pd.Dataframe\n",
    "data_etablissement = [pd.json_normalize(x.json()['records'][:]) for x in data_etablissement ]"
   ]
  },
  {
   "cell_type": "code",
   "execution_count": null,
   "id": "6973d373",
   "metadata": {},
   "outputs": [],
   "source": [
    "#Base bien récupérée\n",
    "global_data_voeux = pd.concat(data_etablissement)\n",
    "#Adaptation des noms\n",
    "global_data_voeux.columns = [c.replace('fields.', '') for c in list(glob_data.columns) ]"
   ]
  },
  {
   "cell_type": "markdown",
   "id": "1ba1ae57",
   "metadata": {},
   "source": [
    "* **INSERTION PROFESSIONNEL**"
   ]
  },
  {
   "cell_type": "code",
   "execution_count": null,
   "id": "287b406c",
   "metadata": {},
   "outputs": [],
   "source": [
    "#Définition des variables de liens dynamiques pour faciliter le scraping et ne pas avoir à faire pour chaque lien le même code\n",
    "insertion = glob_path + \"fr-esr-insertion_professionnelle-\"\n",
    "niveau = [\"lp\", \"master\"]\n",
    "complement = \"&q=&rows=1500&sort=-annee&facet=annee&facet=diplome&facet=numero_de_l_etablissement&facet=etablissement&facet=academie&facet=domaine&facet=code_de_la_discipline&facet=discipline&facet=situation&facet=cle_etab&facet=cle_disc&facet=id_paysage&refine.annee=2018&refine.situation=18+mois+après+le+diplôme\""
   ]
  },
  {
   "cell_type": "code",
   "execution_count": null,
   "id": "5068cd1b",
   "metadata": {},
   "outputs": [],
   "source": [
    "#Récupération selon le niveau\n",
    "data_insertion = [requests.get(insertion + niveau[x] + complement) for x in range(2)]"
   ]
  },
  {
   "cell_type": "code",
   "execution_count": null,
   "id": "7fd02823",
   "metadata": {},
   "outputs": [],
   "source": [
    "#Conversion de json à pd.Dataframe\n",
    "data_insertion = [pd.json_normalize(x.json()['records'][:]) for x in data_insertion ]"
   ]
  },
  {
   "cell_type": "code",
   "execution_count": null,
   "id": "65707ccd",
   "metadata": {},
   "outputs": [],
   "source": [
    "###Les données selon le niveau sont identifiées par la varibale datsetid"
   ]
  },
  {
   "cell_type": "code",
   "execution_count": null,
   "id": "3f750215",
   "metadata": {},
   "outputs": [],
   "source": [
    "#Extraction finale\n",
    "glob_data_insertion = pd.concat(data_insertion)\n",
    "glob_data_insertion.columns = [c.replace('fields.', '') for c in list(glob_data_insertion.columns) ]"
   ]
  },
  {
   "cell_type": "markdown",
   "id": "b3d0787d",
   "metadata": {},
   "source": [
    "Ainsi, toutes nos deux bases sont bien scrapées et nous allons maintenant passé à leur diagnostic et apurement"
   ]
  },
  {
   "cell_type": "markdown",
   "id": "08f9a634",
   "metadata": {},
   "source": [
    "## 1.2 Diagnostic et apurement des données<div style =\"border: blue solid 1px;box-shadow: 0px 0px 10px rgba(0, 0, 0, 0.5);\tbackground-color: rgba(50, 50, 50, 0.5);\"><font color=\"black\"> </font> </div>"
   ]
  },
  {
   "cell_type": "markdown",
   "id": "5b6de482",
   "metadata": {},
   "source": [
    "Cette section est réservée au traitement de nos données. Il s’agira de traiter les données\n",
    "manquantes (si elles sont présentes), de corriger les valeurs rares ou extrêmes qui peuvent\n",
    "déséquilibrer le modèle, de traiter les valeurs aberrantes qui conduisent à un faux modèle\n",
    "(car basé sur des mesures fausses). En outre dans l’utilisation éventuelle des méthodes\n",
    "à hypothèses de normalités (comme l’analyse discriminante de Ficher), nous effectuerons\n",
    "des tests de normalité, d’homoscédasticité pour s’assurer de la validité des modèles."
   ]
  },
  {
   "cell_type": "markdown",
   "id": "e91fde1d",
   "metadata": {},
   "source": [
    "###  **VŒUX DE POURSUITE D'ETUDES**"
   ]
  },
  {
   "cell_type": "markdown",
   "id": "1dc01b43",
   "metadata": {},
   "source": [
    "Cette partie traite la base relative au voeux émis par les candidats."
   ]
  },
  {
   "cell_type": "code",
   "execution_count": null,
   "id": "066e9ad8",
   "metadata": {
    "scrolled": false
   },
   "outputs": [],
   "source": [
    "global_data_voeux.shape[1]"
   ]
  },
  {
   "cell_type": "code",
   "execution_count": null,
   "id": "bcf975ba",
   "metadata": {},
   "outputs": [],
   "source": [
    "#On copie la base pour ne pas avoir à refaire le scraping une fois qu'on veut revenir sur la forme initiale.\n",
    "df = global_data_voeux.copy()\n"
   ]
  },
  {
   "cell_type": "code",
   "execution_count": null,
   "id": "2a97149d",
   "metadata": {},
   "outputs": [],
   "source": [
    "df.head()"
   ]
  },
  {
   "cell_type": "code",
   "execution_count": null,
   "id": "68e38f53",
   "metadata": {},
   "outputs": [],
   "source": [
    "df.dtypes"
   ]
  },
  {
   "cell_type": "code",
   "execution_count": null,
   "id": "a20ba34e",
   "metadata": {},
   "outputs": [],
   "source": [
    "# Stockage des types numériques dans une liste\n",
    "numerics = ['int16', 'int32', 'int64', 'float16', 'float32', 'float64']"
   ]
  },
  {
   "cell_type": "code",
   "execution_count": null,
   "id": "1305c304",
   "metadata": {},
   "outputs": [],
   "source": [
    "# Résumé des variables quentitatives : \n",
    "#Ceci n'est pas à but interprétation mais juste voir les données dont nous disposons de manière résumée.\n",
    "df.select_dtypes(include=numerics).describe()"
   ]
  },
  {
   "cell_type": "markdown",
   "id": "69d8892a",
   "metadata": {},
   "source": [
    "#### Doublons"
   ]
  },
  {
   "cell_type": "raw",
   "id": "03b113a6",
   "metadata": {},
   "source": [
    "Vérifions les doublons : par précaution, on en lève les varibles ci-dessous pour ne pas avoir d'erreurs avec duplicated() qui ne fonctionne pas en présence de variables list"
   ]
  },
  {
   "cell_type": "code",
   "execution_count": null,
   "id": "4519e79f",
   "metadata": {},
   "outputs": [],
   "source": [
    "df_without_list = df.drop(['g_olocalisation_des_formations', 'geometry.coordinates'], axis = 1)"
   ]
  },
  {
   "cell_type": "code",
   "execution_count": null,
   "id": "57991af6",
   "metadata": {},
   "outputs": [],
   "source": [
    "#On conclue l'absence de doublons\n",
    "df_without_list.duplicated().any()"
   ]
  },
  {
   "cell_type": "markdown",
   "id": "44cf0bb2",
   "metadata": {},
   "source": [
    "#### Valeurs manquantes"
   ]
  },
  {
   "cell_type": "markdown",
   "id": "ffd91a22",
   "metadata": {},
   "source": [
    "Pour les valeurs manquantes, nous les détectons d'abord avant de les corriger. Une représentation de la proportion de valeurs manquantes est effectuée."
   ]
  },
  {
   "cell_type": "code",
   "execution_count": null,
   "id": "45ee1048",
   "metadata": {},
   "outputs": [],
   "source": [
    "#On récupère une base donnant chaque variable et la proportion de na à partir de la fonction detect_missings créee\n",
    "missings = detect_missings(df, base_ref=global_data_voeux)"
   ]
  },
  {
   "cell_type": "code",
   "execution_count": null,
   "id": "b4277f1a",
   "metadata": {},
   "outputs": [],
   "source": [
    "#Représentation de proportions par variables : la fonction est plot_missinngs (cf function.ipynb)\n",
    "plot_missings(missings, seuil = 0)"
   ]
  },
  {
   "cell_type": "code",
   "execution_count": null,
   "id": "22e2c9f1",
   "metadata": {},
   "outputs": [],
   "source": [
    "#Suppression des variables \"non pertinentes\"\n",
    "    #Critère 1 : sum(NA)>30%\n",
    "var_del1 = list(missings[missings['Pourcentage de valeurs manquantes']>30]['Vars'])\n",
    "    #Critère 2 : \"pas itules pour l'analyse actuellement\"\n",
    "var_del2 = ['geometry.coordinates', 'geometry.type', 'datasetid','recordid','record_timestamp',  'g_olocalisation_des_formations', 'lien_form_psup', 'detail_forma', 'session']\n",
    "var_del = list(np.unique(var_del1 + var_del2))"
   ]
  },
  {
   "cell_type": "code",
   "execution_count": null,
   "id": "507bb6e8",
   "metadata": {},
   "outputs": [],
   "source": [
    "df = df.drop(var_del, axis = 1)"
   ]
  },
  {
   "cell_type": "code",
   "execution_count": null,
   "id": "927aa883",
   "metadata": {},
   "outputs": [],
   "source": [
    "#Récapitulatif\n",
    "missings_new = detect_missings(df, base_ref=global_data_voeux)\n"
   ]
  },
  {
   "cell_type": "code",
   "execution_count": null,
   "id": "d2c79b25",
   "metadata": {},
   "outputs": [],
   "source": [
    "#Variables avec au moins une valeurs manquantes :  max = 8,5..%\n",
    "plot_missings(missings_new, seuil = 0)"
   ]
  },
  {
   "cell_type": "code",
   "execution_count": null,
   "id": "7d8d9d6f",
   "metadata": {},
   "outputs": [],
   "source": [
    "#Capacité de l'établissement par formation : Il existe établissement qui à une valeur manquante, à vérifier car problématique.\n",
    "df['capa_fin'].isna().sum()"
   ]
  },
  {
   "cell_type": "code",
   "execution_count": null,
   "id": "f41b41f4",
   "metadata": {},
   "outputs": [],
   "source": [
    "#En effet toute la ligne est presque constituée de na, alors on décide d'exclure cette ligne\n",
    "df[df['capa_fin'].isna()]"
   ]
  },
  {
   "cell_type": "code",
   "execution_count": null,
   "id": "cab70af4",
   "metadata": {},
   "outputs": [],
   "source": [
    "#Suppression\n",
    "df = df[~df['capa_fin'].isna()]"
   ]
  },
  {
   "cell_type": "markdown",
   "id": "19fcf2b8",
   "metadata": {},
   "source": [
    "#### Imputation des valeurs manquantes"
   ]
  },
  {
   "cell_type": "code",
   "execution_count": null,
   "id": "5725ce9d",
   "metadata": {},
   "outputs": [],
   "source": [
    "#Concentrons nous d'abord sur ces variables"
   ]
  },
  {
   "cell_type": "code",
   "execution_count": null,
   "id": "51d482b1",
   "metadata": {},
   "outputs": [],
   "source": [
    "#Variables qui ont au moins une valeur manquantes\n",
    "any_miss = list(missings_new[missings_new['Pourcentage de valeurs manquantes'] > 0]['Vars'])"
   ]
  },
  {
   "cell_type": "code",
   "execution_count": null,
   "id": "1b6a29bf",
   "metadata": {
    "scrolled": false
   },
   "outputs": [],
   "source": [
    "#On affiche les libélés des variables stockés dans un dictionnaire (name) crée dans function.ipyn\n",
    "for key in any_miss:\n",
    "    print(\"{}: {}\\n\".format(key,names[key]))"
   ]
  },
  {
   "cell_type": "code",
   "execution_count": null,
   "id": "38aece03",
   "metadata": {},
   "outputs": [],
   "source": [
    "#Ces variables sont liées et peuvent être recalculées avec les données donc pas besoin d'imputation\n",
    "# taux_adm_psup = sum(rank) / nb_voe_pp\n",
    "taux = ['taux_adm_psup', 'taux_adm_psup_techno' , 'taux_adm_psup_pro', 'taux_adm_psup_gen']"
   ]
  },
  {
   "cell_type": "code",
   "execution_count": null,
   "id": "364b5310",
   "metadata": {},
   "outputs": [],
   "source": [
    "#On prends seulement les variables avec na au moins\n",
    "df_any_miss = df[any_miss]"
   ]
  },
  {
   "cell_type": "code",
   "execution_count": null,
   "id": "805bf593",
   "metadata": {},
   "outputs": [],
   "source": [
    "#Relation entre les variables : \n",
    "#pct_neobac = pct_bg + pct_bt + pct_bp + Autre\n",
    "#acc_tot = acc_neobac + Autre\n",
    "#pct_neobac = pct_bours + Autre = pct_sansmention + pct_ab + pct_b + pct_tb + pact_mention_nonrenseigne"
   ]
  },
  {
   "cell_type": "code",
   "execution_count": null,
   "id": "9d43a95b",
   "metadata": {},
   "outputs": [],
   "source": [
    "#CAS où on a aucune informations sur les répartitions des admis\n",
    "cond = (df_any_miss['pct_neobac'].isna()) & ((df_any_miss['pct_bg'].isna()) & (df_any_miss['pct_bt'].isna()) & (df_any_miss['pct_bp'].isna()) )\n",
    "df[cond]\n",
    "#Existerait-il des établissements sans admis? \n",
    "\n",
    "#Des établissement qui n'ont pas reçu aucune réponse sur leurs propositions\n",
    "df[df['acc_tot'] ==0]\n",
    "\n",
    "#S'agit-il de ces établissements : effectivement, oui!\n",
    "df[df['acc_tot'] ==0].compare(df[cond])\n",
    "\n",
    "#Il est donc intéressant de voir ces établissements : ceux qui les caractérisent"
   ]
  },
  {
   "cell_type": "code",
   "execution_count": null,
   "id": "3daf143b",
   "metadata": {},
   "outputs": [],
   "source": [
    "#En excluant ces établissements on peut corriger les valeurs manquantes sur les pct en utilisant les effectifs\n",
    "for key in ['acc_tot','acc_brs', 'acc_neobac', 'acc_ab', 'acc_b', 'acc_tb', 'acc_bg','acc_bg_mention','acc_bt', 'acc_bt_mention', 'acc_bp', 'acc_bp_mention', 'acc_at'] : \n",
    "    print(\"{}: {}\\n\".format(key,names[key]))         \n",
    "                "
   ]
  },
  {
   "cell_type": "code",
   "execution_count": null,
   "id": "fa8e2422",
   "metadata": {},
   "outputs": [],
   "source": [
    "#Pour les établissements ayant au moins un admis, on a pas de valeurs manquantes sur les effectifs désagrégés (bg, bt, bp etc)\n",
    "#On peut donc corriger les pourcentages!!\n",
    "df_no_acc = df[(df['acc_tot']==0)]\n",
    "plot_missings(detect_missings(df[(df['acc_tot']!=0)], base_ref=df), 0)"
   ]
  },
  {
   "cell_type": "code",
   "execution_count": null,
   "id": "a7ced19a",
   "metadata": {},
   "outputs": [],
   "source": [
    "df_any_acc = df[df['acc_tot']!=0]\n",
    "df_any_acc.shape\n"
   ]
  },
  {
   "cell_type": "code",
   "execution_count": null,
   "id": "8afe5ef2",
   "metadata": {},
   "outputs": [],
   "source": [
    "#Correction pour les agrégation selon le type de formation\n",
    "dic = {'pct_bg' : 'acc_bg', 'pct_bt' : 'acc_bt', 'pct_bp' : 'acc_bp'}"
   ]
  },
  {
   "cell_type": "code",
   "execution_count": null,
   "id": "52610d0c",
   "metadata": {},
   "outputs": [],
   "source": [
    "df_any_acc.reset_index(inplace=True)\n",
    "for pct, eff in dic.items() :\n",
    "    #Dans le cas où le dénominateur est null, on remplace par 0\n",
    "    df_any_acc0 = df_any_acc[(df_any_acc[pct].isna()) & (df_any_acc[eff] == 0)].fillna({pct : 0})\n",
    "    df_any_acc = df_any_acc0.append(df_any_acc[~((df_any_acc[pct].isna()) & (df_any_acc[eff] == 0))].fillna({pct : 0}))\n",
    "    #Dans le cas où le dénominateur n'est pas null, on applique la formule\n",
    "    #df_any_acc_not_null = df_any_acc[(df_any_acc[pct].isna()) & (df_any_acc[eff] != 0)].fillna({pct : 100*df_any_acc[eff]/df_any_acc['acc_tot']})\n",
    "    #Base finale\n",
    "    #df_any_acc = df_any_acc_null.append(df_any_acc_not_null, ignore_index=True)"
   ]
  },
  {
   "cell_type": "code",
   "execution_count": null,
   "id": "2ef6c9a3",
   "metadata": {},
   "outputs": [],
   "source": [
    "#On crée la variable qui capte le pourcentage des autres candidats admis\n",
    "df_any_acc['pct_at'] = 100 - (df_any_acc['pct_neobac'])\n",
    "df_any_acc.acc_at = df_any_acc.acc_tot - df_any_acc.acc_neobac"
   ]
  },
  {
   "cell_type": "code",
   "execution_count": null,
   "id": "5f0c6134",
   "metadata": {},
   "outputs": [],
   "source": [
    "df_any_acc.shape"
   ]
  },
  {
   "cell_type": "code",
   "execution_count": null,
   "id": "7f62e536",
   "metadata": {},
   "outputs": [],
   "source": [
    "#Correction pour les agrégation selon la mention\n",
    "dic = {'pct_bg_mention' : ['acc_bg_mention', 'acc_bg'], 'pct_bt_mention' : ['acc_bt_mention', 'acc_bt'], 'pct_bp_mention' : ['acc_bp_mention', 'acc_bp']}"
   ]
  },
  {
   "cell_type": "code",
   "execution_count": null,
   "id": "54a6bbb2",
   "metadata": {},
   "outputs": [],
   "source": [
    "\n",
    "for pct, eff in dic.items() :\n",
    "    #df_any_acc[pct] = df_any_acc[eff]/df_any_acc['acc_tot']\n",
    "    \n",
    "    #df_any_acc[df_any_acc[eff[1]]!=0][pct].fillna(df_any_acc[df_any_acc[eff[1]!=0].isna()][eff[0]]/df_any_acc[~df_any_acc[eff[1]]!=0][eff[1]], inplace=True)\n",
    "    #df_any_acc[df_any_acc[eff[1]]==0][pct].fillna(0, inplace=True)\n",
    "    \n",
    "    #Dans le cas où le dénominateur est null, on remplace par 0\n",
    "    df_any_acc0 = df_any_acc[(df_any_acc[pct].isna()) & (df_any_acc[eff[1]] == 0)].fillna({pct : 0})\n",
    "    df_any_acc = df_any_acc0.append(df_any_acc[~((df_any_acc[pct].isna()) & (df_any_acc[eff[1]] == 0))].fillna({pct : 0}))\n",
    "    #Dans le cas où le dénominateur n'est pas null, on applique la formule\n",
    "    #df_any_acc = df_any_acc[(df_any_acc[pct].isna()) & (df_any_acc[eff[1]] != 0)].fillna({pct : 100*df_any_acc[eff[0]]/df_any_acc[eff[1]]})\n"
   ]
  },
  {
   "cell_type": "code",
   "execution_count": null,
   "id": "4a19c046",
   "metadata": {
    "scrolled": true
   },
   "outputs": [],
   "source": [
    "df_any_acc.shape"
   ]
  },
  {
   "cell_type": "code",
   "execution_count": null,
   "id": "3ac24435",
   "metadata": {},
   "outputs": [],
   "source": [
    "#Il semble que les valeurs manquantes sont seulement pour les établiblissements où pct_neobac=0 (normal), vérifions !\n",
    "cond = (df_any_acc.pct_mention_nonrenseignee.isna()) & (df_any_acc.pct_bours.isna()) & (df_any_acc.pct_tb.isna()) & (df_any_acc.pct_b.isna()) & (df_any_acc.pct_ab.isna()) & (df_any_acc.pct_sansmention.isna())  & (df_any_acc.pct_b.isna()) & (df_any_acc.pct_aca_orig.isna()) & (df_any_acc.pct_aca_orig_idf.isna())"
   ]
  },
  {
   "cell_type": "code",
   "execution_count": null,
   "id": "0bb76f8c",
   "metadata": {},
   "outputs": [],
   "source": [
    "var = ['pct_tb', 'pct_b', 'pct_ab', 'pct_sansmention', 'pct_bours','pct_mention_nonrenseignee',  'pct_aca_orig', 'pct_aca_orig_idf']\n"
   ]
  },
  {
   "cell_type": "code",
   "execution_count": null,
   "id": "5aadd00a",
   "metadata": {
    "scrolled": false
   },
   "outputs": [],
   "source": [
    "df_any_acc[var][cond]"
   ]
  },
  {
   "cell_type": "code",
   "execution_count": null,
   "id": "f7e5cb55",
   "metadata": {
    "scrolled": true
   },
   "outputs": [],
   "source": [
    "df_any_acc[var][df_any_acc['pct_neobac']==0]"
   ]
  },
  {
   "cell_type": "code",
   "execution_count": null,
   "id": "34e47b34",
   "metadata": {},
   "outputs": [],
   "source": [
    "#Les bases sont identiques\n",
    "df_any_acc[['pct_neobac', 'pct_tb', 'pct_b', 'pct_ab', 'pct_sansmention', 'pct_bours', 'pct_mention_nonrenseignee',  'pct_aca_orig', 'pct_aca_orig_idf']][df_any_acc['pct_neobac']==0].compare(df_any_acc[['pct_neobac', 'pct_tb', 'pct_b', 'pct_ab', 'pct_sansmention', 'pct_bours', 'pct_mention_nonrenseignee',  'pct_aca_orig', 'pct_aca_orig_idf']][cond])\n",
    "#Donc on remplace seulement les NA par 0 "
   ]
  },
  {
   "cell_type": "code",
   "execution_count": null,
   "id": "a89369d9",
   "metadata": {
    "scrolled": true
   },
   "outputs": [],
   "source": [
    "df_any_acc[var] = df_any_acc[var].apply(lambda x : x.fillna(0))"
   ]
  },
  {
   "cell_type": "code",
   "execution_count": null,
   "id": "62d2ef99",
   "metadata": {},
   "outputs": [],
   "source": [
    "df_any_acc[var][df_any_acc['pct_neobac']==0]"
   ]
  },
  {
   "cell_type": "code",
   "execution_count": null,
   "id": "a1161246",
   "metadata": {
    "scrolled": true
   },
   "outputs": [],
   "source": [
    "plot_missings(detect_missings(df_any_acc, base_ref= df), 0)"
   ]
  },
  {
   "cell_type": "code",
   "execution_count": null,
   "id": "b5c809f3",
   "metadata": {},
   "outputs": [],
   "source": [
    "#Pour les établissements où on a pas de postulants pour un type de bac donné (général, tech ou pro) le NaN dans le taux d'admis est en réalité un 0\n",
    "\n",
    "#Correction\n",
    "dic = {'pct_bg' : 'taux_adm_psup_gen', 'pct_bt' : 'taux_adm_psup_techno', 'pct_bp' : 'taux_adm_psup_pro'}"
   ]
  },
  {
   "cell_type": "code",
   "execution_count": null,
   "id": "a0051c34",
   "metadata": {},
   "outputs": [],
   "source": [
    "df_any_acc[(df_any_acc['taux_adm_psup_gen']>0) & (df_any_acc['pct_bg']==0)][['pct_at', 'taux_adm_psup_gen','pct_bt', 'pct_bp', 'pct_bg', 'pct_neobac', 'taux_adm_psup' ]]"
   ]
  },
  {
   "cell_type": "code",
   "execution_count": null,
   "id": "dad5f1c5",
   "metadata": {
    "scrolled": true
   },
   "outputs": [],
   "source": [
    "##BASE PROPRE\n",
    "#Les établissements ayant au moins reçu une demande admission\n",
    "df_any_acc.set_index(\"cod_uai\", inplace = True)\n",
    "#Les établissements ayant reçu aucune demande admission\n",
    "df_no_acc.fillna(0, inplace=True)\n",
    "df_no_acc['pct_at'] = 0\n",
    "\n"
   ]
  },
  {
   "cell_type": "code",
   "execution_count": null,
   "id": "20ed93bb",
   "metadata": {},
   "outputs": [],
   "source": [
    "#Variable d'identification\n",
    "df_any_acc['Reçu au moins une admission'] = 'Oui'\n",
    "df_no_acc['Reçu au moins une admission'] = 'Non'"
   ]
  },
  {
   "cell_type": "code",
   "execution_count": null,
   "id": "52fb2743",
   "metadata": {},
   "outputs": [],
   "source": [
    "#Merging des bases\n",
    "base_globale_voeux = pd.concat([df_any_acc, df_no_acc])\n",
    "base_globale_voeux.reset_index(inplace = True)\n",
    "base_globale_voeux.set_index('g_ea_lib_vx', inplace=True)"
   ]
  },
  {
   "cell_type": "code",
   "execution_count": null,
   "id": "02f41007",
   "metadata": {},
   "outputs": [],
   "source": [
    "base_globale_voeux.head()"
   ]
  },
  {
   "cell_type": "markdown",
   "id": "ddbcc344",
   "metadata": {},
   "source": [
    "###  **INSERTION PROFESSIONNEL**"
   ]
  },
  {
   "cell_type": "markdown",
   "id": "d4b124a0",
   "metadata": {},
   "source": [
    "Dans cette section nous passons à l'apurement de la base 'Insertion professionnelle'. Nous avons la variable 'remarque' qui renseigne si les données recueillies sont pertinentes ou robustes pour l'analyse, vis-à-vis des conditions de l'enquête ou des taux de réponses plus spécifiquement. Ainsi, nous respectons ce critère et décidons d'exclure ces lignes de l'analyse pour ne pas que ça ait un impact sur les résultats."
   ]
  },
  {
   "cell_type": "code",
   "execution_count": null,
   "id": "71503630",
   "metadata": {},
   "outputs": [],
   "source": [
    "sns.countplot(data=glob_data_insertion, y='remarque', order=glob_data_insertion.remarque.value_counts().index )\n",
    "plt.title('Remarque sur la pertience des données')"
   ]
  },
  {
   "cell_type": "code",
   "execution_count": null,
   "id": "f0a41a70",
   "metadata": {},
   "outputs": [],
   "source": [
    "#On garde les établissements dont les données sont jugés pertinentes : ils n'ont aucune remarque particulière (na)\n",
    "glob_data_insertion = glob_data_insertion[glob_data_insertion.remarque.isna()]"
   ]
  },
  {
   "cell_type": "code",
   "execution_count": null,
   "id": "3bb3b37b",
   "metadata": {},
   "outputs": [],
   "source": [
    "#Copy\n",
    "df_insertion = glob_data_insertion.copy()"
   ]
  },
  {
   "cell_type": "code",
   "execution_count": null,
   "id": "c990913d",
   "metadata": {},
   "outputs": [],
   "source": [
    "#On enlève les variables non pertinentes (en termes de contenu)\n",
    "df_insertion = df_insertion.drop([\"datasetid\", \"recordid\", \"record_timestamp\", \"remarque\", 'etablissementactuel'], axis = 1)"
   ]
  },
  {
   "cell_type": "code",
   "execution_count": null,
   "id": "ad47a125",
   "metadata": {},
   "outputs": [],
   "source": [
    "#Affichage\n",
    "df_insertion.set_index('etablissement').head()"
   ]
  },
  {
   "cell_type": "markdown",
   "id": "632bfc81",
   "metadata": {},
   "source": [
    "#### Doublons"
   ]
  },
  {
   "cell_type": "code",
   "execution_count": null,
   "id": "5c79daf7",
   "metadata": {},
   "outputs": [],
   "source": [
    "#On conclue l'absence de doublons\n",
    "df_insertion.duplicated().any()"
   ]
  },
  {
   "cell_type": "markdown",
   "id": "268ceab1",
   "metadata": {},
   "source": [
    "#### Valeurs manquantes"
   ]
  },
  {
   "cell_type": "code",
   "execution_count": null,
   "id": "475280ed",
   "metadata": {},
   "outputs": [],
   "source": [
    "missings = detect_missings(df_insertion, base_ref=glob_data_insertion)"
   ]
  },
  {
   "cell_type": "code",
   "execution_count": null,
   "id": "f31fa5ee",
   "metadata": {},
   "outputs": [],
   "source": [
    "# A première vue, il semble pas avoir trop de valeurs manquantes. Mais (cf cellule suivante -->)\n",
    "plot_missings(missings,0)"
   ]
  },
  {
   "cell_type": "code",
   "execution_count": null,
   "id": "08dfe941",
   "metadata": {},
   "outputs": [],
   "source": [
    "#Certaines variables n'ont aucun sens dans l'analyse : comme [code_de_lacademie, id_paysage ]\n",
    "df_insertion = df_insertion.drop(['code_de_l_academie', 'id_paysage' ], axis = 1)"
   ]
  },
  {
   "cell_type": "markdown",
   "id": "8bc3eaa1",
   "metadata": {},
   "source": [
    "Selon la réference des données, il est indiqué que les données non significatif (valeurs faibles) sont labélisées 'ns : non significative' et les données manquantes par 'nd : non disponibles'. Par conséquent, nous allons d'ores et déjà remplacer tous les 'nd' par Nan compréhensibles par Python, comme étant effectivement des NaN. Ensuite pour le cas du label 'ns', nous déidons d'identifier ces données par 0 (pour dire faible). Ainsi, nous pourrons voir les établissements qui on des taux d'insertion faibles, moyens ou élevés."
   ]
  },
  {
   "cell_type": "code",
   "execution_count": null,
   "id": "8cad97cd",
   "metadata": {},
   "outputs": [],
   "source": [
    "df_insertion= df_insertion.apply(lambda x : x.replace({'ns' : 0, 'nd' : np.nan}), axis=1)\n"
   ]
  },
  {
   "cell_type": "code",
   "execution_count": null,
   "id": "56e419fd",
   "metadata": {},
   "outputs": [],
   "source": [
    "missings = detect_missings(df_insertion, base_ref=glob_data_insertion)\n",
    "plot_missings(missings,0)"
   ]
  },
  {
   "cell_type": "markdown",
   "id": "52ab6505",
   "metadata": {},
   "source": [
    "Nous vérifions si on est en face de valeurs manquantes de type **MCAR (Missing Completly At Random)** : auquel cas supprimer ces onnées n'impacterons pas l'analyse."
   ]
  },
  {
   "cell_type": "code",
   "execution_count": null,
   "id": "5158aebd",
   "metadata": {},
   "outputs": [],
   "source": [
    "#On récupère ces variables Variables\n",
    "var_with_miss = list(missings[missings['Pourcentage de valeurs manquantes']>0]['Vars'])"
   ]
  },
  {
   "cell_type": "code",
   "execution_count": null,
   "id": "ef4ccc61",
   "metadata": {},
   "outputs": [],
   "source": [
    "#On ajoute diplome : On cherche à voir si les Na peut être expliqués par le diplome (ce qui n'ont pas licence susceptibles de ne pas encore travailler)\n",
    "vars = var_with_miss + ['diplome']"
   ]
  },
  {
   "cell_type": "code",
   "execution_count": null,
   "id": "0af626b5",
   "metadata": {},
   "outputs": [],
   "source": [
    "vars"
   ]
  },
  {
   "cell_type": "code",
   "execution_count": null,
   "id": "53101f80",
   "metadata": {},
   "outputs": [],
   "source": [
    "#Prend 1 si NaN et 0 sinon\n",
    "matrix = 1-1*df_insertion[var_with_miss].isna()"
   ]
  },
  {
   "cell_type": "code",
   "execution_count": null,
   "id": "344b780b",
   "metadata": {},
   "outputs": [],
   "source": [
    "matrix['diplome'] = df_insertion['diplome']"
   ]
  },
  {
   "cell_type": "code",
   "execution_count": null,
   "id": "4f7048cf",
   "metadata": {
    "scrolled": true
   },
   "outputs": [],
   "source": [
    "#Pour chaque variable, on regarde sa dépendance avec le diplome"
   ]
  },
  {
   "cell_type": "code",
   "execution_count": null,
   "id": "df739e33",
   "metadata": {},
   "outputs": [],
   "source": [
    "from sklearn.feature_selection import chi2"
   ]
  },
  {
   "cell_type": "code",
   "execution_count": null,
   "id": "46fcb316",
   "metadata": {
    "scrolled": false
   },
   "outputs": [],
   "source": [
    "F, pvalue = chi2(matrix[var_with_miss], matrix['diplome'])"
   ]
  },
  {
   "cell_type": "code",
   "execution_count": null,
   "id": "9e60f84a",
   "metadata": {},
   "outputs": [],
   "source": [
    "pvalue<0.05"
   ]
  },
  {
   "cell_type": "markdown",
   "id": "34970623",
   "metadata": {},
   "source": [
    "Donc on peut voir que ne peut pas rejetter l'hypothèse d'indépendance, par conséquent on peut supposer qu'on est bien dans un cas de **MCAR (Missing Completly At Random)** : auquel cas les exclure n'impactera pas l'analyse."
   ]
  },
  {
   "cell_type": "code",
   "execution_count": null,
   "id": "b22b6a9f",
   "metadata": {},
   "outputs": [],
   "source": [
    "#BASE PROPRE \n",
    "df_insertion_finale = df_insertion"
   ]
  },
  {
   "cell_type": "markdown",
   "id": "e86cae35",
   "metadata": {},
   "source": [
    "# PARTIE 2 <div style =\"border: blue solid 5px; font-family: Agency FB; \tbox-shadow: 0px 0px 10px rgba(0, 0, 0, 0.5);\tbackground-color: rgba(50, 50, 50, 0.5);\"><font color=\"black\"> : Statistiques descriptives</font> </div>"
   ]
  },
  {
   "cell_type": "code",
   "execution_count": null,
   "id": "96ca5cd4",
   "metadata": {},
   "outputs": [],
   "source": []
  },
  {
   "cell_type": "code",
   "execution_count": null,
   "id": "492d05d2",
   "metadata": {},
   "outputs": [],
   "source": []
  },
  {
   "cell_type": "markdown",
   "id": "5203bc1c",
   "metadata": {},
   "source": [
    "**Quelles sont les filières les plus présentes ?**\n",
    "\n",
    "Le graphe ci-dessous montre la filière BTS est celle la plus fréquente au niveau des établissements. Plus de 50% des établissement offrent une formation débouchant sur un diplôme BTS. Les filières les plus rares (moins de 5% des établissements) sont la filière Licence accès Santé, la filière EFTS, les écoles de commerce et la filière Parcours Accès Santé Spécifique qui n'est proposée que par 1% des établissements."
   ]
  },
  {
   "cell_type": "code",
   "execution_count": null,
   "id": "80a0441e",
   "metadata": {},
   "outputs": [],
   "source": [
    "#Répartition des établissemnts selon les filières\n",
    "plt.subplots(figsize=(10, 7))\n",
    "sns.barplot(y=matrix.index,  x=\"Pourcentage (%)\", data=matrix, ci=None).set_title(\"Graphique 1 : Taux de participation des établissements selon la filière de formation\")\n"
   ]
  },
  {
   "cell_type": "code",
   "execution_count": null,
   "id": "d4e769a1",
   "metadata": {},
   "outputs": [],
   "source": []
  },
  {
   "cell_type": "code",
   "execution_count": null,
   "id": "2d26d709",
   "metadata": {},
   "outputs": [],
   "source": []
  },
  {
   "cell_type": "code",
   "execution_count": null,
   "id": "99005232",
   "metadata": {},
   "outputs": [],
   "source": [
    "#histogramme\n",
    "def graph(data):\n",
    "    data = \n",
    "    for colonne in data.columns:\n",
    "        print('***************************************************************************')\n",
    "        print('             :------------',colonne,'------------:')\n",
    "        print('***************************************************************************')\n",
    "        df[colonne].hist()\n",
    "        plt.show()"
   ]
  },
  {
   "cell_type": "code",
   "execution_count": null,
   "id": "3e92c700",
   "metadata": {},
   "outputs": [],
   "source": [
    "graph(base_globale)"
   ]
  },
  {
   "cell_type": "code",
   "execution_count": null,
   "id": "c7a5a500",
   "metadata": {
    "scrolled": true
   },
   "outputs": [],
   "source": [
    "###Corrélation_Matrice\n",
    "corrMatrix = df_n.corr()\n",
    "sns.heatmap(corrMatrix, annot=False)\n",
    "fig = plt.gcf()\n",
    "fig.set_size_inches(20, 20)\n",
    "plt.savefig('Matrice_Correlation.png')"
   ]
  },
  {
   "cell_type": "code",
   "execution_count": null,
   "id": "bf5dc156",
   "metadata": {},
   "outputs": [],
   "source": [
    "### STATISTIQUES"
   ]
  },
  {
   "cell_type": "code",
   "execution_count": null,
   "id": "0cff6299",
   "metadata": {},
   "outputs": [],
   "source": [
    "## Effectif total des candidats pour une formation : voe_tot"
   ]
  },
  {
   "cell_type": "code",
   "execution_count": null,
   "id": "c0fd0816",
   "metadata": {},
   "outputs": [],
   "source": [
    "#selon le sexe\n",
    "\n",
    "df['voe_tot_%_filles'] = 100*df['voe_tot_f']/df['voe_tot']"
   ]
  },
  {
   "cell_type": "code",
   "execution_count": null,
   "id": "1c5974dc",
   "metadata": {},
   "outputs": [],
   "source": [
    "df['voe_tot_%_filles'].describe()"
   ]
  },
  {
   "cell_type": "code",
   "execution_count": null,
   "id": "9fb05322",
   "metadata": {},
   "outputs": [],
   "source": [
    "df['g_ea_lib_vx'][df['voe_tot_%_filles'] == 0]"
   ]
  },
  {
   "cell_type": "code",
   "execution_count": null,
   "id": "05e6e4a2",
   "metadata": {
    "scrolled": true
   },
   "outputs": [],
   "source": [
    "sns.barplot(x=\"voe_tot\",  y=\"tri\", data=df, ci=None)\n"
   ]
  },
  {
   "cell_type": "code",
   "execution_count": null,
   "id": "3827f6a4",
   "metadata": {},
   "outputs": [],
   "source": [
    "sns.barplot(x=\"voe_tot_f\",  y=\"tri\", data=df, ci=None)"
   ]
  },
  {
   "cell_type": "code",
   "execution_count": null,
   "id": "1ce04cb1",
   "metadata": {},
   "outputs": [],
   "source": [
    "data = df[['g_ea_lib_vx','voe_tot',  'voe_tot_%_filles']].melt('g_ea_lib_vx', var_name='Type', value_name='effectif')"
   ]
  },
  {
   "cell_type": "code",
   "execution_count": null,
   "id": "431c3361",
   "metadata": {},
   "outputs": [],
   "source": [
    "li = list(df['voe_tot']) + list(df['voe_tot_f'])"
   ]
  },
  {
   "cell_type": "code",
   "execution_count": null,
   "id": "38725d5c",
   "metadata": {},
   "outputs": [],
   "source": []
  },
  {
   "cell_type": "code",
   "execution_count": null,
   "id": "eedb5587",
   "metadata": {},
   "outputs": [],
   "source": [
    "#create DataFrame\n",
    "df_p = pd.DataFrame({'Valeurs':list(df['voe_tot']) + list(df['voe_tot_f']),\n",
    "                     \n",
    "                   'Tri': list(df['tri'])+ list(df['tri'])\n",
    "                     ,\n",
    "                     \n",
    "                   'Iden':['Total']*len(df)+ ['Filles']*len(df)\n",
    "                               })"
   ]
  },
  {
   "cell_type": "code",
   "execution_count": null,
   "id": "22a7fa73",
   "metadata": {},
   "outputs": [],
   "source": [
    "df_p"
   ]
  },
  {
   "cell_type": "code",
   "execution_count": null,
   "id": "b5af1cb1",
   "metadata": {
    "scrolled": true
   },
   "outputs": [],
   "source": [
    "sns.barplot(x=\"Valeurs\",  y=\"Tri\", data=df_p, ci=None, hue = 'Iden')"
   ]
  },
  {
   "cell_type": "code",
   "execution_count": null,
   "id": "68bab219",
   "metadata": {},
   "outputs": [],
   "source": [
    "df[\"filles\"] = df['voe_tot_f']\n",
    "df[\"garcons\"] = df['voe_tot'] - df['voe_tot_f']\n",
    "hom = fem = df[['tri','garcons']].groupby('tri').sum()\n",
    "fem = df[['tri','filles']].groupby('tri').sum()"
   ]
  },
  {
   "cell_type": "code",
   "execution_count": null,
   "id": "d1f25b5a",
   "metadata": {},
   "outputs": [],
   "source": [
    "base = pd.concat([hom,fem],axis = 1)\n",
    "base.reset_index(inplace = True)"
   ]
  },
  {
   "cell_type": "code",
   "execution_count": null,
   "id": "46a5712a",
   "metadata": {},
   "outputs": [],
   "source": [
    "base['garcons'] = 100*base['garcons']/(base['garcons'] + base['filles'])"
   ]
  },
  {
   "cell_type": "code",
   "execution_count": null,
   "id": "f9669a17",
   "metadata": {},
   "outputs": [],
   "source": [
    "base['filles'] =100- base['garcons']"
   ]
  },
  {
   "cell_type": "code",
   "execution_count": null,
   "id": "3587072e",
   "metadata": {},
   "outputs": [],
   "source": [
    "base_ =base.melt('tri', var_name='Sexe', value_name= \"Valeurs\")\n",
    "base_"
   ]
  },
  {
   "cell_type": "code",
   "execution_count": null,
   "id": "e624996e",
   "metadata": {},
   "outputs": [],
   "source": [
    "plt.subplots(figsize=(12, 5))\n",
    "sx = sns.barplot(x=\"Valeurs\",  y=\"tri\", data=base_, ci=None, hue = 'Sexe')\n",
    "x_labels = base_['Valeurs']\n",
    "sx.set "
   ]
  },
  {
   "cell_type": "markdown",
   "id": "6de5d9c8",
   "metadata": {},
   "source": [
    "### 1.3 INSERTION PROFESSIONNEL\n",
    "\n",
    "\n",
    "\n",
    "https://data.enseignementsup-recherche.gouv.fr/api/records/1.0/search/?dataset=fr-esr-insertion_professionnelle-lp&q=&rows=1500&facet=annee&facet=diplome&facet=numero_de_l_etablissement&facet=etablissement&facet=academie&facet=domaine&facet=code_de_la_discipline&facet=discipline&facet=situation&facet=cle_etab&facet=cle_disc&facet=id_paysage&refine.annee=2018"
   ]
  },
  {
   "cell_type": "code",
   "execution_count": null,
   "id": "8f85a4a1",
   "metadata": {},
   "outputs": [],
   "source": [
    "insertion = glob_path + \"fr-esr-insertion_professionnelle-\"\n",
    "niveau = [\"lp\", \"master\"]\n",
    "complement = \"&q=&rows=1500&sort=-annee&facet=annee&facet=diplome&facet=numero_de_l_etablissement&facet=etablissement&facet=academie&facet=domaine&facet=code_de_la_discipline&facet=discipline&facet=situation&facet=cle_etab&facet=cle_disc&facet=id_paysage&refine.annee=2018\""
   ]
  },
  {
   "cell_type": "code",
   "execution_count": null,
   "id": "5f7642af",
   "metadata": {},
   "outputs": [],
   "source": [
    "#Récupération selon le niveau\n",
    "data_insertion = [requests.get(insertion + niveau[x] + complement) for x in range(2)]"
   ]
  },
  {
   "cell_type": "code",
   "execution_count": null,
   "id": "2bae24df",
   "metadata": {},
   "outputs": [],
   "source": [
    "#Conversion de json à pd.Dataframe\n",
    "data_insertion = [pd.json_normalize(x.json()['records'][:]) for x in data_insertion ]"
   ]
  },
  {
   "cell_type": "code",
   "execution_count": null,
   "id": "ac3070fb",
   "metadata": {},
   "outputs": [],
   "source": [
    "###Les données selon le niveau sont identifiées par la varibale datsetid"
   ]
  },
  {
   "cell_type": "code",
   "execution_count": null,
   "id": "680a1663",
   "metadata": {},
   "outputs": [],
   "source": [
    "data_insertion[0].shape"
   ]
  },
  {
   "cell_type": "code",
   "execution_count": null,
   "id": "dba1008e",
   "metadata": {},
   "outputs": [],
   "source": [
    "data_insertion[1].shape"
   ]
  },
  {
   "cell_type": "code",
   "execution_count": null,
   "id": "377ef78d",
   "metadata": {},
   "outputs": [],
   "source": [
    "glob_data_insertion = pd.concat(data_insertion)\n",
    "glob_data_insertion.columns = [c.replace('fields.', '') for c in list(glob_data_insertion.columns) ]"
   ]
  },
  {
   "cell_type": "code",
   "execution_count": null,
   "id": "a44ab8d9",
   "metadata": {},
   "outputs": [],
   "source": [
    "glob_data_insertion.head()"
   ]
  },
  {
   "cell_type": "markdown",
   "id": "aa92706f",
   "metadata": {},
   "source": [
    "# ---------------------------------------------KHARIRATOU---------------------------------------------"
   ]
  },
  {
   "cell_type": "code",
   "execution_count": null,
   "id": "dd336a5e",
   "metadata": {},
   "outputs": [],
   "source": [
    "df = glob_data_insertion.copy()"
   ]
  },
  {
   "cell_type": "code",
   "execution_count": null,
   "id": "7001e678",
   "metadata": {},
   "outputs": [],
   "source": [
    "import seaborn as sns"
   ]
  },
  {
   "cell_type": "code",
   "execution_count": null,
   "id": "c1cf3044",
   "metadata": {},
   "outputs": [],
   "source": [
    "import numpy as np"
   ]
  },
  {
   "cell_type": "code",
   "execution_count": null,
   "id": "e8db25a2",
   "metadata": {},
   "outputs": [],
   "source": [
    "df['na']=np.nan"
   ]
  },
  {
   "cell_type": "code",
   "execution_count": null,
   "id": "4ed9b874",
   "metadata": {
    "scrolled": false
   },
   "outputs": [],
   "source": [
    "df['na']"
   ]
  },
  {
   "cell_type": "code",
   "execution_count": null,
   "id": "328a707e",
   "metadata": {},
   "outputs": [],
   "source": [
    "df[df['taux_dinsertion']=='ns']"
   ]
  },
  {
   "cell_type": "code",
   "execution_count": null,
   "id": "2491c336",
   "metadata": {},
   "outputs": [],
   "source": [
    "df['taux_dinsertion'].replace({'ns': np.nan}, inplace = True)"
   ]
  },
  {
   "cell_type": "code",
   "execution_count": null,
   "id": "56619116",
   "metadata": {},
   "outputs": [],
   "source": [
    "df[df['taux_dinsertion'] == 'nd'] = np.nan"
   ]
  },
  {
   "cell_type": "code",
   "execution_count": null,
   "id": "d10f99cf",
   "metadata": {},
   "outputs": [],
   "source": [
    "df[df['taux_dinsertion'] == 'nd']"
   ]
  },
  {
   "cell_type": "code",
   "execution_count": null,
   "id": "887b0d3f",
   "metadata": {},
   "outputs": [],
   "source": [
    "#création variable nombre de personnes insérées\n",
    "df[\"taux_dinsertion\"] = df[\"taux_dinsertion\"].astype('float64')\n",
    "df[\"nombre_de_reponses\"] = df[\"nombre_de_reponses\"].astype('float64')\n",
    "    \n",
    "df['nb_insertion']= df[\"taux_dinsertion\"]*df[\"nombre_de_reponses\"]"
   ]
  },
  {
   "cell_type": "code",
   "execution_count": null,
   "id": "c0dbef98",
   "metadata": {},
   "outputs": [],
   "source": [
    "df_g.reset_index(inplace = True)"
   ]
  },
  {
   "cell_type": "code",
   "execution_count": null,
   "id": "69d5f415",
   "metadata": {},
   "outputs": [],
   "source": [
    "df_g"
   ]
  },
  {
   "cell_type": "markdown",
   "id": "b05956a9",
   "metadata": {},
   "source": [
    "# Répartition des insérés par discipline et par établissement"
   ]
  },
  {
   "cell_type": "code",
   "execution_count": null,
   "id": "569c50b5",
   "metadata": {},
   "outputs": [],
   "source": [
    "# Répartition du nombre d'insérés par discipline\n",
    "df_g =df.groupby(['discipline']).sum('nb_insertion')\n",
    "df_g.reset_index(inplace = True)\n",
    "sns.barplot(x=\"nb_insertion\", y=\"discipline\", data=df_g)"
   ]
  },
  {
   "cell_type": "code",
   "execution_count": null,
   "id": "5216bd73",
   "metadata": {},
   "outputs": [],
   "source": [
    "df_g =df.groupby(['domaine']).sum('nb_insertion')\n",
    "df_g.reset_index(inplace = True)\n",
    "sns.barplot(x=\"nb_insertion\", y=\"domaine\", data=df_g)"
   ]
  },
  {
   "cell_type": "code",
   "execution_count": null,
   "id": "1aec6560",
   "metadata": {},
   "outputs": [],
   "source": [
    "# Répartion du nombre des insérés par établissement\n",
    "df_g =df.groupby(['cle_etab']).sum('nb_insertion')\n",
    "df_g.reset_index(inplace = True)\n",
    "sns.barplot(x=\"nb_insertion\", y=\"cle_etab\", data=df_g)"
   ]
  },
  {
   "cell_type": "code",
   "execution_count": null,
   "id": "447a2e5c",
   "metadata": {},
   "outputs": [],
   "source": [
    "# Répartion du nombre des insérés par établissement\n",
    "df_g =df.groupby(['cle_etab']).sum('nb_insertion')\n",
    "df_g.reset_index(inplace = True)\n",
    "df_g"
   ]
  },
  {
   "cell_type": "code",
   "execution_count": null,
   "id": "f49e669d",
   "metadata": {},
   "outputs": [],
   "source": [
    "#import pandas as pd\n",
    "#pd.crosstab(df.cle_etab, df.nb_insertion).apply(lambda r: r/len(df), axis=1)\n",
    "\n",
    "#freq = df.groupby(['cle_etab']).sum('nb_insertion').sort_values\n",
    "#print(freq)"
   ]
  },
  {
   "cell_type": "markdown",
   "id": "06446dbf",
   "metadata": {},
   "source": [
    "# Caractéristiques des sortants et caractéristiques des sortants insérés"
   ]
  },
  {
   "cell_type": "markdown",
   "id": "5c9b679e",
   "metadata": {},
   "source": [
    "## Par sexe"
   ]
  },
  {
   "cell_type": "code",
   "execution_count": null,
   "id": "0a759c04",
   "metadata": {},
   "outputs": [],
   "source": [
    "#création variable nombre de femmes\n",
    "df[df['femmes'] == 'ns'] = np.nan\n",
    "df[df['femmes'] == 'nd'] = np.nan\n",
    "\n",
    "df[\"femmes\"] = df[\"femmes\"].astype('float64')\n",
    "df[\"nombre_de_reponses\"] = df[\"nombre_de_reponses\"].astype('float64')\n",
    "    \n",
    "df['nb_femmes']= df[\"femmes\"]*df[\"nombre_de_reponses\"]"
   ]
  },
  {
   "cell_type": "code",
   "execution_count": null,
   "id": "dfe2c6af",
   "metadata": {},
   "outputs": [],
   "source": [
    "# Répartition du nombre de femmes diplomées par discipline\n",
    "df_g =df.groupby(['discipline']).sum('nb_femmes')\n",
    "df_g.reset_index(inplace = True)\n",
    "sns.barplot(x=\"nb_femmes\", y=\"discipline\", data=df_g)"
   ]
  },
  {
   "cell_type": "code",
   "execution_count": null,
   "id": "73464f97",
   "metadata": {},
   "outputs": [],
   "source": [
    "df_g =df.groupby(['domaine']).sum('nb_femmes')\n",
    "df_g.reset_index(inplace = True)\n",
    "sns.barplot(x=\"nb_femmes\", y=\"domaine\", data=df_g)"
   ]
  },
  {
   "cell_type": "code",
   "execution_count": null,
   "id": "124a9d65",
   "metadata": {},
   "outputs": [],
   "source": [
    "# Représentation Proportion des femmes insérées selon l'établissement???\n",
    "df['nb_femmes_inserees']= df[\"nb_femmes\"]/df[\"nb_insertion\"]\n",
    "df_g1 =df.groupby(['cle_etab']).sum('nb_femmes_inserees')\n",
    "#df_g1.reset_index(inplace = True)\n",
    "df_g1"
   ]
  },
  {
   "cell_type": "code",
   "execution_count": null,
   "id": "aac2622f",
   "metadata": {},
   "outputs": [],
   "source": [
    "# Répartition proportion de femmes insérées par discipline\n",
    "df_g2 =df.groupby(['discipline']).sum('nb_femmes_inserees')\n",
    "df_g2.reset_index(inplace = True)\n",
    "sns.barplot(x=\"nb_femmes_inserees\", y=\"discipline\", data=df_g2)"
   ]
  },
  {
   "cell_type": "markdown",
   "id": "feff4abe",
   "metadata": {},
   "source": [
    "## Par nombre de boursiers"
   ]
  },
  {
   "cell_type": "code",
   "execution_count": null,
   "id": "3aa268c6",
   "metadata": {},
   "outputs": [],
   "source": [
    "#création variable nombre de diplomés boursiers\n",
    "df[df['de_diplomes_boursiers'] == 'ns'] = np.nan\n",
    "df[df['de_diplomes_boursiers'] == 'nd'] = np.nan\n",
    "\n",
    "df[\"de_diplomes_boursiers\"] = df[\"de_diplomes_boursiers\"].astype('float64')\n",
    "df[\"nombre_de_reponses\"] = df[\"nombre_de_reponses\"].astype('float64')\n",
    "    \n",
    "df['nb_de_diplomes_boursiers']= df[\"de_diplomes_boursiers\"]*df[\"nombre_de_reponses\"]"
   ]
  },
  {
   "cell_type": "code",
   "execution_count": null,
   "id": "f287e9b2",
   "metadata": {},
   "outputs": [],
   "source": [
    "# nb de diplomés boursiers /etab /discipline\n",
    "df_g =df.groupby(['discipline']).sum('nb_de_diplomes_boursiers')\n",
    "df_g.reset_index(inplace = True)\n",
    "sns.barplot(x=\"nb_de_diplomes_boursiers\", y=\"discipline\", data=df_g)"
   ]
  },
  {
   "cell_type": "code",
   "execution_count": null,
   "id": "13d565b1",
   "metadata": {},
   "outputs": [],
   "source": [
    "df_g =df.groupby(['domaine']).sum('nb_de_diplomes_boursiers')\n",
    "df_g.reset_index(inplace = True)\n",
    "sns.barplot(x=\"nb_de_diplomes_boursiers\", y=\"domaine\", data=df_g)"
   ]
  },
  {
   "cell_type": "code",
   "execution_count": null,
   "id": "a827677b",
   "metadata": {
    "scrolled": true
   },
   "outputs": [],
   "source": [
    "# Représentation Proportion de boursiers insérés selon l'établissement???\n",
    "df['nb_boursiers_inseres']= df[\"nb_de_diplomes_boursiers\"]/df[\"nb_insertion\"]\n",
    "df_g1 =df.groupby(['cle_etab']).sum('nb_boursiers_inseres')\n",
    "#df_g1.reset_index(inplace = True)\n",
    "df_g1"
   ]
  },
  {
   "cell_type": "code",
   "execution_count": null,
   "id": "fa8f0218",
   "metadata": {},
   "outputs": [],
   "source": [
    "# Répartition proportion de boursiers insérés par discipline\n",
    "df_g2 =df.groupby(['discipline']).sum('nb_boursiers_inseres')\n",
    "df_g2.reset_index(inplace = True)\n",
    "sns.barplot(x=\"nb_boursiers_inseres\", y=\"discipline\", data=df_g2)"
   ]
  },
  {
   "cell_type": "markdown",
   "id": "6497cc08",
   "metadata": {},
   "source": [
    "## Par nombre d'emplois stables"
   ]
  },
  {
   "cell_type": "code",
   "execution_count": null,
   "id": "d2739527",
   "metadata": {},
   "outputs": [],
   "source": [
    "#création variable nombre d'emplois stables\n",
    "df[df['emplois_stables'] == 'ns'] = np.nan\n",
    "df[df['emplois_stables'] == 'nd'] = np.nan\n",
    "\n",
    "df[\"emplois_stables\"] = df[\"emplois_stables\"].astype('float64')\n",
    "df[\"nombre_de_reponses\"] = df[\"nombre_de_reponses\"].astype('float64')\n",
    "    \n",
    "df['nb_emplois_stables']= df[\"emplois_stables\"]*df[\"nombre_de_reponses\"]"
   ]
  },
  {
   "cell_type": "code",
   "execution_count": null,
   "id": "92037882",
   "metadata": {},
   "outputs": [],
   "source": [
    "# nb de emplois stables /etab /discipline\n",
    "df_g =df.groupby(['discipline']).sum('nb_emplois_stables')\n",
    "df_g.reset_index(inplace = True)\n",
    "sns.barplot(x=\"nb_emplois_stables\", y=\"discipline\", data=df_g)"
   ]
  },
  {
   "cell_type": "code",
   "execution_count": null,
   "id": "f9f12cc2",
   "metadata": {},
   "outputs": [],
   "source": [
    "df_g =df.groupby(['domaine']).sum('nb_emplois_stables')\n",
    "df_g.reset_index(inplace = True)\n",
    "sns.barplot(x=\"nb_emplois_stables\", y=\"domaine\", data=df_g)"
   ]
  },
  {
   "cell_type": "code",
   "execution_count": null,
   "id": "601a4f64",
   "metadata": {},
   "outputs": [],
   "source": [
    "# Représentation Proportion de emplois stables des insérés selon l'établissement???\n",
    "df['nb_emplois_stables_inseres']= df[\"nb_emplois_stables\"]/df[\"nb_insertion\"]\n",
    "df_g1 =df.groupby(['cle_etab']).sum('nb_emplois_stables_inseres')\n",
    "#df_g1.reset_index(inplace = True)\n",
    "df_g1"
   ]
  },
  {
   "cell_type": "code",
   "execution_count": null,
   "id": "e7e766e5",
   "metadata": {},
   "outputs": [],
   "source": [
    "# Répartition proportion de emplois stables des insérés par discipline\n",
    "df_g2 =df.groupby(['discipline']).sum('nb_emplois_stables_inseres')\n",
    "df_g2.reset_index(inplace = True)\n",
    "sns.barplot(x=\"nb_emplois_stables_inseres\", y=\"discipline\", data=df_g2)"
   ]
  },
  {
   "cell_type": "markdown",
   "id": "8a9c03c7",
   "metadata": {},
   "source": [
    "## Selon le salaire"
   ]
  },
  {
   "cell_type": "code",
   "execution_count": null,
   "id": "562232bd",
   "metadata": {},
   "outputs": [],
   "source": [
    "#création variable salaires bruts annuels estimés\n",
    "df[df['salaire_brut_annuel_estime'] == 'ns'] = np.nan\n",
    "df[df['salaire_brut_annuel_estime'] == 'nd'] = np.nan\n",
    "\n",
    "df[\"salaire_brut_annuel_estime\"] = df[\"salaire_brut_annuel_estime\"].astype('float64')"
   ]
  },
  {
   "cell_type": "code",
   "execution_count": null,
   "id": "1223ed98",
   "metadata": {},
   "outputs": [],
   "source": [
    "# Répartition des salaires bruts annuels /discipline\n",
    "df_g =df.groupby(['discipline']).sum('salaire_brut_annuel_estime')\n",
    "df_g.reset_index(inplace = True)\n",
    "sns.barplot(x=\"salaire_brut_annuel_estime\", y=\"discipline\", data=df_g)"
   ]
  },
  {
   "cell_type": "code",
   "execution_count": null,
   "id": "ec9abd59",
   "metadata": {},
   "outputs": [],
   "source": [
    "df_g =df.groupby(['domaine']).sum('salaire_brut_annuel_estime')\n",
    "df_g.reset_index(inplace = True)\n",
    "sns.barplot(x=\"salaire_brut_annuel_estime\", y=\"domaine\", data=df_g)"
   ]
  },
  {
   "cell_type": "code",
   "execution_count": null,
   "id": "de3b1b4d",
   "metadata": {},
   "outputs": [],
   "source": [
    "# Représentation de salaires bruts annuels selon l'établissement???\n",
    "df_g1 =df.groupby(['cle_etab']).sum('salaire_brut_annuel_estime')\n",
    "#df_g1.reset_index(inplace = True)\n",
    "df_g1"
   ]
  },
  {
   "cell_type": "code",
   "execution_count": null,
   "id": "e8db641a",
   "metadata": {},
   "outputs": [],
   "source": []
  },
  {
   "cell_type": "code",
   "execution_count": null,
   "id": "da597616",
   "metadata": {},
   "outputs": [],
   "source": []
  },
  {
   "cell_type": "code",
   "execution_count": null,
   "id": "f35b53a3",
   "metadata": {},
   "outputs": [],
   "source": []
  },
  {
   "cell_type": "code",
   "execution_count": null,
   "id": "64430257",
   "metadata": {},
   "outputs": [],
   "source": []
  },
  {
   "cell_type": "code",
   "execution_count": null,
   "id": "3bf73d84",
   "metadata": {},
   "outputs": [],
   "source": []
  },
  {
   "cell_type": "markdown",
   "id": "37c0a8c8",
   "metadata": {},
   "source": [
    "# BROUILLON"
   ]
  },
  {
   "cell_type": "code",
   "execution_count": null,
   "id": "96450fd0",
   "metadata": {},
   "outputs": [],
   "source": [
    "columns_names = pd.json_normalize(req.json()['facet_groups'][:])"
   ]
  },
  {
   "cell_type": "code",
   "execution_count": null,
   "id": "36770367",
   "metadata": {},
   "outputs": [],
   "source": [
    "columns_names = list(ses_2020.columns)\n",
    "columns_names1 = [c.replace('fields.', '') for c in columns_names ]"
   ]
  },
  {
   "cell_type": "code",
   "execution_count": null,
   "id": "c6cf8706",
   "metadata": {
    "scrolled": true
   },
   "outputs": [],
   "source": [
    "dic=dict()\n",
    "for i in range(len(columns_names)) :\n",
    "    dic[columns_names[i]] = columns_names1[i]\n",
    "ses_2020.rename(dic)"
   ]
  }
 ],
 "metadata": {
  "kernelspec": {
   "display_name": "Python 3 (ipykernel)",
   "language": "python",
   "name": "python3"
  },
  "language_info": {
   "codemirror_mode": {
    "name": "ipython",
    "version": 3
   },
   "file_extension": ".py",
   "mimetype": "text/x-python",
   "name": "python",
   "nbconvert_exporter": "python",
   "pygments_lexer": "ipython3",
   "version": "3.9.7"
  }
 },
 "nbformat": 4,
 "nbformat_minor": 5
}
