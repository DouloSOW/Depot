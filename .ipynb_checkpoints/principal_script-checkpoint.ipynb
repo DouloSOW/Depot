{
 "cells": [
  {
   "cell_type": "markdown",
   "id": "1c7632fe",
   "metadata": {},
   "source": [
    "<div style =\"border: blue solid 1px;\n",
    "             font-family: cambria;\n",
    "             box-shadow: 0px 0px 100px rgba(0, 0, 0, 0.5);\n",
    "             background-image: url(1.jpg);\n",
    "             height: 100%;\n",
    "             width: 100%;\">\n",
    "<center>\n",
    "<a href=\"#\" >\n",
    "    <h1> <font color=\"white\">PROJET DE PYTHON 2A - ENSAE IP Paris</font> </h1> \n",
    "    <h2> <font color=\"white\">Thème : Determinants des choix d'orientation des etudiants dans les etablissments d'enseignement superieur</font> </h2> \n",
    "<a href=\"#\" >\n",
    "    <img src=\"ensae_picture.PNG\" style=\"float:right; max-width: 190px; display: inline\" alt=\"ENSAE\" ; height: 100%;\" /></a>     \n",
    "</center>\n",
    "</div>"
   ]
  },
  {
   "cell_type": "markdown",
   "id": "85e85d63",
   "metadata": {
    "slideshow": {
     "slide_type": "slide"
    }
   },
   "source": [
    "<div style =\"border: blue solid 5px; font-family: Agency FB;font-size:20px;\tbox-shadow: 0px 0px 10px rgba(0, 0, 0, 0.5);background-color: rgba(10, 10, 0, 0.5);\">\n",
    "<center>\n",
    "<font color=\"white\">------------------------------------------------------------------------------------------------------------------------------------------------------------------------------------------------------------------</font> \n",
    "<font color=\"white\"><br><h6>--------------------------SOUS LA SUPERVISION DE : ----------------------</h6> </font> \n",
    "<ul>\n",
    "<h6>Mme </h6>\n",
    "</ul>\n",
    "<font color=\"white\"><br><h6>--------------------------REALISE PAR : ----------------------</h6> </font> \n",
    "<ul>\n",
    "<h6>BAMOUNI Christophe</h6>\n",
    "<h6>DIALLO Khariratou</h6>    \n",
    "<h6>SOW Doulo</h6>\n",
    "\n",
    "</ul>\n",
    "<font color=\"white\">------------------------------------------------------------------------------------------------------------------------------------------------------------------------------------------------------------------</font> \n",
    "</center>\n",
    "    </div>"
   ]
  },
  {
   "cell_type": "markdown",
   "id": "a1e02b8f",
   "metadata": {
    "slideshow": {
     "slide_type": "slide"
    }
   },
   "source": [
    "<div style =\"border: blue solid 5px; font-family: Agency FB; \tbox-shadow: 0px 0px 10px rgba(0, 0, 0, 0.5);\tbackground-color: rgba(50, 50, 50, 0.5);\"><font color=\"black\"><center><h1>-- Chargement des packages essentiels --</h1> </center></font> </div>"
   ]
  },
  {
   "cell_type": "code",
   "execution_count": 1,
   "id": "df0c2995",
   "metadata": {},
   "outputs": [
    {
     "name": "stdout",
     "output_type": "stream",
     "text": [
      "Requirement already satisfied: RISE in c:\\programdata\\anaconda3\\lib\\site-packages (5.7.1)\n",
      "Requirement already satisfied: notebook>=6.0 in c:\\programdata\\anaconda3\\lib\\site-packages (from RISE) (6.4.5)\n",
      "Requirement already satisfied: jupyter-client>=5.3.4 in c:\\programdata\\anaconda3\\lib\\site-packages (from notebook>=6.0->RISE) (6.1.12)\n",
      "Requirement already satisfied: ipykernel in c:\\programdata\\anaconda3\\lib\\site-packages (from notebook>=6.0->RISE) (6.4.1)\n",
      "Requirement already satisfied: pyzmq>=17 in c:\\programdata\\anaconda3\\lib\\site-packages (from notebook>=6.0->RISE) (22.2.1)\n",
      "Requirement already satisfied: traitlets>=4.2.1 in c:\\programdata\\anaconda3\\lib\\site-packages (from notebook>=6.0->RISE) (5.1.0)\n",
      "Requirement already satisfied: terminado>=0.8.3 in c:\\programdata\\anaconda3\\lib\\site-packages (from notebook>=6.0->RISE) (0.9.4)\n",
      "Requirement already satisfied: tornado>=6.1 in c:\\programdata\\anaconda3\\lib\\site-packages (from notebook>=6.0->RISE) (6.1)\n",
      "Requirement already satisfied: nbformat in c:\\programdata\\anaconda3\\lib\\site-packages (from notebook>=6.0->RISE) (5.1.3)\n",
      "Requirement already satisfied: jinja2 in c:\\programdata\\anaconda3\\lib\\site-packages (from notebook>=6.0->RISE) (2.11.3)\n",
      "Requirement already satisfied: argon2-cffi in c:\\programdata\\anaconda3\\lib\\site-packages (from notebook>=6.0->RISE) (20.1.0)\n",
      "Requirement already satisfied: ipython-genutils in c:\\programdata\\anaconda3\\lib\\site-packages (from notebook>=6.0->RISE) (0.2.0)\n",
      "Requirement already satisfied: jupyter-core>=4.6.1 in c:\\programdata\\anaconda3\\lib\\site-packages (from notebook>=6.0->RISE) (4.8.1)\n",
      "Requirement already satisfied: prometheus-client in c:\\programdata\\anaconda3\\lib\\site-packages (from notebook>=6.0->RISE) (0.11.0)\n",
      "Requirement already satisfied: Send2Trash>=1.5.0 in c:\\programdata\\anaconda3\\lib\\site-packages (from notebook>=6.0->RISE) (1.8.0)\n",
      "Requirement already satisfied: nbconvert in c:\\programdata\\anaconda3\\lib\\site-packages (from notebook>=6.0->RISE) (6.1.0)\n",
      "Requirement already satisfied: python-dateutil>=2.1 in c:\\programdata\\anaconda3\\lib\\site-packages (from jupyter-client>=5.3.4->notebook>=6.0->RISE) (2.8.2)\n",
      "Requirement already satisfied: pywin32>=1.0 in c:\\programdata\\anaconda3\\lib\\site-packages (from jupyter-core>=4.6.1->notebook>=6.0->RISE) (228)\n",
      "Requirement already satisfied: six>=1.5 in c:\\programdata\\anaconda3\\lib\\site-packages (from python-dateutil>=2.1->jupyter-client>=5.3.4->notebook>=6.0->RISE) (1.16.0)\n",
      "Requirement already satisfied: pywinpty>=0.5 in c:\\programdata\\anaconda3\\lib\\site-packages (from terminado>=0.8.3->notebook>=6.0->RISE) (0.5.7)\n",
      "Requirement already satisfied: cffi>=1.0.0 in c:\\programdata\\anaconda3\\lib\\site-packages (from argon2-cffi->notebook>=6.0->RISE) (1.14.6)\n",
      "Requirement already satisfied: pycparser in c:\\programdata\\anaconda3\\lib\\site-packages (from cffi>=1.0.0->argon2-cffi->notebook>=6.0->RISE) (2.20)\n",
      "Requirement already satisfied: ipython<8.0,>=7.23.1 in c:\\programdata\\anaconda3\\lib\\site-packages (from ipykernel->notebook>=6.0->RISE) (7.29.0)\n",
      "Requirement already satisfied: debugpy<2.0,>=1.0.0 in c:\\programdata\\anaconda3\\lib\\site-packages (from ipykernel->notebook>=6.0->RISE) (1.4.1)\n",
      "Requirement already satisfied: matplotlib-inline<0.2.0,>=0.1.0 in c:\\programdata\\anaconda3\\lib\\site-packages (from ipykernel->notebook>=6.0->RISE) (0.1.2)\n",
      "Requirement already satisfied: colorama in c:\\programdata\\anaconda3\\lib\\site-packages (from ipython<8.0,>=7.23.1->ipykernel->notebook>=6.0->RISE) (0.4.4)\n",
      "Requirement already satisfied: decorator in c:\\programdata\\anaconda3\\lib\\site-packages (from ipython<8.0,>=7.23.1->ipykernel->notebook>=6.0->RISE) (5.1.0)\n",
      "Requirement already satisfied: setuptools>=18.5 in c:\\programdata\\anaconda3\\lib\\site-packages (from ipython<8.0,>=7.23.1->ipykernel->notebook>=6.0->RISE) (58.0.4)\n",
      "Requirement already satisfied: backcall in c:\\programdata\\anaconda3\\lib\\site-packages (from ipython<8.0,>=7.23.1->ipykernel->notebook>=6.0->RISE) (0.2.0)\n",
      "Requirement already satisfied: pygments in c:\\programdata\\anaconda3\\lib\\site-packages (from ipython<8.0,>=7.23.1->ipykernel->notebook>=6.0->RISE) (2.10.0)\n",
      "Requirement already satisfied: prompt-toolkit!=3.0.0,!=3.0.1,<3.1.0,>=2.0.0 in c:\\programdata\\anaconda3\\lib\\site-packages (from ipython<8.0,>=7.23.1->ipykernel->notebook>=6.0->RISE) (3.0.20)\n",
      "Requirement already satisfied: pickleshare in c:\\programdata\\anaconda3\\lib\\site-packages (from ipython<8.0,>=7.23.1->ipykernel->notebook>=6.0->RISE) (0.7.5)\n",
      "Requirement already satisfied: jedi>=0.16 in c:\\programdata\\anaconda3\\lib\\site-packages (from ipython<8.0,>=7.23.1->ipykernel->notebook>=6.0->RISE) (0.18.0)\n",
      "Requirement already satisfied: parso<0.9.0,>=0.8.0 in c:\\programdata\\anaconda3\\lib\\site-packages (from jedi>=0.16->ipython<8.0,>=7.23.1->ipykernel->notebook>=6.0->RISE) (0.8.2)\n",
      "Requirement already satisfied: wcwidth in c:\\programdata\\anaconda3\\lib\\site-packages (from prompt-toolkit!=3.0.0,!=3.0.1,<3.1.0,>=2.0.0->ipython<8.0,>=7.23.1->ipykernel->notebook>=6.0->RISE) (0.2.5)\n",
      "Requirement already satisfied: MarkupSafe>=0.23 in c:\\programdata\\anaconda3\\lib\\site-packages (from jinja2->notebook>=6.0->RISE) (2.0.1)\n",
      "Requirement already satisfied: pandocfilters>=1.4.1 in c:\\programdata\\anaconda3\\lib\\site-packages (from nbconvert->notebook>=6.0->RISE) (1.4.3)\n",
      "Requirement already satisfied: mistune<2,>=0.8.1 in c:\\programdata\\anaconda3\\lib\\site-packages (from nbconvert->notebook>=6.0->RISE) (0.8.4)\n",
      "Requirement already satisfied: entrypoints>=0.2.2 in c:\\programdata\\anaconda3\\lib\\site-packages (from nbconvert->notebook>=6.0->RISE) (0.3)\n",
      "Requirement already satisfied: jupyterlab-pygments in c:\\programdata\\anaconda3\\lib\\site-packages (from nbconvert->notebook>=6.0->RISE) (0.1.2)\n",
      "Requirement already satisfied: defusedxml in c:\\programdata\\anaconda3\\lib\\site-packages (from nbconvert->notebook>=6.0->RISE) (0.7.1)\n",
      "Requirement already satisfied: testpath in c:\\programdata\\anaconda3\\lib\\site-packages (from nbconvert->notebook>=6.0->RISE) (0.5.0)\n",
      "Requirement already satisfied: bleach in c:\\programdata\\anaconda3\\lib\\site-packages (from nbconvert->notebook>=6.0->RISE) (4.0.0)\n",
      "Requirement already satisfied: nbclient<0.6.0,>=0.5.0 in c:\\programdata\\anaconda3\\lib\\site-packages (from nbconvert->notebook>=6.0->RISE) (0.5.3)\n",
      "Requirement already satisfied: async-generator in c:\\programdata\\anaconda3\\lib\\site-packages (from nbclient<0.6.0,>=0.5.0->nbconvert->notebook>=6.0->RISE) (1.10)\n",
      "Requirement already satisfied: nest-asyncio in c:\\programdata\\anaconda3\\lib\\site-packages (from nbclient<0.6.0,>=0.5.0->nbconvert->notebook>=6.0->RISE) (1.5.1)\n",
      "Requirement already satisfied: jsonschema!=2.5.0,>=2.4 in c:\\programdata\\anaconda3\\lib\\site-packages (from nbformat->notebook>=6.0->RISE) (3.2.0)\n",
      "Requirement already satisfied: pyrsistent>=0.14.0 in c:\\programdata\\anaconda3\\lib\\site-packages (from jsonschema!=2.5.0,>=2.4->nbformat->notebook>=6.0->RISE) (0.18.0)\n",
      "Requirement already satisfied: attrs>=17.4.0 in c:\\programdata\\anaconda3\\lib\\site-packages (from jsonschema!=2.5.0,>=2.4->nbformat->notebook>=6.0->RISE) (21.2.0)\n",
      "Requirement already satisfied: webencodings in c:\\programdata\\anaconda3\\lib\\site-packages (from bleach->nbconvert->notebook>=6.0->RISE) (0.5.1)\n",
      "Requirement already satisfied: packaging in c:\\programdata\\anaconda3\\lib\\site-packages (from bleach->nbconvert->notebook>=6.0->RISE) (21.0)\n",
      "Requirement already satisfied: pyparsing>=2.0.2 in c:\\programdata\\anaconda3\\lib\\site-packages (from packaging->bleach->nbconvert->notebook>=6.0->RISE) (3.0.4)\n"
     ]
    },
    {
     "name": "stderr",
     "output_type": "stream",
     "text": [
      "WARNING: Ignoring invalid distribution -okeh (c:\\programdata\\anaconda3\\lib\\site-packages)\n",
      "WARNING: Ignoring invalid distribution -okeh (c:\\programdata\\anaconda3\\lib\\site-packages)\n",
      "WARNING: Ignoring invalid distribution -okeh (c:\\programdata\\anaconda3\\lib\\site-packages)\n",
      "WARNING: Ignoring invalid distribution -okeh (c:\\programdata\\anaconda3\\lib\\site-packages)\n",
      "WARNING: Ignoring invalid distribution -okeh (c:\\programdata\\anaconda3\\lib\\site-packages)\n",
      "WARNING: Ignoring invalid distribution -okeh (c:\\programdata\\anaconda3\\lib\\site-packages)\n"
     ]
    },
    {
     "name": "stdout",
     "output_type": "stream",
     "text": [
      "Tout est ok ! \n"
     ]
    },
    {
     "data": {
      "text/html": [
       "<div id=\"my_id_menu_nb\">run previous cell, wait for 2 seconds</div>\n",
       "<script>\n",
       "function repeat_indent_string(n){\n",
       "    var a = \"\" ;\n",
       "    for ( ; n > 0 ; --n)\n",
       "        a += \"    \";\n",
       "    return a;\n",
       "}\n",
       "// look up into all sections and builds an automated menu //\n",
       "var update_menu_string = function(begin, lfirst, llast, sformat, send, keep_item, begin_format, end_format) {\n",
       "    var anchors = document.getElementsByClassName(\"section\");\n",
       "    if (anchors.length == 0) {\n",
       "        anchors = document.getElementsByClassName(\"text_cell_render rendered_html\");\n",
       "    }\n",
       "    var i,t;\n",
       "    var text_menu = begin;\n",
       "    var text_memo = \"<pre>\\nlength:\" + anchors.length + \"\\n\";\n",
       "    var ind = \"\";\n",
       "    var memo_level = 1;\n",
       "    var href;\n",
       "    var tags = [];\n",
       "    var main_item = 0;\n",
       "    var format_open = 0;\n",
       "    for (i = 0; i <= llast; i++)\n",
       "        tags.push(\"h\" + i);\n",
       "\n",
       "    for (i = 0; i < anchors.length; i++) {\n",
       "        text_memo += \"**\" + anchors[i].id + \"--\\n\";\n",
       "\n",
       "        var child = null;\n",
       "        for(t = 0; t < tags.length; t++) {\n",
       "            var r = anchors[i].getElementsByTagName(tags[t]);\n",
       "            if (r.length > 0) {\n",
       "child = r[0];\n",
       "break;\n",
       "            }\n",
       "        }\n",
       "        if (child == null) {\n",
       "            text_memo += \"null\\n\";\n",
       "            continue;\n",
       "        }\n",
       "        if (anchors[i].hasAttribute(\"id\")) {\n",
       "            // when converted in RST\n",
       "            href = anchors[i].id;\n",
       "            text_memo += \"#1-\" + href;\n",
       "            // passer à child suivant (le chercher)\n",
       "        }\n",
       "        else if (child.hasAttribute(\"id\")) {\n",
       "            // in a notebook\n",
       "            href = child.id;\n",
       "            text_memo += \"#2-\" + href;\n",
       "        }\n",
       "        else {\n",
       "            text_memo += \"#3-\" + \"*\" + \"\\n\";\n",
       "            continue;\n",
       "        }\n",
       "        var title = child.textContent;\n",
       "        var level = parseInt(child.tagName.substring(1,2));\n",
       "\n",
       "        text_memo += \"--\" + level + \"?\" + lfirst + \"--\" + title + \"\\n\";\n",
       "\n",
       "        if ((level < lfirst) || (level > llast)) {\n",
       "            continue ;\n",
       "        }\n",
       "        if (title.endsWith('¶')) {\n",
       "            title = title.substring(0,title.length-1).replace(\"<\", \"&lt;\")\n",
       "         .replace(\">\", \"&gt;\").replace(\"&\", \"&amp;\");\n",
       "        }\n",
       "        if (title.length == 0) {\n",
       "            continue;\n",
       "        }\n",
       "\n",
       "        while (level < memo_level) {\n",
       "            text_menu += end_format + \"</ul>\\n\";\n",
       "            format_open -= 1;\n",
       "            memo_level -= 1;\n",
       "        }\n",
       "        if (level == lfirst) {\n",
       "            main_item += 1;\n",
       "        }\n",
       "        if (keep_item != -1 && main_item != keep_item + 1) {\n",
       "            // alert(main_item + \" - \" + level + \" - \" + keep_item);\n",
       "            continue;\n",
       "        }\n",
       "        while (level > memo_level) {\n",
       "            text_menu += \"<ul>\\n\";\n",
       "            memo_level += 1;\n",
       "        }\n",
       "        text_menu += repeat_indent_string(level-2);\n",
       "        text_menu += begin_format + sformat.replace(\"__HREF__\", href).replace(\"__TITLE__\", title);\n",
       "        format_open += 1;\n",
       "    }\n",
       "    while (1 < memo_level) {\n",
       "        text_menu += end_format + \"</ul>\\n\";\n",
       "        memo_level -= 1;\n",
       "        format_open -= 1;\n",
       "    }\n",
       "    text_menu += send;\n",
       "    //text_menu += \"\\n\" + text_memo;\n",
       "\n",
       "    while (format_open > 0) {\n",
       "        text_menu += end_format;\n",
       "        format_open -= 1;\n",
       "    }\n",
       "    return text_menu;\n",
       "};\n",
       "var update_menu = function() {\n",
       "    var sbegin = \"\";\n",
       "    var sformat = '<a href=\"#__HREF__\">__TITLE__</a>';\n",
       "    var send = \"\";\n",
       "    var begin_format = '<li>';\n",
       "    var end_format = '</li>';\n",
       "    var keep_item = -1;\n",
       "    var text_menu = update_menu_string(sbegin, 2, 4, sformat, send, keep_item,\n",
       "       begin_format, end_format);\n",
       "    var menu = document.getElementById(\"my_id_menu_nb\");\n",
       "    menu.innerHTML=text_menu;\n",
       "};\n",
       "window.setTimeout(update_menu,2000);\n",
       "            </script>"
      ],
      "text/plain": [
       "<IPython.core.display.HTML object>"
      ]
     },
     "execution_count": 1,
     "metadata": {},
     "output_type": "execute_result"
    }
   ],
   "source": [
    "#Appel du notebook contenant les packages\n",
    "%run ./head.ipynb\n",
    "#Appel du notebook contenant des fonctions définies\n",
    "#%run ./function.ipynb\n",
    "add_notebook_menu()"
   ]
  },
  {
   "cell_type": "markdown",
   "id": "6d21a2be",
   "metadata": {
    "slideshow": {
     "slide_type": "slide"
    }
   },
   "source": [
    "<div style =\"border: blue solid 5px; font-family: Agency FB; \tbox-shadow: 0px 0px 10px rgba(0, 0, 0, 0.5);\tbackground-color: rgba(50, 50, 50, 0.5);\"><font color=\"black\"><center><h1>-- Plan du travail --</h1> </center></font> </div>"
   ]
  },
  {
   "cell_type": "markdown",
   "id": "02d788e7",
   "metadata": {
    "scrolled": true
   },
   "source": [
    "## Introduction et Présentation du projet\n",
    "\n",
    "<p  style = \"text-align: justify;  font-size : 16px;\"> Ce projet entre dans le cadre de l'évaluation du cours de Python suivi en deuxième année du cycle Ingénieur de l'ENSAE Paris IP-Paris. L'objectif principal est de mettre en oeuvre les acquis du cours en essayant de répondre à une problématique au choix.\n",
    "Ce présent notebook, en plus des autres auxquels il est lié est soumis avec le projet, retrace les différentes partie de notre travail qui porte sur : <br> <br>\n",
    "\n",
    " <div style =\"border: blue solid 0.5px;font-size : 10px ; font-family: cambria; box-shadow: 0px 0px 10px rgba(0, 0, 0, 0.5);\tbackground-color: rgba(5, 5, 5, 0.5);\"><font color=\"black\"><center><h1>Comprendre les choix d'orientation des nouveaux bacheliers : Analyse des déterminants de l'attractivité des établissements supérieurs <br></h1> </center></font> </div>\n",
    " \n",
    "\n",
    "<p  style = \"text-align: justify;  font-size : 16px;\">L'objectif principal de ce sujet est de saisir les caractéristiques qui déférencient les établissements et par ricochet déterminent les préférences que les étudiants ont face aux établissements. Il s'agira donc spécifiquement de voir d'abord les caractéristques globales qui se dégagent aux niveaux des étblissements, en ce qui concerne leurs types de filières proposées, les enseignements, la capacité d'accueil etc, et aussi en termes d'insertion dans le monde professionnel de leurs produits. Ces facteurs, sont en quelque sorte des signaux que les établissements envoient aux nouveaux bacheliers afin de pouvoir capter le maximum de candidats et ce les plus remarquables dans leur parcours. Ces dans cette ordre d'idées, que nous verrons les différentes caractéristiques des élèves qui se voient le plus proposés des admissions. Ainsi, ces caractéristiques qui porterons globalement sur les types de mentions obtenus au baccalauréat, la série suivie par l'élève, son statut boursier et entre autres, nous permettrons de voir quelques sont en quelque sorte les critères de sélectivité des établissements.\n",
    "<p>\n",
    "    \n",
    "\n",
    "   ## Récupération et traitement des données\n",
    "<p  style = \"text-align: justify;  font-size : 16px;\"> Les données utilisés dans le cadre de ce projet sont issues du \n",
    "<a href=\"https://data.enseignementsup-recherche.gouv.fr/pages/home/\">site du Ministère de l'Enseignement supérieur, de la Recherche et de l'Innovation du gouvernement français</a>. Pour assurer la reproductibilité de ce travail, les données sont directement récupérer à travers un scraping. Nous reviendrons en détails sur cette partie, dans les lignes qui suivent. Les données obtenues à partir de ce sraping ont étaient traitées afin d'assuer leur utilisabilité et la pertinence par rapport à l'objectif recherché.\n",
    "    \n",
    "   ### Analyse descriptive\n",
    "\n",
    "<p  style = \"text-align: justify;  font-size : 16px;\">Dans cette section, nous avons décrit les principales caractéristiques relatives aux établissements et en même temps avons passé en revue les caractéristiques des élèves qui sont souvent admis selon les filières et leur nature (sélectivité, discipline etc). Notons que dans l'analyse, il a était constaté qu'il existe des établissements qui n'ont reçu aucune demande émanant des candidats. Et donc, nous avons jugé nécessaire de faire une analyse particulière à ce groupe d'établissements afin de dégager leurs principales caractéristiques qui pourraient expliquer ce phénomène. Afin d'approfondir, cette analyse, un modèle Logit (avec comme variable dépendante : le fait que l'établissement reçoit ou non). \n",
    "<p>   \n",
    "    \n",
    "  ### Modélisation \n",
    "    \n",
    "\n",
    "    "
   ]
  },
  {
   "cell_type": "markdown",
   "id": "7175a351",
   "metadata": {
    "slideshow": {
     "slide_type": "slide"
    }
   },
   "source": [
    "<div style =\"border: blue solid 5px; font-family: Agency FB; \tbox-shadow: 0px 0px 10px rgba(0, 0, 0, 0.5);\tbackground-color: rgba(50, 50, 50, 0.5);\"><font color=\"black\"><center><h1>PARTIE 1 : Récupération et traitement des données</h1> </center></font> </div>"
   ]
  },
  {
   "cell_type": "markdown",
   "id": "3f685971",
   "metadata": {},
   "source": [
    "# PARTIE 1 <div style =\"border: blue solid 5px; font-family: Agency FB; \tbox-shadow: 0px 0px 10px rgba(0, 0, 0, 0.5);\tbackground-color: rgba(50, 50, 50, 0.5);\"><font color=\"black\"> : Récupération et traitement des données</font> </div>"
   ]
  },
  {
   "cell_type": "markdown",
   "id": "6c4a665e",
   "metadata": {},
   "source": [
    "Dans cette section, nous décrivons l'ensemble des étpes d'acquisition des données et décrivons le processus d'apurement de la base."
   ]
  },
  {
   "cell_type": "markdown",
   "id": "064c7bb9",
   "metadata": {},
   "source": [
    "## 1.1 Importation des données<div style =\"border: blue solid 1px;box-shadow: 0px 0px 10px rgba(0, 0, 0, 0.5);\tbackground-color: rgba(50, 50, 50, 0.5);\"><font color=\"black\"> </font> </div>"
   ]
  },
  {
   "cell_type": "markdown",
   "id": "e2549c2f",
   "metadata": {},
   "source": [
    "  \n",
    "###  a. Présentation des données à récupérer "
   ]
  },
  {
   "cell_type": "markdown",
   "id": "060597ee",
   "metadata": {},
   "source": [
    "Les données utilisées dans le projet sont formées par deux bases qui traitent de deux thématiques plus ou moins différentes mais qui concernent néanmoins les établissements. <br>\n",
    "\n",
    "* **Les données sur les voeux émis par les candidats :**\n",
    "Cette base de données (issues des données Parcoursup de la campagne 2020) nous permet d'avoir les informations relatives aux filières dispensés par l'établissement et selon chaque filière nous avons les informations sur la capacité d'accueil, les demandes faites par les candidats, les acceptations etc. En résumé, nous avons, pour chaque filière et selon l'établissement : <br>\n",
    "\n",
    "    * La capacité d’accueil<br>\n",
    "    * Le nombre de voeux reçus selon le sexe et la série du baccalauréat<br>\n",
    "    * Le nombre de voeux classés par l’établissement de la formation d’accueil selon la série du baccalauréat<br>\n",
    "    * Le nombre de propositions d’admission faites selon la série du baccalauréat <br>\n",
    "    * Le nombre d’admis selon le sexe, la série du baccalauréat et la mention obtenue<br>\n",
    "    * Le nombre de boursiers <br>\n",
    "    \n",
    "Des dérivés de ces données sont entre autres les pourcentages correspondants. En plus de cela, les informations qualitatives notamment le caractère sélectif de l'établissement, son statut (public, privé etc.) et son type (lycéee, université etc.) sont renseignées. Ce qui permettra de faire des analyses compratives selon les dimensions qualitatives.\n",
    "* **Les données sur les voeux émis par les candidats :** \n",
    "L'un des objectif de ce travail est de pouvoir trouver les variables pertinentes pour expliquer l'attractivité des établissements. C'est dans ce but, que nous avons décider d'inclure dans l'analyse les données reltives à l'insertion des diplômés des différents établissements et selon les filières. Les données obtenues renseignent globalement sur l'insertion des diplômés en 2018. Nous avons choisi ce décallage (de deux ans, comparé à la base sur les voeux qui est de 2020) pour essayer de capter la pertinence d'une éventuelle liaison. Car il est plus vraisemblable que les taux d'insertion observés en 2018 aient un impact sur l'attractivité en 2020, plutôt de prendre les taux observés à la même date. Les informations qui nous intéressent tournent principalement autour de :<br>\n",
    "\n",
    "    * Le taux d'insertion dans le marché du travail est diplômés<br>\n",
    "    * Les salaires de ces diplômés<br>\n",
    "    * Le domaine d'emploi<br>\n"
   ]
  },
  {
   "cell_type": "markdown",
   "id": "ee8e404a",
   "metadata": {},
   "source": [
    "  \n",
    "### b. Scraping des données "
   ]
  },
  {
   "cell_type": "code",
   "execution_count": 2,
   "id": "ae922fa0",
   "metadata": {},
   "outputs": [],
   "source": [
    "#Racine principale de récupération des données\n",
    "glob_path = \"https://data.enseignementsup-recherche.gouv.fr/api/records/1.0/search/?dataset=\""
   ]
  },
  {
   "cell_type": "markdown",
   "id": "52818fcc",
   "metadata": {},
   "source": [
    "* **VŒUX DE POURSUITE D'ETUDES**"
   ]
  },
  {
   "cell_type": "markdown",
   "id": "61c4d87b",
   "metadata": {},
   "source": [
    "On a 12760 lignes d'individus et l'Api ne permet pas de récupérer plus de 10 000 lignes et donc on a troué comme astuce de récupérer selon le type de l'établissement avant de merger les bases."
   ]
  },
  {
   "cell_type": "code",
   "execution_count": 3,
   "id": "ad19da6a",
   "metadata": {},
   "outputs": [],
   "source": [
    "#Segmentation pour pouvoir tout récupérer car l'API n'autorise pas plus de 10 000 lignes \n",
    "type_etablissement = [\"2_Lyc%C3%A9es\", \"1_Universit%C3%A9s\", \"3_Autres+formations\"]"
   ]
  },
  {
   "cell_type": "code",
   "execution_count": 4,
   "id": "d2b43d8a",
   "metadata": {},
   "outputs": [],
   "source": [
    "#Le lien de récupération\n",
    "voeux_poursuite = glob_path+\"fr-esr-parcoursup&rows=6020&sort=tri&facet=session&facet=contrat_etab&facet=cod_uai&facet=g_ea_lib_vx&facet=dep_lib&facet=region_etab_aff&facet=acad_mies&facet=select_form&facet=fili&facet=form_lib_voe_acc&facet=regr_forma&facet=fil_lib_voe_acc&facet=detail_forma&facet=tri&facet=cod_aff_form&q=\""
   ]
  },
  {
   "cell_type": "code",
   "execution_count": 5,
   "id": "acb19102",
   "metadata": {},
   "outputs": [],
   "source": [
    "#Récupération selon le type d'établissement\n",
    "data_etablissement = [requests.get(voeux_poursuite + type_etablissement[x]) for x in range(3)]"
   ]
  },
  {
   "cell_type": "code",
   "execution_count": 6,
   "id": "8c07eee7",
   "metadata": {},
   "outputs": [
    {
     "data": {
      "text/plain": [
       "[<Response [200]>, <Response [200]>, <Response [200]>]"
      ]
     },
     "execution_count": 6,
     "metadata": {},
     "output_type": "execute_result"
    }
   ],
   "source": [
    "#Vérification\n",
    "data_etablissement"
   ]
  },
  {
   "cell_type": "code",
   "execution_count": 7,
   "id": "31a66975",
   "metadata": {},
   "outputs": [],
   "source": [
    "#Conversion de json à pd.Dataframe\n",
    "data_etablissement = [pd.json_normalize(x.json()['records'][:]) for x in data_etablissement ]"
   ]
  },
  {
   "cell_type": "code",
   "execution_count": 19,
   "id": "eee8e064",
   "metadata": {},
   "outputs": [],
   "source": [
    "#Base bien récupérée\n",
    "global_data_voeux = pd.concat(data_etablissement)\n",
    "#Adaptation des noms\n",
    "global_data_voeux.columns = [c.replace('fields.', '') for c in list(glob_data.columns) ]"
   ]
  },
  {
   "cell_type": "markdown",
   "id": "e2d2dea0",
   "metadata": {},
   "source": [
    "* **INSERTION PROFESSIONNEL**"
   ]
  },
  {
   "cell_type": "code",
   "execution_count": 9,
   "id": "6d5047df",
   "metadata": {},
   "outputs": [],
   "source": [
    "#Définition des variables de liens dynamiques pour faciliter le scraping et ne pas avoir à faire pour chaque lien le même code\n",
    "insertion = glob_path + \"fr-esr-insertion_professionnelle-\"\n",
    "niveau = [\"lp\", \"master\"]\n",
    "complement = \"&q=&rows=1500&sort=-annee&facet=annee&facet=diplome&facet=numero_de_l_etablissement&facet=etablissement&facet=academie&facet=domaine&facet=code_de_la_discipline&facet=discipline&facet=situation&facet=cle_etab&facet=cle_disc&facet=id_paysage&refine.annee=2018\""
   ]
  },
  {
   "cell_type": "code",
   "execution_count": 10,
   "id": "c6a8ff58",
   "metadata": {},
   "outputs": [],
   "source": [
    "#Récupération selon le niveau\n",
    "data_insertion = [requests.get(insertion + niveau[x] + complement) for x in range(2)]"
   ]
  },
  {
   "cell_type": "code",
   "execution_count": 11,
   "id": "61f1565f",
   "metadata": {},
   "outputs": [],
   "source": [
    "#Conversion de json à pd.Dataframe\n",
    "data_insertion = [pd.json_normalize(x.json()['records'][:]) for x in data_insertion ]"
   ]
  },
  {
   "cell_type": "code",
   "execution_count": 12,
   "id": "65fcc2d1",
   "metadata": {},
   "outputs": [],
   "source": [
    "###Les données selon le niveau sont identifiées par la varibale datsetid"
   ]
  },
  {
   "cell_type": "code",
   "execution_count": 14,
   "id": "76451611",
   "metadata": {},
   "outputs": [],
   "source": [
    "#Extraction finale\n",
    "glob_data_insertion = pd.concat(data_insertion)\n",
    "glob_data_insertion.columns = [c.replace('fields.', '') for c in list(glob_data_insertion.columns) ]"
   ]
  },
  {
   "cell_type": "markdown",
   "id": "c7d6d40c",
   "metadata": {},
   "source": [
    "Ainsi, toutes nos deux bases sont bien scrapées et nous allons maintenant passé à leur diagnostic et apurement"
   ]
  },
  {
   "cell_type": "markdown",
   "id": "ea5c44bd",
   "metadata": {},
   "source": [
    "## 1.2 Diagnostic et apurement des données<div style =\"border: blue solid 1px;box-shadow: 0px 0px 10px rgba(0, 0, 0, 0.5);\tbackground-color: rgba(50, 50, 50, 0.5);\"><font color=\"black\"> </font> </div>"
   ]
  },
  {
   "cell_type": "markdown",
   "id": "cf3fba23",
   "metadata": {},
   "source": [
    "Cette section est réservée au traitement de nos données. Il s’agira de traiter les données\n",
    "manquantes (si elles sont présentes), de corriger les valeurs rares ou extrêmes qui peuvent\n",
    "déséquilibrer le modèle, de traiter les valeurs aberrantes qui conduisent à un faux modèle\n",
    "(car basé sur des mesures fausses). En outre dans l’utilisation éventuelle des méthodes\n",
    "à hypothèses de normalités (comme l’analyse discriminante de Ficher), nous effectuerons\n",
    "des tests de normalité, d’homoscédasticité pour s’assurer de la validité des modèles."
   ]
  },
  {
   "cell_type": "markdown",
   "id": "2687cc6f",
   "metadata": {},
   "source": [
    "* **VŒUX DE POURSUITE D'ETUDES**"
   ]
  },
  {
   "cell_type": "markdown",
   "id": "1dc01b43",
   "metadata": {},
   "source": [
    "### Fouille des données et Statistiques descriptives "
   ]
  },
  {
   "cell_type": "code",
   "execution_count": 20,
   "id": "066e9ad8",
   "metadata": {
    "scrolled": true
   },
   "outputs": [
    {
     "data": {
      "text/plain": [
       "120"
      ]
     },
     "execution_count": 20,
     "metadata": {},
     "output_type": "execute_result"
    }
   ],
   "source": [
    "global_data_voeux.shape[1]"
   ]
  },
  {
   "cell_type": "code",
   "execution_count": 21,
   "id": "bcf975ba",
   "metadata": {},
   "outputs": [],
   "source": [
    "df = global_data_voeux.copy()\n"
   ]
  },
  {
   "cell_type": "code",
   "execution_count": null,
   "id": "2a97149d",
   "metadata": {},
   "outputs": [],
   "source": [
    "#df = df.rename(columns = names)\n",
    "df"
   ]
  },
  {
   "cell_type": "code",
   "execution_count": null,
   "id": "b8d9bd39",
   "metadata": {},
   "outputs": [],
   "source": [
    "##Modifier les indexes\n",
    "df.set_index('cod_uai',inplace=True)\n"
   ]
  },
  {
   "cell_type": "code",
   "execution_count": null,
   "id": "68e38f53",
   "metadata": {},
   "outputs": [],
   "source": [
    "df.dtypes"
   ]
  },
  {
   "cell_type": "code",
   "execution_count": null,
   "id": "a20ba34e",
   "metadata": {},
   "outputs": [],
   "source": [
    "# Stockage des types numériques dans une liste\n",
    "numerics = ['int16', 'int32', 'int64', 'float16', 'float32', 'float64']"
   ]
  },
  {
   "cell_type": "code",
   "execution_count": null,
   "id": "1305c304",
   "metadata": {},
   "outputs": [],
   "source": [
    "# Résumé des variables quentitatives\n",
    "df.select_dtypes(include=numerics).describe()"
   ]
  },
  {
   "cell_type": "code",
   "execution_count": null,
   "id": "4519e79f",
   "metadata": {},
   "outputs": [],
   "source": [
    "#Les doublons : par précaution\n",
    "df_without_list = df.drop(['g_olocalisation_des_formations', 'geometry.coordinates'], axis = 1)"
   ]
  },
  {
   "cell_type": "code",
   "execution_count": null,
   "id": "57991af6",
   "metadata": {},
   "outputs": [],
   "source": [
    "df_without_list.duplicated().any()"
   ]
  },
  {
   "cell_type": "code",
   "execution_count": null,
   "id": "45ee1048",
   "metadata": {},
   "outputs": [],
   "source": [
    "#Valeurs manquantes ?\n",
    "def miss(df) :\n",
    "    df.isna().sum().sort_values(ascending=False)\n",
    "    missings = pd.DataFrame(df.isna().sum().sort_values(ascending=False))\n",
    "    missings.rename(columns = {0 : 'Effectif'}, inplace = True)\n",
    "    missings['Vars'] = missings.index\n",
    "    missings.reset_index(drop=True, inplace=True)\n",
    "    \n",
    "    missings['Effectif']=missings['Effectif']/glob_data.shape[0]*100\n",
    "    missings.rename(columns = {'Effectif' : 'Pourcentage de valeurs manquantes'}, inplace = True)\n",
    "    return missings"
   ]
  },
  {
   "cell_type": "code",
   "execution_count": null,
   "id": "b4277f1a",
   "metadata": {},
   "outputs": [],
   "source": [
    "missings = miss(df)"
   ]
  },
  {
   "cell_type": "code",
   "execution_count": null,
   "id": "e18048a9",
   "metadata": {},
   "outputs": [],
   "source": [
    "#Visualisation \n",
    "def visualisation(missings, seuil) :\n",
    "    plt.subplots(figsize=(10, 12))\n",
    "    sns.set_color_codes(\"pastel\")\n",
    "    sns.barplot(x=\"Pourcentage de valeurs manquantes\", y='Vars', data=missings[missings['Pourcentage de valeurs manquantes']>seuil])\n",
    "    plt.title('Pourcentage (%) des valeurs manquantes pour les variables de la base')\n"
   ]
  },
  {
   "cell_type": "code",
   "execution_count": null,
   "id": "e8fcc221",
   "metadata": {},
   "outputs": [],
   "source": [
    "viz_na(missings, seuil = 30)"
   ]
  },
  {
   "cell_type": "code",
   "execution_count": null,
   "id": "22e2c9f1",
   "metadata": {},
   "outputs": [],
   "source": [
    "#Suppression des variables \"non pertinentes\"\n",
    "    #Critère 1 : sum(NA)>30%\n",
    "var_del1 = list(missings[missings['Pourcentage de valeurs manquantes']>30]['Vars'])\n",
    "    #Critère 2 : \"pas itules pour l'analyse actuellement\"\n",
    "var_del2 = ['geometry.coordinates', 'geometry.type', 'datasetid','recordid','record_timestamp',  'g_olocalisation_des_formations', 'lien_form_psup', 'detail_forma', 'session']\n",
    "var_del = list(np.unique(var_del1 + var_del2))"
   ]
  },
  {
   "cell_type": "code",
   "execution_count": null,
   "id": "507bb6e8",
   "metadata": {},
   "outputs": [],
   "source": [
    "df = df.drop(var_del, axis = 1)"
   ]
  },
  {
   "cell_type": "code",
   "execution_count": null,
   "id": "a88e906d",
   "metadata": {
    "scrolled": true
   },
   "outputs": [],
   "source": [
    "df.head()"
   ]
  },
  {
   "cell_type": "code",
   "execution_count": null,
   "id": "927aa883",
   "metadata": {},
   "outputs": [],
   "source": [
    "#Récapitulatif\n",
    "missings_new = miss(df)\n"
   ]
  },
  {
   "cell_type": "code",
   "execution_count": null,
   "id": "d2c79b25",
   "metadata": {},
   "outputs": [],
   "source": [
    "#Variables avec au moins une valeurs manquantes :  max = 8,5..%\n",
    "viz_na(missings_new, seuil = 0)"
   ]
  },
  {
   "cell_type": "code",
   "execution_count": null,
   "id": "7d8d9d6f",
   "metadata": {},
   "outputs": [],
   "source": [
    "#Capacité de l'établissement par formation\n",
    "df['capa_fin'].isna().sum()\n",
    "\n",
    "#Un établissement"
   ]
  },
  {
   "cell_type": "code",
   "execution_count": null,
   "id": "f41b41f4",
   "metadata": {},
   "outputs": [],
   "source": [
    "df[df['capa_fin'].isna()]"
   ]
  },
  {
   "cell_type": "code",
   "execution_count": null,
   "id": "cab70af4",
   "metadata": {},
   "outputs": [],
   "source": [
    "df.drop('0120024L', inplace= True, axis = 'index')"
   ]
  },
  {
   "cell_type": "markdown",
   "id": "19fcf2b8",
   "metadata": {},
   "source": [
    "#### Imputation des valeurs manquantes"
   ]
  },
  {
   "cell_type": "code",
   "execution_count": null,
   "id": "5725ce9d",
   "metadata": {},
   "outputs": [],
   "source": [
    "#Concentrons nous d'abord sur ces variables"
   ]
  },
  {
   "cell_type": "code",
   "execution_count": null,
   "id": "51d482b1",
   "metadata": {},
   "outputs": [],
   "source": [
    "any_miss = list(missings_new[missings_new['Pourcentage de valeurs manquantes'] > 0]['Vars'])"
   ]
  },
  {
   "cell_type": "code",
   "execution_count": null,
   "id": "1b6a29bf",
   "metadata": {
    "scrolled": true
   },
   "outputs": [],
   "source": [
    "for key in any_miss:\n",
    "    print(\"{}: {}\\n\".format(key,names[key]))"
   ]
  },
  {
   "cell_type": "code",
   "execution_count": null,
   "id": "38aece03",
   "metadata": {},
   "outputs": [],
   "source": [
    "#Ces variables sont liées et peuvent être recalculées avec les données donc pas besoin d'imputation\n",
    "# taux_adm_psup = sum(rank) / nb_voe_pp\n",
    "taux = ['taux_adm_psup', 'taux_adm_psup_techno' , 'taux_adm_psup_pro', 'taux_adm_psup_gen']"
   ]
  },
  {
   "cell_type": "code",
   "execution_count": null,
   "id": "364b5310",
   "metadata": {},
   "outputs": [],
   "source": [
    "df_any_miss = df[any_miss]"
   ]
  },
  {
   "cell_type": "code",
   "execution_count": null,
   "id": "805bf593",
   "metadata": {},
   "outputs": [],
   "source": [
    "#Relation entre les variables : \n",
    "\n",
    "#pct_neobac = pct_bg + pct_bt + pct_bp + Autre\n",
    "#acc_tot = acc_neobac + Autre\n",
    "#pct_neobac = pct_bours + Autre = pct_sansmention + pct_ab + pct_b + pct_tb + pact_mention_nonrenseigne"
   ]
  },
  {
   "cell_type": "code",
   "execution_count": null,
   "id": "9d43a95b",
   "metadata": {},
   "outputs": [],
   "source": [
    "#On a aucune informations sur les répartitions des admis\n",
    "cond = (df_any_miss['pct_neobac'].isna()) & ((df_any_miss['pct_bg'].isna()) & (df_any_miss['pct_bt'].isna()) & (df_any_miss['pct_bp'].isna()) )\n",
    "df[cond]\n",
    "#Existerait-il des établissements sans admis? \n",
    "#Des établissement qui n'ont pas reçu aucune réponse sur leurs propositions\n",
    "df[df['acc_tot'] ==0]\n",
    "#S'agit-il de ces établissements : effectivement!\n",
    "df[df['acc_tot'] ==0].compare(df[cond])\n",
    "#Il est intéressant de voir ces établissements : ceux qui les caractérisent"
   ]
  },
  {
   "cell_type": "code",
   "execution_count": null,
   "id": "3daf143b",
   "metadata": {},
   "outputs": [],
   "source": [
    "#En excluant ces établissements on peut corriger les valeurs manquantes sur les pct en utilisant les effectif\n",
    "for key in ['acc_tot','acc_brs', 'acc_neobac', 'acc_ab', 'acc_b', 'acc_tb', 'acc_bg','acc_bg_mention','acc_bt', 'acc_bt_mention', 'acc_bp', 'acc_bp_mention', 'acc_at'] : \n",
    "    print(\"{}: {}\\n\".format(key,names[key]))         \n",
    "            \n",
    "        "
   ]
  },
  {
   "cell_type": "code",
   "execution_count": null,
   "id": "fa8e2422",
   "metadata": {},
   "outputs": [],
   "source": [
    "#Pour les établissements ayant au moins un admis, on a pas de valeurs manquantes sur les effectifs désagrégés (bg, bt, bp etc)\n",
    "#On peut donc corriger les pourcentages!!\n",
    "df_no_acc = df[(df['acc_tot']==0)]\n",
    "viz_na(miss(df[(df['acc_tot']!=0)]), 0)"
   ]
  },
  {
   "cell_type": "code",
   "execution_count": null,
   "id": "a7ced19a",
   "metadata": {},
   "outputs": [],
   "source": [
    "df_any_acc = df[df['acc_tot']!=0]\n",
    "df_any_acc.shape\n"
   ]
  },
  {
   "cell_type": "code",
   "execution_count": null,
   "id": "8afe5ef2",
   "metadata": {},
   "outputs": [],
   "source": [
    "#Correction pour les agrégation selon le type de formation\n",
    "dic = {'pct_bg' : 'acc_bg', 'pct_bt' : 'acc_bt', 'pct_bp' : 'acc_bp'}"
   ]
  },
  {
   "cell_type": "code",
   "execution_count": null,
   "id": "52610d0c",
   "metadata": {},
   "outputs": [],
   "source": [
    "df_any_acc.reset_index(inplace=True)\n",
    "for pct, eff in dic.items() :\n",
    "    #Dans le cas où le dénominateur est null, on remplace par 0\n",
    "    df_any_acc0 = df_any_acc[(df_any_acc[pct].isna()) & (df_any_acc[eff] == 0)].fillna({pct : 0})\n",
    "    df_any_acc = df_any_acc0.append(df_any_acc[~((df_any_acc[pct].isna()) & (df_any_acc[eff] == 0))].fillna({pct : 0}))\n",
    "    #Dans le cas où le dénominateur n'est pas null, on applique la formule\n",
    "    #df_any_acc_not_null = df_any_acc[(df_any_acc[pct].isna()) & (df_any_acc[eff] != 0)].fillna({pct : 100*df_any_acc[eff]/df_any_acc['acc_tot']})\n",
    "    #Base finale\n",
    "    #df_any_acc = df_any_acc_null.append(df_any_acc_not_null, ignore_index=True)"
   ]
  },
  {
   "cell_type": "code",
   "execution_count": null,
   "id": "20faab54",
   "metadata": {},
   "outputs": [],
   "source": [
    "#On crée la variable qui capte le pourcentage des autres candidats admis\n",
    "df_any_acc['pct_at'] = 100 - (df_any_acc['pct_neobac'])\n",
    "df_any_acc.acc_at = df_any_acc.acc_tot - df_any_acc.acc_neobac"
   ]
  },
  {
   "cell_type": "code",
   "execution_count": null,
   "id": "5f0c6134",
   "metadata": {},
   "outputs": [],
   "source": [
    "df_any_acc.shape"
   ]
  },
  {
   "cell_type": "code",
   "execution_count": null,
   "id": "7f62e536",
   "metadata": {},
   "outputs": [],
   "source": [
    "#Correction pour les agrégation selon la mention\n",
    "dic = {'pct_bg_mention' : ['acc_bg_mention', 'acc_bg'], 'pct_bt_mention' : ['acc_bt_mention', 'acc_bt'], 'pct_bp_mention' : ['acc_bp_mention', 'acc_bp']}"
   ]
  },
  {
   "cell_type": "code",
   "execution_count": null,
   "id": "54a6bbb2",
   "metadata": {},
   "outputs": [],
   "source": [
    "\n",
    "for pct, eff in dic.items() :\n",
    "    #df_any_acc[pct] = df_any_acc[eff]/df_any_acc['acc_tot']\n",
    "    \n",
    "    #df_any_acc[df_any_acc[eff[1]]!=0][pct].fillna(df_any_acc[df_any_acc[eff[1]!=0].isna()][eff[0]]/df_any_acc[~df_any_acc[eff[1]]!=0][eff[1]], inplace=True)\n",
    "    #df_any_acc[df_any_acc[eff[1]]==0][pct].fillna(0, inplace=True)\n",
    "    \n",
    "    #Dans le cas où le dénominateur est null, on remplace par 0\n",
    "    df_any_acc0 = df_any_acc[(df_any_acc[pct].isna()) & (df_any_acc[eff[1]] == 0)].fillna({pct : 0})\n",
    "    df_any_acc = df_any_acc0.append(df_any_acc[~((df_any_acc[pct].isna()) & (df_any_acc[eff[1]] == 0))].fillna({pct : 0}))\n",
    "    #Dans le cas où le dénominateur n'est pas null, on applique la formule\n",
    "    #df_any_acc = df_any_acc[(df_any_acc[pct].isna()) & (df_any_acc[eff[1]] != 0)].fillna({pct : 100*df_any_acc[eff[0]]/df_any_acc[eff[1]]})\n"
   ]
  },
  {
   "cell_type": "code",
   "execution_count": null,
   "id": "4a19c046",
   "metadata": {
    "scrolled": true
   },
   "outputs": [],
   "source": [
    "df_any_acc.shape"
   ]
  },
  {
   "cell_type": "code",
   "execution_count": null,
   "id": "3ac24435",
   "metadata": {},
   "outputs": [],
   "source": [
    "#Il semble que les valeurs manquantes sont seulement pour les établiblissements où pct_neobac=0 (normal), vérifions !\n",
    "cond = (df_any_acc.pct_mention_nonrenseignee.isna()) & (df_any_acc.pct_bours.isna()) & (df_any_acc.pct_tb.isna()) & (df_any_acc.pct_b.isna()) & (df_any_acc.pct_ab.isna()) & (df_any_acc.pct_sansmention.isna())  & (df_any_acc.pct_b.isna()) & (df_any_acc.pct_aca_orig.isna()) & (df_any_acc.pct_aca_orig_idf.isna())"
   ]
  },
  {
   "cell_type": "code",
   "execution_count": null,
   "id": "0bb76f8c",
   "metadata": {},
   "outputs": [],
   "source": [
    "var = ['pct_tb', 'pct_b', 'pct_ab', 'pct_sansmention', 'pct_bours','pct_mention_nonrenseignee',  'pct_aca_orig', 'pct_aca_orig_idf']\n"
   ]
  },
  {
   "cell_type": "code",
   "execution_count": null,
   "id": "5aadd00a",
   "metadata": {
    "scrolled": true
   },
   "outputs": [],
   "source": [
    "df_any_acc[var][cond]"
   ]
  },
  {
   "cell_type": "code",
   "execution_count": null,
   "id": "f7e5cb55",
   "metadata": {
    "scrolled": true
   },
   "outputs": [],
   "source": [
    "df_any_acc[var][df_any_acc['pct_neobac']==0]"
   ]
  },
  {
   "cell_type": "code",
   "execution_count": null,
   "id": "34e47b34",
   "metadata": {},
   "outputs": [],
   "source": [
    "#Les bases sont identiques\n",
    "df_any_acc[['pct_neobac', 'pct_tb', 'pct_b', 'pct_ab', 'pct_sansmention', 'pct_bours', 'pct_mention_nonrenseignee',  'pct_aca_orig', 'pct_aca_orig_idf']][df_any_acc['pct_neobac']==0].compare(df_any_acc[['pct_neobac', 'pct_tb', 'pct_b', 'pct_ab', 'pct_sansmention', 'pct_bours', 'pct_mention_nonrenseignee',  'pct_aca_orig', 'pct_aca_orig_idf']][cond])\n",
    "#Donc on remplace seulement les NA par 0 "
   ]
  },
  {
   "cell_type": "code",
   "execution_count": null,
   "id": "a89369d9",
   "metadata": {
    "scrolled": true
   },
   "outputs": [],
   "source": [
    "df_any_acc[var] = df_any_acc[var].apply(lambda x : x.fillna(0))"
   ]
  },
  {
   "cell_type": "code",
   "execution_count": null,
   "id": "62d2ef99",
   "metadata": {},
   "outputs": [],
   "source": [
    "df_any_acc[var][df_any_acc['pct_neobac']==0]"
   ]
  },
  {
   "cell_type": "code",
   "execution_count": null,
   "id": "a1161246",
   "metadata": {},
   "outputs": [],
   "source": [
    "viz_na(miss(df_any_acc), 0)"
   ]
  },
  {
   "cell_type": "code",
   "execution_count": null,
   "id": "ddf2e7c6",
   "metadata": {},
   "outputs": [],
   "source": [
    "#Pour les établissements où on a pas de postulants pour un type de bac donné (général, tech ou pro) le NaN dans le taux d'admis est en réalité un 0\n",
    "\n",
    "#Correction\n",
    "dic = {'pct_bg' : 'taux_adm_psup_gen', 'pct_bt' : 'taux_adm_psup_techno', 'pct_bp' : 'taux_adm_psup_pro'}"
   ]
  },
  {
   "cell_type": "code",
   "execution_count": null,
   "id": "4f1e0614",
   "metadata": {},
   "outputs": [],
   "source": [
    "df_any_acc[(df_any_acc['taux_adm_psup_gen']>0) & (df_any_acc['pct_bg']==0)][['pct_at', 'taux_adm_psup_gen','pct_bt', 'pct_bp', 'pct_bg', 'pct_neobac', 'taux_adm_psup' ]]"
   ]
  },
  {
   "cell_type": "code",
   "execution_count": null,
   "id": "c8418338",
   "metadata": {
    "scrolled": true
   },
   "outputs": [],
   "source": [
    "##BASE PROPRE\n",
    "#Les établissements ayant au moins reçu une demande admission\n",
    "df_any_acc.set_index(\"cod_uai\", inplace = True)\n",
    "#Les établissements ayant reçu aucune demande admission\n",
    "df_no_acc.fillna(0, inplace=True)\n",
    "df_no_acc['pct_at'] = 0\n",
    "\n"
   ]
  },
  {
   "cell_type": "code",
   "execution_count": null,
   "id": "6cbb770e",
   "metadata": {},
   "outputs": [],
   "source": [
    "#Variable d'identification\n",
    "df_any_acc['Reçu au moins une admission'] = 'Oui'\n",
    "df_no_acc['Reçu au moins une admission'] = 'Non'"
   ]
  },
  {
   "cell_type": "code",
   "execution_count": null,
   "id": "5000acbc",
   "metadata": {},
   "outputs": [],
   "source": [
    "#Merging des bases\n",
    "base_globale = pd.concat([df_any_acc, df_no_acc])\n",
    "base_globale.reset_index(inplace = True)\n",
    "base_globale.set_index('g_ea_lib_vx', inplace=True)"
   ]
  },
  {
   "cell_type": "code",
   "execution_count": null,
   "id": "dde497f9",
   "metadata": {},
   "outputs": [],
   "source": [
    "### Catégorisation\n",
    "#for colonne in base_globale.select_dtypes(['object','category']).columns:\n",
    "    #base_globale[colonne]=base_globale[colonne].astype('category').cat.codes"
   ]
  },
  {
   "cell_type": "code",
   "execution_count": null,
   "id": "78dc8bbd",
   "metadata": {},
   "outputs": [],
   "source": [
    "table = base_globale[['cod_uai', 'fili']].pivot_table(index='cod_uai', columns='fili', aggfunc=len)"
   ]
  },
  {
   "cell_type": "code",
   "execution_count": null,
   "id": "a6050d18",
   "metadata": {},
   "outputs": [],
   "source": [
    "matrix = 1-1*table.isna()"
   ]
  },
  {
   "cell_type": "code",
   "execution_count": null,
   "id": "8f1125cb",
   "metadata": {},
   "outputs": [],
   "source": [
    "matrix.reset_index(inplace = True)"
   ]
  },
  {
   "cell_type": "code",
   "execution_count": null,
   "id": "42e9356c",
   "metadata": {},
   "outputs": [],
   "source": [
    "matrix = matrix.melt(id_vars='cod_uai', value_vars=matrix.columns, var_name='Filière', value_name='Fréquence')"
   ]
  },
  {
   "cell_type": "code",
   "execution_count": null,
   "id": "509e9791",
   "metadata": {},
   "outputs": [],
   "source": [
    "matrix = matrix.groupby('Filière').sum()"
   ]
  },
  {
   "cell_type": "code",
   "execution_count": null,
   "id": "fcb7c199",
   "metadata": {},
   "outputs": [],
   "source": [
    "matrix['Pourcentage (%)'] = matrix['Fréquence']/table.shape[0]*100"
   ]
  },
  {
   "cell_type": "code",
   "execution_count": null,
   "id": "0465cfd7",
   "metadata": {},
   "outputs": [],
   "source": [
    "matrix.sort_values(by='Pourcentage (%)',  inplace=True, ascending=False)"
   ]
  },
  {
   "cell_type": "markdown",
   "id": "bb04c9b2",
   "metadata": {},
   "source": [
    "**Quelles sont les filières les plus présentes ?**\n",
    "\n",
    "Le graphe ci-dessous montre la filière BTS est celle la plus fréquente au niveau des établissements. Plus de 50% des établissement offrent une formation débouchant sur un diplôme BTS. Les filières les plus rares (moins de 5% des établissements) sont la filière Licence accès Santé, la filière EFTS, les écoles de commerce et la filière Parcours Accès Santé Spécifique qui n'est proposée que par 1% des établissements."
   ]
  },
  {
   "cell_type": "code",
   "execution_count": null,
   "id": "023d4510",
   "metadata": {},
   "outputs": [],
   "source": [
    "#Répartition des établissemnts selon les filières\n",
    "plt.subplots(figsize=(10, 7))\n",
    "sns.barplot(y=matrix.index,  x=\"Pourcentage (%)\", data=matrix, ci=None).set_title(\"Graphique 1 : Taux de participation des établissements selon la filière de formation\")\n"
   ]
  },
  {
   "cell_type": "code",
   "execution_count": null,
   "id": "685e98c3",
   "metadata": {},
   "outputs": [],
   "source": []
  },
  {
   "cell_type": "code",
   "execution_count": null,
   "id": "7ec2ec45",
   "metadata": {},
   "outputs": [],
   "source": []
  },
  {
   "cell_type": "code",
   "execution_count": null,
   "id": "99005232",
   "metadata": {},
   "outputs": [],
   "source": [
    "#histogramme\n",
    "def graph(data):\n",
    "    data = \n",
    "    for colonne in data.columns:\n",
    "        print('***************************************************************************')\n",
    "        print('             :------------',colonne,'------------:')\n",
    "        print('***************************************************************************')\n",
    "        df[colonne].hist()\n",
    "        plt.show()"
   ]
  },
  {
   "cell_type": "code",
   "execution_count": null,
   "id": "3e92c700",
   "metadata": {},
   "outputs": [],
   "source": [
    "graph(base_globale)"
   ]
  },
  {
   "cell_type": "code",
   "execution_count": null,
   "id": "c7a5a500",
   "metadata": {
    "scrolled": true
   },
   "outputs": [],
   "source": [
    "###Corrélation_Matrice\n",
    "corrMatrix = df_n.corr()\n",
    "sns.heatmap(corrMatrix, annot=False)\n",
    "fig = plt.gcf()\n",
    "fig.set_size_inches(20, 20)\n",
    "plt.savefig('Matrice_Correlation.png')"
   ]
  },
  {
   "cell_type": "code",
   "execution_count": null,
   "id": "bf5dc156",
   "metadata": {},
   "outputs": [],
   "source": [
    "### STATISTIQUES"
   ]
  },
  {
   "cell_type": "code",
   "execution_count": null,
   "id": "0cff6299",
   "metadata": {},
   "outputs": [],
   "source": [
    "## Effectif total des candidats pour une formation : voe_tot"
   ]
  },
  {
   "cell_type": "code",
   "execution_count": null,
   "id": "c0fd0816",
   "metadata": {},
   "outputs": [],
   "source": [
    "#selon le sexe\n",
    "\n",
    "df['voe_tot_%_filles'] = 100*df['voe_tot_f']/df['voe_tot']"
   ]
  },
  {
   "cell_type": "code",
   "execution_count": null,
   "id": "1c5974dc",
   "metadata": {},
   "outputs": [],
   "source": [
    "df['voe_tot_%_filles'].describe()"
   ]
  },
  {
   "cell_type": "code",
   "execution_count": null,
   "id": "9fb05322",
   "metadata": {},
   "outputs": [],
   "source": [
    "df['g_ea_lib_vx'][df['voe_tot_%_filles'] == 0]"
   ]
  },
  {
   "cell_type": "code",
   "execution_count": null,
   "id": "05e6e4a2",
   "metadata": {
    "scrolled": true
   },
   "outputs": [],
   "source": [
    "sns.barplot(x=\"voe_tot\",  y=\"tri\", data=df, ci=None)\n"
   ]
  },
  {
   "cell_type": "code",
   "execution_count": null,
   "id": "3827f6a4",
   "metadata": {},
   "outputs": [],
   "source": [
    "sns.barplot(x=\"voe_tot_f\",  y=\"tri\", data=df, ci=None)"
   ]
  },
  {
   "cell_type": "code",
   "execution_count": null,
   "id": "1ce04cb1",
   "metadata": {},
   "outputs": [],
   "source": [
    "data = df[['g_ea_lib_vx','voe_tot',  'voe_tot_%_filles']].melt('g_ea_lib_vx', var_name='Type', value_name='effectif')"
   ]
  },
  {
   "cell_type": "code",
   "execution_count": null,
   "id": "431c3361",
   "metadata": {},
   "outputs": [],
   "source": [
    "li = list(df['voe_tot']) + list(df['voe_tot_f'])"
   ]
  },
  {
   "cell_type": "code",
   "execution_count": null,
   "id": "38725d5c",
   "metadata": {},
   "outputs": [],
   "source": []
  },
  {
   "cell_type": "code",
   "execution_count": null,
   "id": "eedb5587",
   "metadata": {},
   "outputs": [],
   "source": [
    "#create DataFrame\n",
    "df_p = pd.DataFrame({'Valeurs':list(df['voe_tot']) + list(df['voe_tot_f']),\n",
    "                     \n",
    "                   'Tri': list(df['tri'])+ list(df['tri'])\n",
    "                     ,\n",
    "                     \n",
    "                   'Iden':['Total']*len(df)+ ['Filles']*len(df)\n",
    "                               })"
   ]
  },
  {
   "cell_type": "code",
   "execution_count": null,
   "id": "22a7fa73",
   "metadata": {},
   "outputs": [],
   "source": [
    "df_p"
   ]
  },
  {
   "cell_type": "code",
   "execution_count": null,
   "id": "b5af1cb1",
   "metadata": {
    "scrolled": true
   },
   "outputs": [],
   "source": [
    "sns.barplot(x=\"Valeurs\",  y=\"Tri\", data=df_p, ci=None, hue = 'Iden')"
   ]
  },
  {
   "cell_type": "code",
   "execution_count": null,
   "id": "68bab219",
   "metadata": {},
   "outputs": [],
   "source": [
    "df[\"filles\"] = df['voe_tot_f']\n",
    "df[\"garcons\"] = df['voe_tot'] - df['voe_tot_f']\n",
    "hom = fem = df[['tri','garcons']].groupby('tri').sum()\n",
    "fem = df[['tri','filles']].groupby('tri').sum()"
   ]
  },
  {
   "cell_type": "code",
   "execution_count": null,
   "id": "d1f25b5a",
   "metadata": {},
   "outputs": [],
   "source": [
    "base = pd.concat([hom,fem],axis = 1)\n",
    "base.reset_index(inplace = True)"
   ]
  },
  {
   "cell_type": "code",
   "execution_count": null,
   "id": "46a5712a",
   "metadata": {},
   "outputs": [],
   "source": [
    "base['garcons'] = 100*base['garcons']/(base['garcons'] + base['filles'])"
   ]
  },
  {
   "cell_type": "code",
   "execution_count": null,
   "id": "f9669a17",
   "metadata": {},
   "outputs": [],
   "source": [
    "base['filles'] =100- base['garcons']"
   ]
  },
  {
   "cell_type": "code",
   "execution_count": null,
   "id": "3587072e",
   "metadata": {},
   "outputs": [],
   "source": [
    "base_ =base.melt('tri', var_name='Sexe', value_name= \"Valeurs\")\n",
    "base_"
   ]
  },
  {
   "cell_type": "code",
   "execution_count": null,
   "id": "e624996e",
   "metadata": {},
   "outputs": [],
   "source": [
    "plt.subplots(figsize=(12, 5))\n",
    "sx = sns.barplot(x=\"Valeurs\",  y=\"tri\", data=base_, ci=None, hue = 'Sexe')\n",
    "x_labels = base_['Valeurs']\n",
    "sx.set "
   ]
  },
  {
   "cell_type": "markdown",
   "id": "6de5d9c8",
   "metadata": {},
   "source": [
    "### 1.3 INSERTION PROFESSIONNEL\n",
    "\n",
    "\n",
    "\n",
    "https://data.enseignementsup-recherche.gouv.fr/api/records/1.0/search/?dataset=fr-esr-insertion_professionnelle-lp&q=&rows=1500&facet=annee&facet=diplome&facet=numero_de_l_etablissement&facet=etablissement&facet=academie&facet=domaine&facet=code_de_la_discipline&facet=discipline&facet=situation&facet=cle_etab&facet=cle_disc&facet=id_paysage&refine.annee=2018"
   ]
  },
  {
   "cell_type": "code",
   "execution_count": null,
   "id": "8f85a4a1",
   "metadata": {},
   "outputs": [],
   "source": [
    "insertion = glob_path + \"fr-esr-insertion_professionnelle-\"\n",
    "niveau = [\"lp\", \"master\"]\n",
    "complement = \"&q=&rows=1500&sort=-annee&facet=annee&facet=diplome&facet=numero_de_l_etablissement&facet=etablissement&facet=academie&facet=domaine&facet=code_de_la_discipline&facet=discipline&facet=situation&facet=cle_etab&facet=cle_disc&facet=id_paysage&refine.annee=2018\""
   ]
  },
  {
   "cell_type": "code",
   "execution_count": null,
   "id": "5f7642af",
   "metadata": {},
   "outputs": [],
   "source": [
    "#Récupération selon le niveau\n",
    "data_insertion = [requests.get(insertion + niveau[x] + complement) for x in range(2)]"
   ]
  },
  {
   "cell_type": "code",
   "execution_count": null,
   "id": "2bae24df",
   "metadata": {},
   "outputs": [],
   "source": [
    "#Conversion de json à pd.Dataframe\n",
    "data_insertion = [pd.json_normalize(x.json()['records'][:]) for x in data_insertion ]"
   ]
  },
  {
   "cell_type": "code",
   "execution_count": null,
   "id": "ac3070fb",
   "metadata": {},
   "outputs": [],
   "source": [
    "###Les données selon le niveau sont identifiées par la varibale datsetid"
   ]
  },
  {
   "cell_type": "code",
   "execution_count": null,
   "id": "680a1663",
   "metadata": {},
   "outputs": [],
   "source": [
    "data_insertion[0].shape"
   ]
  },
  {
   "cell_type": "code",
   "execution_count": null,
   "id": "dba1008e",
   "metadata": {},
   "outputs": [],
   "source": [
    "data_insertion[1].shape"
   ]
  },
  {
   "cell_type": "code",
   "execution_count": null,
   "id": "377ef78d",
   "metadata": {},
   "outputs": [],
   "source": [
    "glob_data_insertion = pd.concat(data_insertion)\n",
    "glob_data_insertion.columns = [c.replace('fields.', '') for c in list(glob_data_insertion.columns) ]"
   ]
  },
  {
   "cell_type": "code",
   "execution_count": null,
   "id": "a44ab8d9",
   "metadata": {},
   "outputs": [],
   "source": [
    "glob_data_insertion.head()"
   ]
  },
  {
   "cell_type": "markdown",
   "id": "aa92706f",
   "metadata": {},
   "source": [
    "# ---------------------------------------------KHARIRATOU---------------------------------------------"
   ]
  },
  {
   "cell_type": "code",
   "execution_count": null,
   "id": "dd336a5e",
   "metadata": {},
   "outputs": [],
   "source": [
    "df = glob_data_insertion.copy()"
   ]
  },
  {
   "cell_type": "code",
   "execution_count": null,
   "id": "7001e678",
   "metadata": {},
   "outputs": [],
   "source": [
    "import seaborn as sns"
   ]
  },
  {
   "cell_type": "code",
   "execution_count": null,
   "id": "c1cf3044",
   "metadata": {},
   "outputs": [],
   "source": [
    "import numpy as np"
   ]
  },
  {
   "cell_type": "code",
   "execution_count": null,
   "id": "e8db25a2",
   "metadata": {},
   "outputs": [],
   "source": [
    "df['na']=np.nan"
   ]
  },
  {
   "cell_type": "code",
   "execution_count": null,
   "id": "4ed9b874",
   "metadata": {
    "scrolled": false
   },
   "outputs": [],
   "source": [
    "df['na']"
   ]
  },
  {
   "cell_type": "code",
   "execution_count": null,
   "id": "328a707e",
   "metadata": {},
   "outputs": [],
   "source": [
    "df[df['taux_dinsertion']=='ns']"
   ]
  },
  {
   "cell_type": "code",
   "execution_count": null,
   "id": "2491c336",
   "metadata": {},
   "outputs": [],
   "source": [
    "df['taux_dinsertion'].replace({'ns': np.nan}, inplace = True)"
   ]
  },
  {
   "cell_type": "code",
   "execution_count": null,
   "id": "56619116",
   "metadata": {},
   "outputs": [],
   "source": [
    "df[df['taux_dinsertion'] == 'nd'] = np.nan"
   ]
  },
  {
   "cell_type": "code",
   "execution_count": null,
   "id": "d10f99cf",
   "metadata": {},
   "outputs": [],
   "source": [
    "df[df['taux_dinsertion'] == 'nd']"
   ]
  },
  {
   "cell_type": "code",
   "execution_count": null,
   "id": "887b0d3f",
   "metadata": {},
   "outputs": [],
   "source": [
    "#création variable nombre de personnes insérées\n",
    "df[\"taux_dinsertion\"] = df[\"taux_dinsertion\"].astype('float64')\n",
    "df[\"nombre_de_reponses\"] = df[\"nombre_de_reponses\"].astype('float64')\n",
    "    \n",
    "df['nb_insertion']= df[\"taux_dinsertion\"]*df[\"nombre_de_reponses\"]"
   ]
  },
  {
   "cell_type": "code",
   "execution_count": null,
   "id": "c0dbef98",
   "metadata": {},
   "outputs": [],
   "source": [
    "df_g.reset_index(inplace = True)"
   ]
  },
  {
   "cell_type": "code",
   "execution_count": null,
   "id": "69d5f415",
   "metadata": {},
   "outputs": [],
   "source": [
    "df_g"
   ]
  },
  {
   "cell_type": "markdown",
   "id": "b05956a9",
   "metadata": {},
   "source": [
    "# Répartition des insérés par discipline et par établissement"
   ]
  },
  {
   "cell_type": "code",
   "execution_count": null,
   "id": "569c50b5",
   "metadata": {},
   "outputs": [],
   "source": [
    "# Répartition du nombre d'insérés par discipline\n",
    "df_g =df.groupby(['discipline']).sum('nb_insertion')\n",
    "df_g.reset_index(inplace = True)\n",
    "sns.barplot(x=\"nb_insertion\", y=\"discipline\", data=df_g)"
   ]
  },
  {
   "cell_type": "code",
   "execution_count": null,
   "id": "5216bd73",
   "metadata": {},
   "outputs": [],
   "source": [
    "df_g =df.groupby(['domaine']).sum('nb_insertion')\n",
    "df_g.reset_index(inplace = True)\n",
    "sns.barplot(x=\"nb_insertion\", y=\"domaine\", data=df_g)"
   ]
  },
  {
   "cell_type": "code",
   "execution_count": null,
   "id": "1aec6560",
   "metadata": {},
   "outputs": [],
   "source": [
    "# Répartion du nombre des insérés par établissement\n",
    "df_g =df.groupby(['cle_etab']).sum('nb_insertion')\n",
    "df_g.reset_index(inplace = True)\n",
    "sns.barplot(x=\"nb_insertion\", y=\"cle_etab\", data=df_g)"
   ]
  },
  {
   "cell_type": "code",
   "execution_count": null,
   "id": "447a2e5c",
   "metadata": {},
   "outputs": [],
   "source": [
    "# Répartion du nombre des insérés par établissement\n",
    "df_g =df.groupby(['cle_etab']).sum('nb_insertion')\n",
    "df_g.reset_index(inplace = True)\n",
    "df_g"
   ]
  },
  {
   "cell_type": "code",
   "execution_count": null,
   "id": "f49e669d",
   "metadata": {},
   "outputs": [],
   "source": [
    "#import pandas as pd\n",
    "#pd.crosstab(df.cle_etab, df.nb_insertion).apply(lambda r: r/len(df), axis=1)\n",
    "\n",
    "#freq = df.groupby(['cle_etab']).sum('nb_insertion').sort_values\n",
    "#print(freq)"
   ]
  },
  {
   "cell_type": "markdown",
   "id": "06446dbf",
   "metadata": {},
   "source": [
    "# Caractéristiques des sortants et caractéristiques des sortants insérés"
   ]
  },
  {
   "cell_type": "markdown",
   "id": "5c9b679e",
   "metadata": {},
   "source": [
    "## Par sexe"
   ]
  },
  {
   "cell_type": "code",
   "execution_count": null,
   "id": "0a759c04",
   "metadata": {},
   "outputs": [],
   "source": [
    "#création variable nombre de femmes\n",
    "df[df['femmes'] == 'ns'] = np.nan\n",
    "df[df['femmes'] == 'nd'] = np.nan\n",
    "\n",
    "df[\"femmes\"] = df[\"femmes\"].astype('float64')\n",
    "df[\"nombre_de_reponses\"] = df[\"nombre_de_reponses\"].astype('float64')\n",
    "    \n",
    "df['nb_femmes']= df[\"femmes\"]*df[\"nombre_de_reponses\"]"
   ]
  },
  {
   "cell_type": "code",
   "execution_count": null,
   "id": "dfe2c6af",
   "metadata": {},
   "outputs": [],
   "source": [
    "# Répartition du nombre de femmes diplomées par discipline\n",
    "df_g =df.groupby(['discipline']).sum('nb_femmes')\n",
    "df_g.reset_index(inplace = True)\n",
    "sns.barplot(x=\"nb_femmes\", y=\"discipline\", data=df_g)"
   ]
  },
  {
   "cell_type": "code",
   "execution_count": null,
   "id": "73464f97",
   "metadata": {},
   "outputs": [],
   "source": [
    "df_g =df.groupby(['domaine']).sum('nb_femmes')\n",
    "df_g.reset_index(inplace = True)\n",
    "sns.barplot(x=\"nb_femmes\", y=\"domaine\", data=df_g)"
   ]
  },
  {
   "cell_type": "code",
   "execution_count": null,
   "id": "124a9d65",
   "metadata": {},
   "outputs": [],
   "source": [
    "# Représentation Proportion des femmes insérées selon l'établissement???\n",
    "df['nb_femmes_inserees']= df[\"nb_femmes\"]/df[\"nb_insertion\"]\n",
    "df_g1 =df.groupby(['cle_etab']).sum('nb_femmes_inserees')\n",
    "#df_g1.reset_index(inplace = True)\n",
    "df_g1"
   ]
  },
  {
   "cell_type": "code",
   "execution_count": null,
   "id": "aac2622f",
   "metadata": {},
   "outputs": [],
   "source": [
    "# Répartition proportion de femmes insérées par discipline\n",
    "df_g2 =df.groupby(['discipline']).sum('nb_femmes_inserees')\n",
    "df_g2.reset_index(inplace = True)\n",
    "sns.barplot(x=\"nb_femmes_inserees\", y=\"discipline\", data=df_g2)"
   ]
  },
  {
   "cell_type": "markdown",
   "id": "feff4abe",
   "metadata": {},
   "source": [
    "## Par nombre de boursiers"
   ]
  },
  {
   "cell_type": "code",
   "execution_count": null,
   "id": "3aa268c6",
   "metadata": {},
   "outputs": [],
   "source": [
    "#création variable nombre de diplomés boursiers\n",
    "df[df['de_diplomes_boursiers'] == 'ns'] = np.nan\n",
    "df[df['de_diplomes_boursiers'] == 'nd'] = np.nan\n",
    "\n",
    "df[\"de_diplomes_boursiers\"] = df[\"de_diplomes_boursiers\"].astype('float64')\n",
    "df[\"nombre_de_reponses\"] = df[\"nombre_de_reponses\"].astype('float64')\n",
    "    \n",
    "df['nb_de_diplomes_boursiers']= df[\"de_diplomes_boursiers\"]*df[\"nombre_de_reponses\"]"
   ]
  },
  {
   "cell_type": "code",
   "execution_count": null,
   "id": "f287e9b2",
   "metadata": {},
   "outputs": [],
   "source": [
    "# nb de diplomés boursiers /etab /discipline\n",
    "df_g =df.groupby(['discipline']).sum('nb_de_diplomes_boursiers')\n",
    "df_g.reset_index(inplace = True)\n",
    "sns.barplot(x=\"nb_de_diplomes_boursiers\", y=\"discipline\", data=df_g)"
   ]
  },
  {
   "cell_type": "code",
   "execution_count": null,
   "id": "13d565b1",
   "metadata": {},
   "outputs": [],
   "source": [
    "df_g =df.groupby(['domaine']).sum('nb_de_diplomes_boursiers')\n",
    "df_g.reset_index(inplace = True)\n",
    "sns.barplot(x=\"nb_de_diplomes_boursiers\", y=\"domaine\", data=df_g)"
   ]
  },
  {
   "cell_type": "code",
   "execution_count": null,
   "id": "a827677b",
   "metadata": {
    "scrolled": true
   },
   "outputs": [],
   "source": [
    "# Représentation Proportion de boursiers insérés selon l'établissement???\n",
    "df['nb_boursiers_inseres']= df[\"nb_de_diplomes_boursiers\"]/df[\"nb_insertion\"]\n",
    "df_g1 =df.groupby(['cle_etab']).sum('nb_boursiers_inseres')\n",
    "#df_g1.reset_index(inplace = True)\n",
    "df_g1"
   ]
  },
  {
   "cell_type": "code",
   "execution_count": null,
   "id": "fa8f0218",
   "metadata": {},
   "outputs": [],
   "source": [
    "# Répartition proportion de boursiers insérés par discipline\n",
    "df_g2 =df.groupby(['discipline']).sum('nb_boursiers_inseres')\n",
    "df_g2.reset_index(inplace = True)\n",
    "sns.barplot(x=\"nb_boursiers_inseres\", y=\"discipline\", data=df_g2)"
   ]
  },
  {
   "cell_type": "markdown",
   "id": "6497cc08",
   "metadata": {},
   "source": [
    "## Par nombre d'emplois stables"
   ]
  },
  {
   "cell_type": "code",
   "execution_count": null,
   "id": "d2739527",
   "metadata": {},
   "outputs": [],
   "source": [
    "#création variable nombre d'emplois stables\n",
    "df[df['emplois_stables'] == 'ns'] = np.nan\n",
    "df[df['emplois_stables'] == 'nd'] = np.nan\n",
    "\n",
    "df[\"emplois_stables\"] = df[\"emplois_stables\"].astype('float64')\n",
    "df[\"nombre_de_reponses\"] = df[\"nombre_de_reponses\"].astype('float64')\n",
    "    \n",
    "df['nb_emplois_stables']= df[\"emplois_stables\"]*df[\"nombre_de_reponses\"]"
   ]
  },
  {
   "cell_type": "code",
   "execution_count": null,
   "id": "92037882",
   "metadata": {},
   "outputs": [],
   "source": [
    "# nb de emplois stables /etab /discipline\n",
    "df_g =df.groupby(['discipline']).sum('nb_emplois_stables')\n",
    "df_g.reset_index(inplace = True)\n",
    "sns.barplot(x=\"nb_emplois_stables\", y=\"discipline\", data=df_g)"
   ]
  },
  {
   "cell_type": "code",
   "execution_count": null,
   "id": "f9f12cc2",
   "metadata": {},
   "outputs": [],
   "source": [
    "df_g =df.groupby(['domaine']).sum('nb_emplois_stables')\n",
    "df_g.reset_index(inplace = True)\n",
    "sns.barplot(x=\"nb_emplois_stables\", y=\"domaine\", data=df_g)"
   ]
  },
  {
   "cell_type": "code",
   "execution_count": null,
   "id": "601a4f64",
   "metadata": {},
   "outputs": [],
   "source": [
    "# Représentation Proportion de emplois stables des insérés selon l'établissement???\n",
    "df['nb_emplois_stables_inseres']= df[\"nb_emplois_stables\"]/df[\"nb_insertion\"]\n",
    "df_g1 =df.groupby(['cle_etab']).sum('nb_emplois_stables_inseres')\n",
    "#df_g1.reset_index(inplace = True)\n",
    "df_g1"
   ]
  },
  {
   "cell_type": "code",
   "execution_count": null,
   "id": "e7e766e5",
   "metadata": {},
   "outputs": [],
   "source": [
    "# Répartition proportion de emplois stables des insérés par discipline\n",
    "df_g2 =df.groupby(['discipline']).sum('nb_emplois_stables_inseres')\n",
    "df_g2.reset_index(inplace = True)\n",
    "sns.barplot(x=\"nb_emplois_stables_inseres\", y=\"discipline\", data=df_g2)"
   ]
  },
  {
   "cell_type": "markdown",
   "id": "8a9c03c7",
   "metadata": {},
   "source": [
    "## Selon le salaire"
   ]
  },
  {
   "cell_type": "code",
   "execution_count": null,
   "id": "562232bd",
   "metadata": {},
   "outputs": [],
   "source": [
    "#création variable salaires bruts annuels estimés\n",
    "df[df['salaire_brut_annuel_estime'] == 'ns'] = np.nan\n",
    "df[df['salaire_brut_annuel_estime'] == 'nd'] = np.nan\n",
    "\n",
    "df[\"salaire_brut_annuel_estime\"] = df[\"salaire_brut_annuel_estime\"].astype('float64')"
   ]
  },
  {
   "cell_type": "code",
   "execution_count": null,
   "id": "1223ed98",
   "metadata": {},
   "outputs": [],
   "source": [
    "# Répartition des salaires bruts annuels /discipline\n",
    "df_g =df.groupby(['discipline']).sum('salaire_brut_annuel_estime')\n",
    "df_g.reset_index(inplace = True)\n",
    "sns.barplot(x=\"salaire_brut_annuel_estime\", y=\"discipline\", data=df_g)"
   ]
  },
  {
   "cell_type": "code",
   "execution_count": null,
   "id": "ec9abd59",
   "metadata": {},
   "outputs": [],
   "source": [
    "df_g =df.groupby(['domaine']).sum('salaire_brut_annuel_estime')\n",
    "df_g.reset_index(inplace = True)\n",
    "sns.barplot(x=\"salaire_brut_annuel_estime\", y=\"domaine\", data=df_g)"
   ]
  },
  {
   "cell_type": "code",
   "execution_count": null,
   "id": "de3b1b4d",
   "metadata": {},
   "outputs": [],
   "source": [
    "# Représentation de salaires bruts annuels selon l'établissement???\n",
    "df_g1 =df.groupby(['cle_etab']).sum('salaire_brut_annuel_estime')\n",
    "#df_g1.reset_index(inplace = True)\n",
    "df_g1"
   ]
  },
  {
   "cell_type": "code",
   "execution_count": null,
   "id": "e8db641a",
   "metadata": {},
   "outputs": [],
   "source": []
  },
  {
   "cell_type": "code",
   "execution_count": null,
   "id": "da597616",
   "metadata": {},
   "outputs": [],
   "source": []
  },
  {
   "cell_type": "code",
   "execution_count": null,
   "id": "f35b53a3",
   "metadata": {},
   "outputs": [],
   "source": []
  },
  {
   "cell_type": "code",
   "execution_count": null,
   "id": "64430257",
   "metadata": {},
   "outputs": [],
   "source": []
  },
  {
   "cell_type": "code",
   "execution_count": null,
   "id": "3bf73d84",
   "metadata": {},
   "outputs": [],
   "source": []
  },
  {
   "cell_type": "markdown",
   "id": "37c0a8c8",
   "metadata": {},
   "source": [
    "# BROUILLON"
   ]
  },
  {
   "cell_type": "code",
   "execution_count": null,
   "id": "96450fd0",
   "metadata": {},
   "outputs": [],
   "source": [
    "columns_names = pd.json_normalize(req.json()['facet_groups'][:])"
   ]
  },
  {
   "cell_type": "code",
   "execution_count": null,
   "id": "36770367",
   "metadata": {},
   "outputs": [],
   "source": [
    "columns_names = list(ses_2020.columns)\n",
    "columns_names1 = [c.replace('fields.', '') for c in columns_names ]"
   ]
  },
  {
   "cell_type": "code",
   "execution_count": null,
   "id": "c6cf8706",
   "metadata": {
    "scrolled": true
   },
   "outputs": [],
   "source": [
    "dic=dict()\n",
    "for i in range(len(columns_names)) :\n",
    "    dic[columns_names[i]] = columns_names1[i]\n",
    "ses_2020.rename(dic)"
   ]
  }
 ],
 "metadata": {
  "kernelspec": {
   "display_name": "Python 3 (ipykernel)",
   "language": "python",
   "name": "python3"
  },
  "language_info": {
   "codemirror_mode": {
    "name": "ipython",
    "version": 3
   },
   "file_extension": ".py",
   "mimetype": "text/x-python",
   "name": "python",
   "nbconvert_exporter": "python",
   "pygments_lexer": "ipython3",
   "version": "3.9.7"
  }
 },
 "nbformat": 4,
 "nbformat_minor": 5
}
